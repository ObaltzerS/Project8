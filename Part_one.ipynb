{
 "cells": [
  {
   "cell_type": "code",
   "execution_count": 22,
   "id": "7c8a2f48",
   "metadata": {},
   "outputs": [],
   "source": [
    "import pandas as pd\n",
    "import seaborn as sb\n",
    "import matplotlib.pyplot as plt\n",
    "import pandas as pd\n",
    "import numpy as np\n",
    "from matplotlib import pyplot as plt\n",
    "import seaborn as sns\n",
    "from datetime import datetime"
   ]
  },
  {
   "cell_type": "markdown",
   "id": "d7b7d42e",
   "metadata": {},
   "source": [
    "# Part Two - Oliver"
   ]
  },
  {
   "cell_type": "code",
   "execution_count": 2,
   "id": "e31185d2",
   "metadata": {},
   "outputs": [],
   "source": [
    "df = pd.read_csv(\"angel_timestamps.csv\")\n",
    "df['datetime'] = pd.to_datetime(df['Start Time'])\n",
    "df = df.sort_values(by = 'datetime', ascending=True)"
   ]
  },
  {
   "cell_type": "markdown",
   "id": "460a5275",
   "metadata": {},
   "source": [
    "What is the longest time between timestamps? What is the average time between timestamps?"
   ]
  },
  {
   "cell_type": "code",
   "execution_count": 3,
   "id": "bddfb76c",
   "metadata": {},
   "outputs": [
    {
     "data": {
      "text/plain": [
       "Index(['Unnamed: 0', 'Start Time', 'datetime', 'time_delta'], dtype='object')"
      ]
     },
     "execution_count": 3,
     "metadata": {},
     "output_type": "execute_result"
    }
   ],
   "source": [
    "df['time_delta'] = df[\"datetime\"].diff()\n",
    "df.columns"
   ]
  },
  {
   "cell_type": "code",
   "execution_count": 4,
   "id": "23a3ef5e",
   "metadata": {},
   "outputs": [],
   "source": [
    "df = df.drop('Start Time', axis=1)\n"
   ]
  },
  {
   "cell_type": "code",
   "execution_count": 5,
   "id": "841df6f0",
   "metadata": {},
   "outputs": [
    {
     "data": {
      "text/plain": [
       "count                         5092\n",
       "mean     0 days 06:37:41.868224666\n",
       "std      0 days 23:37:50.115210269\n",
       "min                0 days 00:00:00\n",
       "25%                0 days 00:16:30\n",
       "50%                0 days 00:29:08\n",
       "75%         0 days 02:13:28.750000\n",
       "max               25 days 01:35:12\n",
       "Name: time_delta, dtype: object"
      ]
     },
     "execution_count": 5,
     "metadata": {},
     "output_type": "execute_result"
    }
   ],
   "source": [
    "df['time_delta'].describe()"
   ]
  },
  {
   "cell_type": "markdown",
   "id": "c274a887",
   "metadata": {},
   "source": [
    "Looks like the longest time between records was about 25 days, while the average time between records was about 6 hours."
   ]
  },
  {
   "cell_type": "markdown",
   "id": "757ae94e",
   "metadata": {},
   "source": [
    "What is the day with the most timestamps? How many events (timestamps) were on that day? "
   ]
  },
  {
   "cell_type": "code",
   "execution_count": 6,
   "id": "632d21fa",
   "metadata": {},
   "outputs": [],
   "source": [
    "df['days'] = pd.DatetimeIndex(df['datetime']).day\n",
    "df['month'] = pd.DatetimeIndex(df['datetime']).month\n",
    "df['year'] = pd.DatetimeIndex(df['datetime']).year"
   ]
  },
  {
   "cell_type": "code",
   "execution_count": 7,
   "id": "59a7ce93",
   "metadata": {},
   "outputs": [
    {
     "data": {
      "text/html": [
       "<div>\n",
       "<style scoped>\n",
       "    .dataframe tbody tr th:only-of-type {\n",
       "        vertical-align: middle;\n",
       "    }\n",
       "\n",
       "    .dataframe tbody tr th {\n",
       "        vertical-align: top;\n",
       "    }\n",
       "\n",
       "    .dataframe thead th {\n",
       "        text-align: right;\n",
       "    }\n",
       "</style>\n",
       "<table border=\"1\" class=\"dataframe\">\n",
       "  <thead>\n",
       "    <tr style=\"text-align: right;\">\n",
       "      <th></th>\n",
       "      <th></th>\n",
       "      <th></th>\n",
       "      <th>Unnamed: 0</th>\n",
       "      <th>datetime</th>\n",
       "      <th>time_delta</th>\n",
       "    </tr>\n",
       "    <tr>\n",
       "      <th>year</th>\n",
       "      <th>month</th>\n",
       "      <th>days</th>\n",
       "      <th></th>\n",
       "      <th></th>\n",
       "      <th></th>\n",
       "    </tr>\n",
       "  </thead>\n",
       "  <tbody>\n",
       "    <tr>\n",
       "      <th rowspan=\"5\" valign=\"top\">2019</th>\n",
       "      <th rowspan=\"5\" valign=\"top\">12</th>\n",
       "      <th>16</th>\n",
       "      <td>14</td>\n",
       "      <td>14</td>\n",
       "      <td>13</td>\n",
       "    </tr>\n",
       "    <tr>\n",
       "      <th>17</th>\n",
       "      <td>9</td>\n",
       "      <td>9</td>\n",
       "      <td>9</td>\n",
       "    </tr>\n",
       "    <tr>\n",
       "      <th>18</th>\n",
       "      <td>6</td>\n",
       "      <td>6</td>\n",
       "      <td>6</td>\n",
       "    </tr>\n",
       "    <tr>\n",
       "      <th>19</th>\n",
       "      <td>5</td>\n",
       "      <td>5</td>\n",
       "      <td>5</td>\n",
       "    </tr>\n",
       "    <tr>\n",
       "      <th>20</th>\n",
       "      <td>14</td>\n",
       "      <td>14</td>\n",
       "      <td>14</td>\n",
       "    </tr>\n",
       "    <tr>\n",
       "      <th>...</th>\n",
       "      <th>...</th>\n",
       "      <th>...</th>\n",
       "      <td>...</td>\n",
       "      <td>...</td>\n",
       "      <td>...</td>\n",
       "    </tr>\n",
       "    <tr>\n",
       "      <th rowspan=\"5\" valign=\"top\">2023</th>\n",
       "      <th rowspan=\"5\" valign=\"top\">10</th>\n",
       "      <th>18</th>\n",
       "      <td>1</td>\n",
       "      <td>1</td>\n",
       "      <td>1</td>\n",
       "    </tr>\n",
       "    <tr>\n",
       "      <th>19</th>\n",
       "      <td>3</td>\n",
       "      <td>3</td>\n",
       "      <td>3</td>\n",
       "    </tr>\n",
       "    <tr>\n",
       "      <th>20</th>\n",
       "      <td>10</td>\n",
       "      <td>10</td>\n",
       "      <td>10</td>\n",
       "    </tr>\n",
       "    <tr>\n",
       "      <th>21</th>\n",
       "      <td>5</td>\n",
       "      <td>5</td>\n",
       "      <td>5</td>\n",
       "    </tr>\n",
       "    <tr>\n",
       "      <th>22</th>\n",
       "      <td>20</td>\n",
       "      <td>20</td>\n",
       "      <td>20</td>\n",
       "    </tr>\n",
       "  </tbody>\n",
       "</table>\n",
       "<p>817 rows × 3 columns</p>\n",
       "</div>"
      ],
      "text/plain": [
       "                 Unnamed: 0  datetime  time_delta\n",
       "year month days                                  \n",
       "2019 12    16            14        14          13\n",
       "           17             9         9           9\n",
       "           18             6         6           6\n",
       "           19             5         5           5\n",
       "           20            14        14          14\n",
       "...                     ...       ...         ...\n",
       "2023 10    18             1         1           1\n",
       "           19             3         3           3\n",
       "           20            10        10          10\n",
       "           21             5         5           5\n",
       "           22            20        20          20\n",
       "\n",
       "[817 rows x 3 columns]"
      ]
     },
     "execution_count": 7,
     "metadata": {},
     "output_type": "execute_result"
    }
   ],
   "source": [
    "df_by_day = df.groupby(['year','month','days']).count()\n",
    "df_by_day # dataframe grouped by unique day"
   ]
  },
  {
   "cell_type": "code",
   "execution_count": 8,
   "id": "7eb7535a",
   "metadata": {},
   "outputs": [
    {
     "data": {
      "text/html": [
       "<div>\n",
       "<style scoped>\n",
       "    .dataframe tbody tr th:only-of-type {\n",
       "        vertical-align: middle;\n",
       "    }\n",
       "\n",
       "    .dataframe tbody tr th {\n",
       "        vertical-align: top;\n",
       "    }\n",
       "\n",
       "    .dataframe thead th {\n",
       "        text-align: right;\n",
       "    }\n",
       "</style>\n",
       "<table border=\"1\" class=\"dataframe\">\n",
       "  <thead>\n",
       "    <tr style=\"text-align: right;\">\n",
       "      <th></th>\n",
       "      <th></th>\n",
       "      <th></th>\n",
       "      <th>Unnamed: 0</th>\n",
       "      <th>datetime</th>\n",
       "      <th>time_delta</th>\n",
       "    </tr>\n",
       "    <tr>\n",
       "      <th>year</th>\n",
       "      <th>month</th>\n",
       "      <th>days</th>\n",
       "      <th></th>\n",
       "      <th></th>\n",
       "      <th></th>\n",
       "    </tr>\n",
       "  </thead>\n",
       "  <tbody>\n",
       "    <tr>\n",
       "      <th>2023</th>\n",
       "      <th>7</th>\n",
       "      <th>20</th>\n",
       "      <td>61</td>\n",
       "      <td>61</td>\n",
       "      <td>61</td>\n",
       "    </tr>\n",
       "  </tbody>\n",
       "</table>\n",
       "</div>"
      ],
      "text/plain": [
       "                 Unnamed: 0  datetime  time_delta\n",
       "year month days                                  \n",
       "2023 7     20            61        61          61"
      ]
     },
     "execution_count": 8,
     "metadata": {},
     "output_type": "execute_result"
    }
   ],
   "source": [
    "df_by_day[df_by_day['datetime'] == df_by_day['datetime'].max()]"
   ]
  },
  {
   "cell_type": "markdown",
   "id": "41be5ece",
   "metadata": {},
   "source": [
    "Looks like the day with the most records was July 20th, 2023. It had 61 datetime instances recorded."
   ]
  },
  {
   "cell_type": "markdown",
   "id": "fa8d3002",
   "metadata": {},
   "source": [
    "What is the month with the most timestamps? How many events (timestamps) were on that month?"
   ]
  },
  {
   "cell_type": "code",
   "execution_count": 9,
   "id": "6011df55",
   "metadata": {},
   "outputs": [],
   "source": [
    "df_by_month = df.groupby(['month']).count()"
   ]
  },
  {
   "cell_type": "code",
   "execution_count": 10,
   "id": "54a944a4",
   "metadata": {},
   "outputs": [
    {
     "data": {
      "text/html": [
       "<div>\n",
       "<style scoped>\n",
       "    .dataframe tbody tr th:only-of-type {\n",
       "        vertical-align: middle;\n",
       "    }\n",
       "\n",
       "    .dataframe tbody tr th {\n",
       "        vertical-align: top;\n",
       "    }\n",
       "\n",
       "    .dataframe thead th {\n",
       "        text-align: right;\n",
       "    }\n",
       "</style>\n",
       "<table border=\"1\" class=\"dataframe\">\n",
       "  <thead>\n",
       "    <tr style=\"text-align: right;\">\n",
       "      <th></th>\n",
       "      <th>Unnamed: 0</th>\n",
       "      <th>datetime</th>\n",
       "      <th>time_delta</th>\n",
       "      <th>days</th>\n",
       "      <th>year</th>\n",
       "    </tr>\n",
       "    <tr>\n",
       "      <th>month</th>\n",
       "      <th></th>\n",
       "      <th></th>\n",
       "      <th></th>\n",
       "      <th></th>\n",
       "      <th></th>\n",
       "    </tr>\n",
       "  </thead>\n",
       "  <tbody>\n",
       "    <tr>\n",
       "      <th>7</th>\n",
       "      <td>901</td>\n",
       "      <td>901</td>\n",
       "      <td>901</td>\n",
       "      <td>901</td>\n",
       "      <td>901</td>\n",
       "    </tr>\n",
       "  </tbody>\n",
       "</table>\n",
       "</div>"
      ],
      "text/plain": [
       "       Unnamed: 0  datetime  time_delta  days  year\n",
       "month                                              \n",
       "7             901       901         901   901   901"
      ]
     },
     "execution_count": 10,
     "metadata": {},
     "output_type": "execute_result"
    }
   ],
   "source": [
    "df_by_month[df_by_month['datetime'] == df_by_month['datetime'].max()]"
   ]
  },
  {
   "cell_type": "markdown",
   "id": "3c487406",
   "metadata": {},
   "source": [
    "The month with the most records was July, with 901 instances recorded."
   ]
  },
  {
   "cell_type": "markdown",
   "id": "34aacf8e",
   "metadata": {},
   "source": [
    "Create at least one visualization of this data, using matplotlib/pyplot or Seaborn (refer back to our earlier class activities on visualizing time series data).  What can they tell you about the data?"
   ]
  },
  {
   "cell_type": "markdown",
   "id": "8120c6d1",
   "metadata": {},
   "source": [
    "What do you think the source of this data is? Write a few sentences explaining your reasoning, as well as what other data might help you verify if you are correct?"
   ]
  },
  {
   "cell_type": "code",
   "execution_count": 11,
   "id": "7e1b6c68",
   "metadata": {},
   "outputs": [
    {
     "data": {
      "image/png": "[encoded data removed]",
      "text/plain": [
       "<Figure size 640x480 with 1 Axes>"
      ]
     },
     "metadata": {},
     "output_type": "display_data"
    }
   ],
   "source": [
    "plot = sb.violinplot(x='month', y='days', data = df, inner='quartiles').set(xlabel = \"month\", ylabel = 'day')"
   ]
  },
  {
   "cell_type": "markdown",
   "id": "036d89f9",
   "metadata": {},
   "source": [
    "visualization of when the rows were recorded in the month by day"
   ]
  },
  {
   "cell_type": "markdown",
   "id": "e691b144",
   "metadata": {},
   "source": [
    "My guess as to what the data is: I think this could be music or location data. The number of instances per day seems a little low to be spotify, however I don't know how often Angel listens to music. Given the highly variat time between instances beint recorded I think the most likely option is music. I think I could improve my guess by looking at other datasets of either music or location data and comparing them to this one."
   ]
  },
  {
   "cell_type": "markdown",
   "id": "39172180",
   "metadata": {},
   "source": [
    "# Part Four - Oliver"
   ]
  },
  {
   "cell_type": "markdown",
   "id": "2af6cbab",
   "metadata": {},
   "source": [
    "At least two clear questions that you ask and then (attempt to) answer via data analysis"
   ]
  },
  {
   "cell_type": "code",
   "execution_count": 12,
   "id": "db493d77",
   "metadata": {},
   "outputs": [
    {
     "data": {
      "text/html": [
       "<div>\n",
       "<style scoped>\n",
       "    .dataframe tbody tr th:only-of-type {\n",
       "        vertical-align: middle;\n",
       "    }\n",
       "\n",
       "    .dataframe tbody tr th {\n",
       "        vertical-align: top;\n",
       "    }\n",
       "\n",
       "    .dataframe thead th {\n",
       "        text-align: right;\n",
       "    }\n",
       "</style>\n",
       "<table border=\"1\" class=\"dataframe\">\n",
       "  <thead>\n",
       "    <tr style=\"text-align: right;\">\n",
       "      <th></th>\n",
       "      <th>Unnamed: 0</th>\n",
       "      <th>TimeStamp</th>\n",
       "    </tr>\n",
       "  </thead>\n",
       "  <tbody>\n",
       "    <tr>\n",
       "      <th>0</th>\n",
       "      <td>0</td>\n",
       "      <td>2022-10-17 20:47:00</td>\n",
       "    </tr>\n",
       "    <tr>\n",
       "      <th>1</th>\n",
       "      <td>1</td>\n",
       "      <td>2022-10-20 00:02:00</td>\n",
       "    </tr>\n",
       "    <tr>\n",
       "      <th>2</th>\n",
       "      <td>2</td>\n",
       "      <td>2022-10-20 00:02:00</td>\n",
       "    </tr>\n",
       "    <tr>\n",
       "      <th>3</th>\n",
       "      <td>3</td>\n",
       "      <td>2022-10-20 00:02:00</td>\n",
       "    </tr>\n",
       "    <tr>\n",
       "      <th>4</th>\n",
       "      <td>4</td>\n",
       "      <td>2022-10-20 00:02:00</td>\n",
       "    </tr>\n",
       "    <tr>\n",
       "      <th>...</th>\n",
       "      <td>...</td>\n",
       "      <td>...</td>\n",
       "    </tr>\n",
       "    <tr>\n",
       "      <th>9995</th>\n",
       "      <td>9995</td>\n",
       "      <td>2023-01-01 20:52:00</td>\n",
       "    </tr>\n",
       "    <tr>\n",
       "      <th>9996</th>\n",
       "      <td>9996</td>\n",
       "      <td>2023-01-01 20:52:00</td>\n",
       "    </tr>\n",
       "    <tr>\n",
       "      <th>9997</th>\n",
       "      <td>9997</td>\n",
       "      <td>2023-01-01 20:52:00</td>\n",
       "    </tr>\n",
       "    <tr>\n",
       "      <th>9998</th>\n",
       "      <td>9998</td>\n",
       "      <td>2023-01-01 20:52:00</td>\n",
       "    </tr>\n",
       "    <tr>\n",
       "      <th>9999</th>\n",
       "      <td>9999</td>\n",
       "      <td>2023-01-01 20:52:00</td>\n",
       "    </tr>\n",
       "  </tbody>\n",
       "</table>\n",
       "<p>10000 rows × 2 columns</p>\n",
       "</div>"
      ],
      "text/plain": [
       "      Unnamed: 0            TimeStamp\n",
       "0              0  2022-10-17 20:47:00\n",
       "1              1  2022-10-20 00:02:00\n",
       "2              2  2022-10-20 00:02:00\n",
       "3              3  2022-10-20 00:02:00\n",
       "4              4  2022-10-20 00:02:00\n",
       "...          ...                  ...\n",
       "9995        9995  2023-01-01 20:52:00\n",
       "9996        9996  2023-01-01 20:52:00\n",
       "9997        9997  2023-01-01 20:52:00\n",
       "9998        9998  2023-01-01 20:52:00\n",
       "9999        9999  2023-01-01 20:52:00\n",
       "\n",
       "[10000 rows x 2 columns]"
      ]
     },
     "execution_count": 12,
     "metadata": {},
     "output_type": "execute_result"
    }
   ],
   "source": [
    "df = pd.read_csv(\"TimeStamps\")\n",
    "df"
   ]
  },
  {
   "cell_type": "markdown",
   "id": "abe35612",
   "metadata": {},
   "source": [
    "Q1: What is the most common time of day that I listen to music? \n",
    "\n",
    "Q2: On which day of the daset did I listen to the most music?"
   ]
  },
  {
   "cell_type": "code",
   "execution_count": 13,
   "id": "5931d099",
   "metadata": {},
   "outputs": [],
   "source": [
    "df[\"hour\"] = pd.DatetimeIndex(df['TimeStamp']).hour\n",
    "df[\"day\"] = pd.DatetimeIndex(df['TimeStamp']).day\n",
    "df[\"month\"] = pd.DatetimeIndex(df['TimeStamp']).month\n",
    "df[\"year\"] = pd.DatetimeIndex(df['TimeStamp']).year"
   ]
  },
  {
   "cell_type": "code",
   "execution_count": 14,
   "id": "175c1073",
   "metadata": {},
   "outputs": [],
   "source": [
    "df_common_hour = df.groupby(\"hour\").count()"
   ]
  },
  {
   "cell_type": "code",
   "execution_count": 15,
   "id": "6671cde0",
   "metadata": {},
   "outputs": [
    {
     "data": {
      "text/html": [
       "<div>\n",
       "<style scoped>\n",
       "    .dataframe tbody tr th:only-of-type {\n",
       "        vertical-align: middle;\n",
       "    }\n",
       "\n",
       "    .dataframe tbody tr th {\n",
       "        vertical-align: top;\n",
       "    }\n",
       "\n",
       "    .dataframe thead th {\n",
       "        text-align: right;\n",
       "    }\n",
       "</style>\n",
       "<table border=\"1\" class=\"dataframe\">\n",
       "  <thead>\n",
       "    <tr style=\"text-align: right;\">\n",
       "      <th></th>\n",
       "      <th>Unnamed: 0</th>\n",
       "      <th>TimeStamp</th>\n",
       "      <th>day</th>\n",
       "      <th>month</th>\n",
       "      <th>year</th>\n",
       "    </tr>\n",
       "    <tr>\n",
       "      <th>hour</th>\n",
       "      <th></th>\n",
       "      <th></th>\n",
       "      <th></th>\n",
       "      <th></th>\n",
       "      <th></th>\n",
       "    </tr>\n",
       "  </thead>\n",
       "  <tbody>\n",
       "    <tr>\n",
       "      <th>20</th>\n",
       "      <td>1224</td>\n",
       "      <td>1224</td>\n",
       "      <td>1224</td>\n",
       "      <td>1224</td>\n",
       "      <td>1224</td>\n",
       "    </tr>\n",
       "  </tbody>\n",
       "</table>\n",
       "</div>"
      ],
      "text/plain": [
       "      Unnamed: 0  TimeStamp   day  month  year\n",
       "hour                                          \n",
       "20          1224       1224  1224   1224  1224"
      ]
     },
     "execution_count": 15,
     "metadata": {},
     "output_type": "execute_result"
    }
   ],
   "source": [
    "df_common_hour[df_common_hour[\"TimeStamp\"] == df_common_hour[\"TimeStamp\"].max()]"
   ]
  },
  {
   "cell_type": "markdown",
   "id": "34fd63d4",
   "metadata": {},
   "source": [
    "looks like the most common time among the dataset for me to listen to music is \"20\" which is 8pm which makes sense, that is when I typically do homework and listen to music."
   ]
  },
  {
   "cell_type": "code",
   "execution_count": 16,
   "id": "a3dd478d",
   "metadata": {},
   "outputs": [],
   "source": [
    "df_days = df.groupby(['month', 'day', 'year']).count()"
   ]
  },
  {
   "cell_type": "code",
   "execution_count": 17,
   "id": "75a2046c",
   "metadata": {},
   "outputs": [
    {
     "data": {
      "text/html": [
       "<div>\n",
       "<style scoped>\n",
       "    .dataframe tbody tr th:only-of-type {\n",
       "        vertical-align: middle;\n",
       "    }\n",
       "\n",
       "    .dataframe tbody tr th {\n",
       "        vertical-align: top;\n",
       "    }\n",
       "\n",
       "    .dataframe thead th {\n",
       "        text-align: right;\n",
       "    }\n",
       "</style>\n",
       "<table border=\"1\" class=\"dataframe\">\n",
       "  <thead>\n",
       "    <tr style=\"text-align: right;\">\n",
       "      <th></th>\n",
       "      <th></th>\n",
       "      <th></th>\n",
       "      <th>Unnamed: 0</th>\n",
       "      <th>TimeStamp</th>\n",
       "      <th>hour</th>\n",
       "    </tr>\n",
       "    <tr>\n",
       "      <th>month</th>\n",
       "      <th>day</th>\n",
       "      <th>year</th>\n",
       "      <th></th>\n",
       "      <th></th>\n",
       "      <th></th>\n",
       "    </tr>\n",
       "  </thead>\n",
       "  <tbody>\n",
       "    <tr>\n",
       "      <th>12</th>\n",
       "      <th>30</th>\n",
       "      <th>2022</th>\n",
       "      <td>449</td>\n",
       "      <td>449</td>\n",
       "      <td>449</td>\n",
       "    </tr>\n",
       "  </tbody>\n",
       "</table>\n",
       "</div>"
      ],
      "text/plain": [
       "                Unnamed: 0  TimeStamp  hour\n",
       "month day year                             \n",
       "12    30  2022         449        449   449"
      ]
     },
     "execution_count": 17,
     "metadata": {},
     "output_type": "execute_result"
    }
   ],
   "source": [
    "df_days[df_days['TimeStamp'] == df_days['TimeStamp'].max()]"
   ]
  },
  {
   "cell_type": "markdown",
   "id": "dbda650f",
   "metadata": {},
   "source": [
    "looks like on December 30th, of 2022 I listened to the most music, I was on break at this time so it makes sense that I was listening to a lot of music."
   ]
  },
  {
   "cell_type": "markdown",
   "id": "3ea9b787",
   "metadata": {},
   "source": [
    "I will visualize the amount of data recorded each day of the dataset"
   ]
  },
  {
   "cell_type": "code",
   "execution_count": 18,
   "id": "bea5cc34",
   "metadata": {},
   "outputs": [],
   "source": [
    "\n",
    "df['unique_date'] = pd.DatetimeIndex(df['TimeStamp']).date"
   ]
  },
  {
   "cell_type": "code",
   "execution_count": 19,
   "id": "24892c15",
   "metadata": {},
   "outputs": [
    {
     "data": {
      "text/html": [
       "<div>\n",
       "<style scoped>\n",
       "    .dataframe tbody tr th:only-of-type {\n",
       "        vertical-align: middle;\n",
       "    }\n",
       "\n",
       "    .dataframe tbody tr th {\n",
       "        vertical-align: top;\n",
       "    }\n",
       "\n",
       "    .dataframe thead th {\n",
       "        text-align: right;\n",
       "    }\n",
       "</style>\n",
       "<table border=\"1\" class=\"dataframe\">\n",
       "  <thead>\n",
       "    <tr style=\"text-align: right;\">\n",
       "      <th></th>\n",
       "      <th>Unnamed: 0</th>\n",
       "      <th>TimeStamp</th>\n",
       "      <th>hour</th>\n",
       "      <th>day</th>\n",
       "      <th>month</th>\n",
       "      <th>year</th>\n",
       "      <th>date</th>\n",
       "      <th>count</th>\n",
       "    </tr>\n",
       "    <tr>\n",
       "      <th>unique_date</th>\n",
       "      <th></th>\n",
       "      <th></th>\n",
       "      <th></th>\n",
       "      <th></th>\n",
       "      <th></th>\n",
       "      <th></th>\n",
       "      <th></th>\n",
       "      <th></th>\n",
       "    </tr>\n",
       "  </thead>\n",
       "  <tbody>\n",
       "    <tr>\n",
       "      <th>2022-10-17</th>\n",
       "      <td>1</td>\n",
       "      <td>1</td>\n",
       "      <td>1</td>\n",
       "      <td>1</td>\n",
       "      <td>1</td>\n",
       "      <td>1</td>\n",
       "      <td>2022-10-17</td>\n",
       "      <td>1</td>\n",
       "    </tr>\n",
       "    <tr>\n",
       "      <th>2022-10-20</th>\n",
       "      <td>124</td>\n",
       "      <td>124</td>\n",
       "      <td>124</td>\n",
       "      <td>124</td>\n",
       "      <td>124</td>\n",
       "      <td>124</td>\n",
       "      <td>2022-10-20</td>\n",
       "      <td>124</td>\n",
       "    </tr>\n",
       "    <tr>\n",
       "      <th>2022-10-21</th>\n",
       "      <td>141</td>\n",
       "      <td>141</td>\n",
       "      <td>141</td>\n",
       "      <td>141</td>\n",
       "      <td>141</td>\n",
       "      <td>141</td>\n",
       "      <td>2022-10-21</td>\n",
       "      <td>141</td>\n",
       "    </tr>\n",
       "    <tr>\n",
       "      <th>2022-10-22</th>\n",
       "      <td>85</td>\n",
       "      <td>85</td>\n",
       "      <td>85</td>\n",
       "      <td>85</td>\n",
       "      <td>85</td>\n",
       "      <td>85</td>\n",
       "      <td>2022-10-22</td>\n",
       "      <td>85</td>\n",
       "    </tr>\n",
       "    <tr>\n",
       "      <th>2022-10-23</th>\n",
       "      <td>96</td>\n",
       "      <td>96</td>\n",
       "      <td>96</td>\n",
       "      <td>96</td>\n",
       "      <td>96</td>\n",
       "      <td>96</td>\n",
       "      <td>2022-10-23</td>\n",
       "      <td>96</td>\n",
       "    </tr>\n",
       "    <tr>\n",
       "      <th>...</th>\n",
       "      <td>...</td>\n",
       "      <td>...</td>\n",
       "      <td>...</td>\n",
       "      <td>...</td>\n",
       "      <td>...</td>\n",
       "      <td>...</td>\n",
       "      <td>...</td>\n",
       "      <td>...</td>\n",
       "    </tr>\n",
       "    <tr>\n",
       "      <th>2022-12-28</th>\n",
       "      <td>129</td>\n",
       "      <td>129</td>\n",
       "      <td>129</td>\n",
       "      <td>129</td>\n",
       "      <td>129</td>\n",
       "      <td>129</td>\n",
       "      <td>2022-12-28</td>\n",
       "      <td>129</td>\n",
       "    </tr>\n",
       "    <tr>\n",
       "      <th>2022-12-29</th>\n",
       "      <td>230</td>\n",
       "      <td>230</td>\n",
       "      <td>230</td>\n",
       "      <td>230</td>\n",
       "      <td>230</td>\n",
       "      <td>230</td>\n",
       "      <td>2022-12-29</td>\n",
       "      <td>230</td>\n",
       "    </tr>\n",
       "    <tr>\n",
       "      <th>2022-12-30</th>\n",
       "      <td>449</td>\n",
       "      <td>449</td>\n",
       "      <td>449</td>\n",
       "      <td>449</td>\n",
       "      <td>449</td>\n",
       "      <td>449</td>\n",
       "      <td>2022-12-30</td>\n",
       "      <td>449</td>\n",
       "    </tr>\n",
       "    <tr>\n",
       "      <th>2022-12-31</th>\n",
       "      <td>180</td>\n",
       "      <td>180</td>\n",
       "      <td>180</td>\n",
       "      <td>180</td>\n",
       "      <td>180</td>\n",
       "      <td>180</td>\n",
       "      <td>2022-12-31</td>\n",
       "      <td>180</td>\n",
       "    </tr>\n",
       "    <tr>\n",
       "      <th>2023-01-01</th>\n",
       "      <td>45</td>\n",
       "      <td>45</td>\n",
       "      <td>45</td>\n",
       "      <td>45</td>\n",
       "      <td>45</td>\n",
       "      <td>45</td>\n",
       "      <td>2023-01-01</td>\n",
       "      <td>45</td>\n",
       "    </tr>\n",
       "  </tbody>\n",
       "</table>\n",
       "<p>75 rows × 8 columns</p>\n",
       "</div>"
      ],
      "text/plain": [
       "             Unnamed: 0  TimeStamp  hour  day  month  year        date  count\n",
       "unique_date                                                                  \n",
       "2022-10-17            1          1     1    1      1     1  2022-10-17      1\n",
       "2022-10-20          124        124   124  124    124   124  2022-10-20    124\n",
       "2022-10-21          141        141   141  141    141   141  2022-10-21    141\n",
       "2022-10-22           85         85    85   85     85    85  2022-10-22     85\n",
       "2022-10-23           96         96    96   96     96    96  2022-10-23     96\n",
       "...                 ...        ...   ...  ...    ...   ...         ...    ...\n",
       "2022-12-28          129        129   129  129    129   129  2022-12-28    129\n",
       "2022-12-29          230        230   230  230    230   230  2022-12-29    230\n",
       "2022-12-30          449        449   449  449    449   449  2022-12-30    449\n",
       "2022-12-31          180        180   180  180    180   180  2022-12-31    180\n",
       "2023-01-01           45         45    45   45     45    45  2023-01-01     45\n",
       "\n",
       "[75 rows x 8 columns]"
      ]
     },
     "execution_count": 19,
     "metadata": {},
     "output_type": "execute_result"
    }
   ],
   "source": [
    "grouped = df.groupby('unique_date').count()\n",
    "grouped[\"date\"] = grouped.index\n",
    "grouped[\"count\"] = grouped[\"TimeStamp\"]\n",
    "grouped"
   ]
  },
  {
   "cell_type": "code",
   "execution_count": 20,
   "id": "21228b6d",
   "metadata": {},
   "outputs": [],
   "source": [
    "grouped.drop([\"Unnamed: 0\",\"TimeStamp\",\"hour\",\"day\",\"month\", \"year\"], axis = 1)\n",
    "melted = pd.melt(grouped, id_vars=\"date\", value_vars=\"count\")"
   ]
  },
  {
   "cell_type": "code",
   "execution_count": 21,
   "id": "aa96a1aa",
   "metadata": {},
   "outputs": [
    {
     "data": {
      "text/plain": [
       "([<matplotlib.axis.XTick at 0x162b09250>,\n",
       "  <matplotlib.axis.XTick at 0x162b03310>,\n",
       "  <matplotlib.axis.XTick at 0x162c47f10>,\n",
       "  <matplotlib.axis.XTick at 0x162c73490>,\n",
       "  <matplotlib.axis.XTick at 0x162c81250>,\n",
       "  <matplotlib.axis.XTick at 0x162be0b50>,\n",
       "  <matplotlib.axis.XTick at 0x162c88c50>,\n",
       "  <matplotlib.axis.XTick at 0x162c8af50>,\n",
       "  <matplotlib.axis.XTick at 0x162c8d210>,\n",
       "  <matplotlib.axis.XTick at 0x162c8f590>,\n",
       "  <matplotlib.axis.XTick at 0x162c07d10>,\n",
       "  <matplotlib.axis.XTick at 0x162c98a90>,\n",
       "  <matplotlib.axis.XTick at 0x162c9c190>,\n",
       "  <matplotlib.axis.XTick at 0x162c9e410>,\n",
       "  <matplotlib.axis.XTick at 0x162ca47d0>],\n",
       " [Text(0, 0, '2022-10-17'),\n",
       "  Text(5, 0, '2022-10-24'),\n",
       "  Text(10, 0, '2022-10-29'),\n",
       "  Text(15, 0, '2022-11-03'),\n",
       "  Text(20, 0, '2022-11-08'),\n",
       "  Text(25, 0, '2022-11-13'),\n",
       "  Text(30, 0, '2022-11-18'),\n",
       "  Text(35, 0, '2022-11-23'),\n",
       "  Text(40, 0, '2022-11-28'),\n",
       "  Text(45, 0, '2022-12-03'),\n",
       "  Text(50, 0, '2022-12-08'),\n",
       "  Text(55, 0, '2022-12-13'),\n",
       "  Text(60, 0, '2022-12-18'),\n",
       "  Text(65, 0, '2022-12-23'),\n",
       "  Text(70, 0, '2022-12-28')])"
      ]
     },
     "execution_count": 21,
     "metadata": {},
     "output_type": "execute_result"
    },
    {
     "data": {
      "image/png": "[encoded data removed]",
      "text/plain": [
       "<Figure size 640x480 with 1 Axes>"
      ]
     },
     "metadata": {},
     "output_type": "display_data"
    }
   ],
   "source": [
    "plot = sb.barplot(data=grouped, x = 'date', y = 'count')\n",
    "plt.xticks(range(0, len(grouped['date']), 5), grouped['date'][::5], rotation=45)\n"
   ]
  },
  {
   "cell_type": "markdown",
   "id": "398bb050",
   "metadata": {},
   "source": [
    "Visualization of the number of instances per day."
   ]
  },
  {
   "cell_type": "markdown",
   "id": "a17e2691",
   "metadata": {},
   "source": [
    "# Part Two - Angel"
   ]
  },
  {
   "cell_type": "code",
   "execution_count": 24,
   "id": "9523d08a",
   "metadata": {},
   "outputs": [],
   "source": [
    "oliver_timestamps = pd.read_csv(\"TimeStamps\")"
   ]
  },
  {
   "cell_type": "code",
   "execution_count": 25,
   "id": "7f0df191",
   "metadata": {},
   "outputs": [
    {
     "data": {
      "text/html": [
       "<div>\n",
       "<style scoped>\n",
       "    .dataframe tbody tr th:only-of-type {\n",
       "        vertical-align: middle;\n",
       "    }\n",
       "\n",
       "    .dataframe tbody tr th {\n",
       "        vertical-align: top;\n",
       "    }\n",
       "\n",
       "    .dataframe thead th {\n",
       "        text-align: right;\n",
       "    }\n",
       "</style>\n",
       "<table border=\"1\" class=\"dataframe\">\n",
       "  <thead>\n",
       "    <tr style=\"text-align: right;\">\n",
       "      <th></th>\n",
       "      <th>Unnamed: 0</th>\n",
       "      <th>TimeStamp</th>\n",
       "    </tr>\n",
       "  </thead>\n",
       "  <tbody>\n",
       "    <tr>\n",
       "      <th>0</th>\n",
       "      <td>0</td>\n",
       "      <td>2022-10-17 20:47:00</td>\n",
       "    </tr>\n",
       "    <tr>\n",
       "      <th>1</th>\n",
       "      <td>1</td>\n",
       "      <td>2022-10-20 00:02:00</td>\n",
       "    </tr>\n",
       "    <tr>\n",
       "      <th>2</th>\n",
       "      <td>2</td>\n",
       "      <td>2022-10-20 00:02:00</td>\n",
       "    </tr>\n",
       "    <tr>\n",
       "      <th>3</th>\n",
       "      <td>3</td>\n",
       "      <td>2022-10-20 00:02:00</td>\n",
       "    </tr>\n",
       "    <tr>\n",
       "      <th>4</th>\n",
       "      <td>4</td>\n",
       "      <td>2022-10-20 00:02:00</td>\n",
       "    </tr>\n",
       "    <tr>\n",
       "      <th>...</th>\n",
       "      <td>...</td>\n",
       "      <td>...</td>\n",
       "    </tr>\n",
       "    <tr>\n",
       "      <th>9995</th>\n",
       "      <td>9995</td>\n",
       "      <td>2023-01-01 20:52:00</td>\n",
       "    </tr>\n",
       "    <tr>\n",
       "      <th>9996</th>\n",
       "      <td>9996</td>\n",
       "      <td>2023-01-01 20:52:00</td>\n",
       "    </tr>\n",
       "    <tr>\n",
       "      <th>9997</th>\n",
       "      <td>9997</td>\n",
       "      <td>2023-01-01 20:52:00</td>\n",
       "    </tr>\n",
       "    <tr>\n",
       "      <th>9998</th>\n",
       "      <td>9998</td>\n",
       "      <td>2023-01-01 20:52:00</td>\n",
       "    </tr>\n",
       "    <tr>\n",
       "      <th>9999</th>\n",
       "      <td>9999</td>\n",
       "      <td>2023-01-01 20:52:00</td>\n",
       "    </tr>\n",
       "  </tbody>\n",
       "</table>\n",
       "<p>10000 rows × 2 columns</p>\n",
       "</div>"
      ],
      "text/plain": [
       "      Unnamed: 0            TimeStamp\n",
       "0              0  2022-10-17 20:47:00\n",
       "1              1  2022-10-20 00:02:00\n",
       "2              2  2022-10-20 00:02:00\n",
       "3              3  2022-10-20 00:02:00\n",
       "4              4  2022-10-20 00:02:00\n",
       "...          ...                  ...\n",
       "9995        9995  2023-01-01 20:52:00\n",
       "9996        9996  2023-01-01 20:52:00\n",
       "9997        9997  2023-01-01 20:52:00\n",
       "9998        9998  2023-01-01 20:52:00\n",
       "9999        9999  2023-01-01 20:52:00\n",
       "\n",
       "[10000 rows x 2 columns]"
      ]
     },
     "execution_count": 25,
     "metadata": {},
     "output_type": "execute_result"
    }
   ],
   "source": [
    "oliver_timestamps"
   ]
  },
  {
   "cell_type": "code",
   "execution_count": 26,
   "id": "7a814b06",
   "metadata": {},
   "outputs": [
    {
     "data": {
      "text/html": [
       "<div>\n",
       "<style scoped>\n",
       "    .dataframe tbody tr th:only-of-type {\n",
       "        vertical-align: middle;\n",
       "    }\n",
       "\n",
       "    .dataframe tbody tr th {\n",
       "        vertical-align: top;\n",
       "    }\n",
       "\n",
       "    .dataframe thead th {\n",
       "        text-align: right;\n",
       "    }\n",
       "</style>\n",
       "<table border=\"1\" class=\"dataframe\">\n",
       "  <thead>\n",
       "    <tr style=\"text-align: right;\">\n",
       "      <th></th>\n",
       "      <th>Unnamed: 0</th>\n",
       "      <th>TimeStamp</th>\n",
       "    </tr>\n",
       "  </thead>\n",
       "  <tbody>\n",
       "    <tr>\n",
       "      <th>0</th>\n",
       "      <td>0</td>\n",
       "      <td>2022-10-17 20:47:00</td>\n",
       "    </tr>\n",
       "    <tr>\n",
       "      <th>1</th>\n",
       "      <td>1</td>\n",
       "      <td>2022-10-20 00:02:00</td>\n",
       "    </tr>\n",
       "    <tr>\n",
       "      <th>2</th>\n",
       "      <td>2</td>\n",
       "      <td>2022-10-20 00:02:00</td>\n",
       "    </tr>\n",
       "    <tr>\n",
       "      <th>3</th>\n",
       "      <td>3</td>\n",
       "      <td>2022-10-20 00:02:00</td>\n",
       "    </tr>\n",
       "    <tr>\n",
       "      <th>4</th>\n",
       "      <td>4</td>\n",
       "      <td>2022-10-20 00:02:00</td>\n",
       "    </tr>\n",
       "  </tbody>\n",
       "</table>\n",
       "</div>"
      ],
      "text/plain": [
       "   Unnamed: 0            TimeStamp\n",
       "0           0  2022-10-17 20:47:00\n",
       "1           1  2022-10-20 00:02:00\n",
       "2           2  2022-10-20 00:02:00\n",
       "3           3  2022-10-20 00:02:00\n",
       "4           4  2022-10-20 00:02:00"
      ]
     },
     "execution_count": 26,
     "metadata": {},
     "output_type": "execute_result"
    }
   ],
   "source": [
    "oliver_timestamps.head()"
   ]
  },
  {
   "cell_type": "code",
   "execution_count": 27,
   "id": "51a64e99",
   "metadata": {},
   "outputs": [],
   "source": [
    "oliver_timestamps[\"TimeStamp\"] = pd.to_datetime(oliver_timestamps[\"TimeStamp\"])"
   ]
  },
  {
   "cell_type": "code",
   "execution_count": 28,
   "id": "984e677e",
   "metadata": {},
   "outputs": [],
   "source": [
    "oliver_timestamps = oliver_timestamps.sort_index()\n",
    "#Sorting the timestamps "
   ]
  },
  {
   "cell_type": "code",
   "execution_count": 29,
   "id": "ec5613ef",
   "metadata": {},
   "outputs": [],
   "source": [
    "oliver_timestamps['Time Difference'] = oliver_timestamps['TimeStamp'].diff()\n",
    "#Finding the difference between each timestamp"
   ]
  },
  {
   "cell_type": "markdown",
   "id": "33d17b16",
   "metadata": {},
   "source": [
    "Answer: What is the longest time between timestamps? What is the average time between timestamps?"
   ]
  },
  {
   "cell_type": "code",
   "execution_count": 30,
   "id": "cf49ee88",
   "metadata": {},
   "outputs": [
    {
     "data": {
      "text/plain": [
       "Timedelta('2 days 03:15:00')"
      ]
     },
     "execution_count": 30,
     "metadata": {},
     "output_type": "execute_result"
    }
   ],
   "source": [
    "oliver_timestamps[\"Time Difference\"].max() #The longest time between timestamps is 2 days, 3hrs and 15min."
   ]
  },
  {
   "cell_type": "code",
   "execution_count": 31,
   "id": "5edb7111",
   "metadata": {},
   "outputs": [
    {
     "data": {
      "text/plain": [
       "Timedelta('0 days 00:10:56.735673567')"
      ]
     },
     "execution_count": 31,
     "metadata": {},
     "output_type": "execute_result"
    }
   ],
   "source": [
    "oliver_timestamps[\"Time Difference\"].mean()\n",
    "#The average time between timestamps is 10 minutes and 56 seconds."
   ]
  },
  {
   "cell_type": "markdown",
   "id": "55034e4e",
   "metadata": {},
   "source": [
    "Answer: What is the day with the most timestamps? How many events (timestamps) were on that day? "
   ]
  },
  {
   "cell_type": "code",
   "execution_count": 32,
   "id": "253e1a4e",
   "metadata": {},
   "outputs": [],
   "source": [
    "oliver_timestamps['days'] = pd.DatetimeIndex(oliver_timestamps['TimeStamp']).day"
   ]
  },
  {
   "cell_type": "code",
   "execution_count": 33,
   "id": "5132556d",
   "metadata": {},
   "outputs": [
    {
     "data": {
      "text/html": [
       "<div>\n",
       "<style scoped>\n",
       "    .dataframe tbody tr th:only-of-type {\n",
       "        vertical-align: middle;\n",
       "    }\n",
       "\n",
       "    .dataframe tbody tr th {\n",
       "        vertical-align: top;\n",
       "    }\n",
       "\n",
       "    .dataframe thead th {\n",
       "        text-align: right;\n",
       "    }\n",
       "</style>\n",
       "<table border=\"1\" class=\"dataframe\">\n",
       "  <thead>\n",
       "    <tr style=\"text-align: right;\">\n",
       "      <th></th>\n",
       "      <th>Unnamed: 0</th>\n",
       "      <th>TimeStamp</th>\n",
       "      <th>Time Difference</th>\n",
       "      <th>days</th>\n",
       "    </tr>\n",
       "  </thead>\n",
       "  <tbody>\n",
       "    <tr>\n",
       "      <th>0</th>\n",
       "      <td>0</td>\n",
       "      <td>2022-10-17 20:47:00</td>\n",
       "      <td>NaT</td>\n",
       "      <td>17</td>\n",
       "    </tr>\n",
       "    <tr>\n",
       "      <th>1</th>\n",
       "      <td>1</td>\n",
       "      <td>2022-10-20 00:02:00</td>\n",
       "      <td>2 days 03:15:00</td>\n",
       "      <td>20</td>\n",
       "    </tr>\n",
       "    <tr>\n",
       "      <th>2</th>\n",
       "      <td>2</td>\n",
       "      <td>2022-10-20 00:02:00</td>\n",
       "      <td>0 days 00:00:00</td>\n",
       "      <td>20</td>\n",
       "    </tr>\n",
       "    <tr>\n",
       "      <th>3</th>\n",
       "      <td>3</td>\n",
       "      <td>2022-10-20 00:02:00</td>\n",
       "      <td>0 days 00:00:00</td>\n",
       "      <td>20</td>\n",
       "    </tr>\n",
       "    <tr>\n",
       "      <th>4</th>\n",
       "      <td>4</td>\n",
       "      <td>2022-10-20 00:02:00</td>\n",
       "      <td>0 days 00:00:00</td>\n",
       "      <td>20</td>\n",
       "    </tr>\n",
       "    <tr>\n",
       "      <th>...</th>\n",
       "      <td>...</td>\n",
       "      <td>...</td>\n",
       "      <td>...</td>\n",
       "      <td>...</td>\n",
       "    </tr>\n",
       "    <tr>\n",
       "      <th>9995</th>\n",
       "      <td>9995</td>\n",
       "      <td>2023-01-01 20:52:00</td>\n",
       "      <td>0 days 00:00:00</td>\n",
       "      <td>1</td>\n",
       "    </tr>\n",
       "    <tr>\n",
       "      <th>9996</th>\n",
       "      <td>9996</td>\n",
       "      <td>2023-01-01 20:52:00</td>\n",
       "      <td>0 days 00:00:00</td>\n",
       "      <td>1</td>\n",
       "    </tr>\n",
       "    <tr>\n",
       "      <th>9997</th>\n",
       "      <td>9997</td>\n",
       "      <td>2023-01-01 20:52:00</td>\n",
       "      <td>0 days 00:00:00</td>\n",
       "      <td>1</td>\n",
       "    </tr>\n",
       "    <tr>\n",
       "      <th>9998</th>\n",
       "      <td>9998</td>\n",
       "      <td>2023-01-01 20:52:00</td>\n",
       "      <td>0 days 00:00:00</td>\n",
       "      <td>1</td>\n",
       "    </tr>\n",
       "    <tr>\n",
       "      <th>9999</th>\n",
       "      <td>9999</td>\n",
       "      <td>2023-01-01 20:52:00</td>\n",
       "      <td>0 days 00:00:00</td>\n",
       "      <td>1</td>\n",
       "    </tr>\n",
       "  </tbody>\n",
       "</table>\n",
       "<p>10000 rows × 4 columns</p>\n",
       "</div>"
      ],
      "text/plain": [
       "      Unnamed: 0           TimeStamp Time Difference  days\n",
       "0              0 2022-10-17 20:47:00             NaT    17\n",
       "1              1 2022-10-20 00:02:00 2 days 03:15:00    20\n",
       "2              2 2022-10-20 00:02:00 0 days 00:00:00    20\n",
       "3              3 2022-10-20 00:02:00 0 days 00:00:00    20\n",
       "4              4 2022-10-20 00:02:00 0 days 00:00:00    20\n",
       "...          ...                 ...             ...   ...\n",
       "9995        9995 2023-01-01 20:52:00 0 days 00:00:00     1\n",
       "9996        9996 2023-01-01 20:52:00 0 days 00:00:00     1\n",
       "9997        9997 2023-01-01 20:52:00 0 days 00:00:00     1\n",
       "9998        9998 2023-01-01 20:52:00 0 days 00:00:00     1\n",
       "9999        9999 2023-01-01 20:52:00 0 days 00:00:00     1\n",
       "\n",
       "[10000 rows x 4 columns]"
      ]
     },
     "execution_count": 33,
     "metadata": {},
     "output_type": "execute_result"
    }
   ],
   "source": [
    "oliver_timestamps"
   ]
  },
  {
   "cell_type": "code",
   "execution_count": 34,
   "id": "c1543f01",
   "metadata": {},
   "outputs": [],
   "source": [
    "day_counts = oliver_timestamps['days'].value_counts()"
   ]
  },
  {
   "cell_type": "code",
   "execution_count": 35,
   "id": "84c330c8",
   "metadata": {},
   "outputs": [],
   "source": [
    "most_timestamps = day_counts.idxmax()"
   ]
  },
  {
   "cell_type": "code",
   "execution_count": 36,
   "id": "befe96ad",
   "metadata": {},
   "outputs": [
    {
     "data": {
      "text/plain": [
       "30"
      ]
     },
     "execution_count": 36,
     "metadata": {},
     "output_type": "execute_result"
    }
   ],
   "source": [
    "most_timestamps\n",
    "#The day with the most timestamps is the 30th."
   ]
  },
  {
   "cell_type": "code",
   "execution_count": 37,
   "id": "5b29b841",
   "metadata": {},
   "outputs": [
    {
     "data": {
      "text/plain": [
       "784"
      ]
     },
     "execution_count": 37,
     "metadata": {},
     "output_type": "execute_result"
    }
   ],
   "source": [
    "day_counts.max()\n",
    "#There are 784 timestamps on this day."
   ]
  },
  {
   "cell_type": "markdown",
   "id": "68c1916f",
   "metadata": {},
   "source": [
    "What is the month with the most timestamps? How many events (timestamps) were on that month?"
   ]
  },
  {
   "cell_type": "code",
   "execution_count": 38,
   "id": "5d6d3144",
   "metadata": {},
   "outputs": [],
   "source": [
    "oliver_timestamps['months'] = pd.DatetimeIndex(oliver_timestamps['TimeStamp']).month"
   ]
  },
  {
   "cell_type": "code",
   "execution_count": 39,
   "id": "c7673ad3",
   "metadata": {},
   "outputs": [
    {
     "data": {
      "text/html": [
       "<div>\n",
       "<style scoped>\n",
       "    .dataframe tbody tr th:only-of-type {\n",
       "        vertical-align: middle;\n",
       "    }\n",
       "\n",
       "    .dataframe tbody tr th {\n",
       "        vertical-align: top;\n",
       "    }\n",
       "\n",
       "    .dataframe thead th {\n",
       "        text-align: right;\n",
       "    }\n",
       "</style>\n",
       "<table border=\"1\" class=\"dataframe\">\n",
       "  <thead>\n",
       "    <tr style=\"text-align: right;\">\n",
       "      <th></th>\n",
       "      <th>Unnamed: 0</th>\n",
       "      <th>TimeStamp</th>\n",
       "      <th>Time Difference</th>\n",
       "      <th>days</th>\n",
       "      <th>months</th>\n",
       "    </tr>\n",
       "  </thead>\n",
       "  <tbody>\n",
       "    <tr>\n",
       "      <th>0</th>\n",
       "      <td>0</td>\n",
       "      <td>2022-10-17 20:47:00</td>\n",
       "      <td>NaT</td>\n",
       "      <td>17</td>\n",
       "      <td>10</td>\n",
       "    </tr>\n",
       "    <tr>\n",
       "      <th>1</th>\n",
       "      <td>1</td>\n",
       "      <td>2022-10-20 00:02:00</td>\n",
       "      <td>2 days 03:15:00</td>\n",
       "      <td>20</td>\n",
       "      <td>10</td>\n",
       "    </tr>\n",
       "    <tr>\n",
       "      <th>2</th>\n",
       "      <td>2</td>\n",
       "      <td>2022-10-20 00:02:00</td>\n",
       "      <td>0 days 00:00:00</td>\n",
       "      <td>20</td>\n",
       "      <td>10</td>\n",
       "    </tr>\n",
       "    <tr>\n",
       "      <th>3</th>\n",
       "      <td>3</td>\n",
       "      <td>2022-10-20 00:02:00</td>\n",
       "      <td>0 days 00:00:00</td>\n",
       "      <td>20</td>\n",
       "      <td>10</td>\n",
       "    </tr>\n",
       "    <tr>\n",
       "      <th>4</th>\n",
       "      <td>4</td>\n",
       "      <td>2022-10-20 00:02:00</td>\n",
       "      <td>0 days 00:00:00</td>\n",
       "      <td>20</td>\n",
       "      <td>10</td>\n",
       "    </tr>\n",
       "    <tr>\n",
       "      <th>...</th>\n",
       "      <td>...</td>\n",
       "      <td>...</td>\n",
       "      <td>...</td>\n",
       "      <td>...</td>\n",
       "      <td>...</td>\n",
       "    </tr>\n",
       "    <tr>\n",
       "      <th>9995</th>\n",
       "      <td>9995</td>\n",
       "      <td>2023-01-01 20:52:00</td>\n",
       "      <td>0 days 00:00:00</td>\n",
       "      <td>1</td>\n",
       "      <td>1</td>\n",
       "    </tr>\n",
       "    <tr>\n",
       "      <th>9996</th>\n",
       "      <td>9996</td>\n",
       "      <td>2023-01-01 20:52:00</td>\n",
       "      <td>0 days 00:00:00</td>\n",
       "      <td>1</td>\n",
       "      <td>1</td>\n",
       "    </tr>\n",
       "    <tr>\n",
       "      <th>9997</th>\n",
       "      <td>9997</td>\n",
       "      <td>2023-01-01 20:52:00</td>\n",
       "      <td>0 days 00:00:00</td>\n",
       "      <td>1</td>\n",
       "      <td>1</td>\n",
       "    </tr>\n",
       "    <tr>\n",
       "      <th>9998</th>\n",
       "      <td>9998</td>\n",
       "      <td>2023-01-01 20:52:00</td>\n",
       "      <td>0 days 00:00:00</td>\n",
       "      <td>1</td>\n",
       "      <td>1</td>\n",
       "    </tr>\n",
       "    <tr>\n",
       "      <th>9999</th>\n",
       "      <td>9999</td>\n",
       "      <td>2023-01-01 20:52:00</td>\n",
       "      <td>0 days 00:00:00</td>\n",
       "      <td>1</td>\n",
       "      <td>1</td>\n",
       "    </tr>\n",
       "  </tbody>\n",
       "</table>\n",
       "<p>10000 rows × 5 columns</p>\n",
       "</div>"
      ],
      "text/plain": [
       "      Unnamed: 0           TimeStamp Time Difference  days  months\n",
       "0              0 2022-10-17 20:47:00             NaT    17      10\n",
       "1              1 2022-10-20 00:02:00 2 days 03:15:00    20      10\n",
       "2              2 2022-10-20 00:02:00 0 days 00:00:00    20      10\n",
       "3              3 2022-10-20 00:02:00 0 days 00:00:00    20      10\n",
       "4              4 2022-10-20 00:02:00 0 days 00:00:00    20      10\n",
       "...          ...                 ...             ...   ...     ...\n",
       "9995        9995 2023-01-01 20:52:00 0 days 00:00:00     1       1\n",
       "9996        9996 2023-01-01 20:52:00 0 days 00:00:00     1       1\n",
       "9997        9997 2023-01-01 20:52:00 0 days 00:00:00     1       1\n",
       "9998        9998 2023-01-01 20:52:00 0 days 00:00:00     1       1\n",
       "9999        9999 2023-01-01 20:52:00 0 days 00:00:00     1       1\n",
       "\n",
       "[10000 rows x 5 columns]"
      ]
     },
     "execution_count": 39,
     "metadata": {},
     "output_type": "execute_result"
    }
   ],
   "source": [
    "oliver_timestamps"
   ]
  },
  {
   "cell_type": "code",
   "execution_count": 40,
   "id": "76c6f811",
   "metadata": {},
   "outputs": [],
   "source": [
    "monthly_counts = oliver_timestamps['months'].value_counts()"
   ]
  },
  {
   "cell_type": "code",
   "execution_count": 41,
   "id": "9bf5650d",
   "metadata": {},
   "outputs": [
    {
     "data": {
      "text/plain": [
       "12"
      ]
     },
     "execution_count": 41,
     "metadata": {},
     "output_type": "execute_result"
    }
   ],
   "source": [
    "monthly_counts.idxmax()"
   ]
  },
  {
   "cell_type": "code",
   "execution_count": 42,
   "id": "c9e5cf26",
   "metadata": {},
   "outputs": [
    {
     "data": {
      "text/plain": [
       "4671"
      ]
     },
     "execution_count": 42,
     "metadata": {},
     "output_type": "execute_result"
    }
   ],
   "source": [
    "monthly_counts.max()"
   ]
  },
  {
   "cell_type": "code",
   "execution_count": 43,
   "id": "45a21960",
   "metadata": {},
   "outputs": [],
   "source": [
    "#The month with the most timestamps is December 2022 (since the data ranges from Oct 2022-Jan 2023), with 4671 events."
   ]
  },
  {
   "cell_type": "code",
   "execution_count": 44,
   "id": "3e07f693",
   "metadata": {},
   "outputs": [
    {
     "data": {
      "image/png": "[encoded data removed]",
      "text/plain": [
       "<Figure size 640x480 with 1 Axes>"
      ]
     },
     "metadata": {},
     "output_type": "display_data"
    }
   ],
   "source": [
    "#Creating a visualization of the distirbution of the timestamps across days.\n",
    "plt.hist(oliver_timestamps[\"days\"], bins=20)\n",
    "plt.show()"
   ]
  },
  {
   "cell_type": "code",
   "execution_count": 45,
   "id": "70beed9f",
   "metadata": {},
   "outputs": [
    {
     "data": {
      "image/png": "[encoded data removed]",
      "text/plain": [
       "<Figure size 640x480 with 1 Axes>"
      ]
     },
     "metadata": {},
     "output_type": "display_data"
    }
   ],
   "source": [
    "#Creating a visualization of the distirbution of the timestamps across months.\n",
    "plt.hist(oliver_timestamps[\"months\"], bins=20)\n",
    "plt.show()"
   ]
  },
  {
   "cell_type": "code",
   "execution_count": 46,
   "id": "032c4f4e",
   "metadata": {},
   "outputs": [
    {
     "data": {
      "text/plain": [
       "17.6679"
      ]
     },
     "execution_count": 46,
     "metadata": {},
     "output_type": "execute_result"
    }
   ],
   "source": [
    "oliver_timestamps[\"days\"].mean()"
   ]
  },
  {
   "cell_type": "code",
   "execution_count": 47,
   "id": "93f2e9c9",
   "metadata": {},
   "outputs": [],
   "source": [
    "oliver_timestamps = oliver_timestamps.set_index([\"TimeStamp\"], drop=False)"
   ]
  },
  {
   "cell_type": "code",
   "execution_count": 48,
   "id": "4e966eac",
   "metadata": {},
   "outputs": [
    {
     "data": {
      "text/html": [
       "<div>\n",
       "<style scoped>\n",
       "    .dataframe tbody tr th:only-of-type {\n",
       "        vertical-align: middle;\n",
       "    }\n",
       "\n",
       "    .dataframe tbody tr th {\n",
       "        vertical-align: top;\n",
       "    }\n",
       "\n",
       "    .dataframe thead th {\n",
       "        text-align: right;\n",
       "    }\n",
       "</style>\n",
       "<table border=\"1\" class=\"dataframe\">\n",
       "  <thead>\n",
       "    <tr style=\"text-align: right;\">\n",
       "      <th></th>\n",
       "      <th>Unnamed: 0</th>\n",
       "      <th>TimeStamp</th>\n",
       "      <th>Time Difference</th>\n",
       "      <th>days</th>\n",
       "      <th>months</th>\n",
       "    </tr>\n",
       "    <tr>\n",
       "      <th>TimeStamp</th>\n",
       "      <th></th>\n",
       "      <th></th>\n",
       "      <th></th>\n",
       "      <th></th>\n",
       "      <th></th>\n",
       "    </tr>\n",
       "  </thead>\n",
       "  <tbody>\n",
       "    <tr>\n",
       "      <th>2022-10-17 20:47:00</th>\n",
       "      <td>0</td>\n",
       "      <td>2022-10-17 20:47:00</td>\n",
       "      <td>NaT</td>\n",
       "      <td>17</td>\n",
       "      <td>10</td>\n",
       "    </tr>\n",
       "    <tr>\n",
       "      <th>2022-10-20 00:02:00</th>\n",
       "      <td>1</td>\n",
       "      <td>2022-10-20 00:02:00</td>\n",
       "      <td>2 days 03:15:00</td>\n",
       "      <td>20</td>\n",
       "      <td>10</td>\n",
       "    </tr>\n",
       "    <tr>\n",
       "      <th>2022-10-20 00:02:00</th>\n",
       "      <td>2</td>\n",
       "      <td>2022-10-20 00:02:00</td>\n",
       "      <td>0 days 00:00:00</td>\n",
       "      <td>20</td>\n",
       "      <td>10</td>\n",
       "    </tr>\n",
       "    <tr>\n",
       "      <th>2022-10-20 00:02:00</th>\n",
       "      <td>3</td>\n",
       "      <td>2022-10-20 00:02:00</td>\n",
       "      <td>0 days 00:00:00</td>\n",
       "      <td>20</td>\n",
       "      <td>10</td>\n",
       "    </tr>\n",
       "    <tr>\n",
       "      <th>2022-10-20 00:02:00</th>\n",
       "      <td>4</td>\n",
       "      <td>2022-10-20 00:02:00</td>\n",
       "      <td>0 days 00:00:00</td>\n",
       "      <td>20</td>\n",
       "      <td>10</td>\n",
       "    </tr>\n",
       "  </tbody>\n",
       "</table>\n",
       "</div>"
      ],
      "text/plain": [
       "                     Unnamed: 0           TimeStamp Time Difference  days  \\\n",
       "TimeStamp                                                                   \n",
       "2022-10-17 20:47:00           0 2022-10-17 20:47:00             NaT    17   \n",
       "2022-10-20 00:02:00           1 2022-10-20 00:02:00 2 days 03:15:00    20   \n",
       "2022-10-20 00:02:00           2 2022-10-20 00:02:00 0 days 00:00:00    20   \n",
       "2022-10-20 00:02:00           3 2022-10-20 00:02:00 0 days 00:00:00    20   \n",
       "2022-10-20 00:02:00           4 2022-10-20 00:02:00 0 days 00:00:00    20   \n",
       "\n",
       "                     months  \n",
       "TimeStamp                    \n",
       "2022-10-17 20:47:00      10  \n",
       "2022-10-20 00:02:00      10  \n",
       "2022-10-20 00:02:00      10  \n",
       "2022-10-20 00:02:00      10  \n",
       "2022-10-20 00:02:00      10  "
      ]
     },
     "execution_count": 48,
     "metadata": {},
     "output_type": "execute_result"
    }
   ],
   "source": [
    "oliver_timestamps.head()"
   ]
  },
  {
   "cell_type": "code",
   "execution_count": 49,
   "id": "38a1daac",
   "metadata": {},
   "outputs": [
    {
     "data": {
      "text/html": [
       "<div>\n",
       "<style scoped>\n",
       "    .dataframe tbody tr th:only-of-type {\n",
       "        vertical-align: middle;\n",
       "    }\n",
       "\n",
       "    .dataframe tbody tr th {\n",
       "        vertical-align: top;\n",
       "    }\n",
       "\n",
       "    .dataframe thead th {\n",
       "        text-align: right;\n",
       "    }\n",
       "</style>\n",
       "<table border=\"1\" class=\"dataframe\">\n",
       "  <thead>\n",
       "    <tr style=\"text-align: right;\">\n",
       "      <th></th>\n",
       "      <th>Unnamed: 0</th>\n",
       "      <th>TimeStamp</th>\n",
       "      <th>Time Difference</th>\n",
       "      <th>days</th>\n",
       "      <th>months</th>\n",
       "    </tr>\n",
       "    <tr>\n",
       "      <th>TimeStamp</th>\n",
       "      <th></th>\n",
       "      <th></th>\n",
       "      <th></th>\n",
       "      <th></th>\n",
       "      <th></th>\n",
       "    </tr>\n",
       "  </thead>\n",
       "  <tbody>\n",
       "    <tr>\n",
       "      <th>2022-12-01 00:03:00</th>\n",
       "      <td>5284</td>\n",
       "      <td>2022-12-01 00:03:00</td>\n",
       "      <td>0 days 00:04:00</td>\n",
       "      <td>1</td>\n",
       "      <td>12</td>\n",
       "    </tr>\n",
       "    <tr>\n",
       "      <th>2022-12-01 00:05:00</th>\n",
       "      <td>5285</td>\n",
       "      <td>2022-12-01 00:05:00</td>\n",
       "      <td>0 days 00:02:00</td>\n",
       "      <td>1</td>\n",
       "      <td>12</td>\n",
       "    </tr>\n",
       "    <tr>\n",
       "      <th>2022-12-01 00:11:00</th>\n",
       "      <td>5286</td>\n",
       "      <td>2022-12-01 00:11:00</td>\n",
       "      <td>0 days 00:06:00</td>\n",
       "      <td>1</td>\n",
       "      <td>12</td>\n",
       "    </tr>\n",
       "    <tr>\n",
       "      <th>2022-12-01 00:15:00</th>\n",
       "      <td>5287</td>\n",
       "      <td>2022-12-01 00:15:00</td>\n",
       "      <td>0 days 00:04:00</td>\n",
       "      <td>1</td>\n",
       "      <td>12</td>\n",
       "    </tr>\n",
       "    <tr>\n",
       "      <th>2022-12-01 00:18:00</th>\n",
       "      <td>5288</td>\n",
       "      <td>2022-12-01 00:18:00</td>\n",
       "      <td>0 days 00:03:00</td>\n",
       "      <td>1</td>\n",
       "      <td>12</td>\n",
       "    </tr>\n",
       "    <tr>\n",
       "      <th>...</th>\n",
       "      <td>...</td>\n",
       "      <td>...</td>\n",
       "      <td>...</td>\n",
       "      <td>...</td>\n",
       "      <td>...</td>\n",
       "    </tr>\n",
       "    <tr>\n",
       "      <th>2022-12-31 22:53:00</th>\n",
       "      <td>9950</td>\n",
       "      <td>2022-12-31 22:53:00</td>\n",
       "      <td>0 days 00:01:00</td>\n",
       "      <td>31</td>\n",
       "      <td>12</td>\n",
       "    </tr>\n",
       "    <tr>\n",
       "      <th>2022-12-31 22:54:00</th>\n",
       "      <td>9951</td>\n",
       "      <td>2022-12-31 22:54:00</td>\n",
       "      <td>0 days 00:01:00</td>\n",
       "      <td>31</td>\n",
       "      <td>12</td>\n",
       "    </tr>\n",
       "    <tr>\n",
       "      <th>2022-12-31 22:54:00</th>\n",
       "      <td>9952</td>\n",
       "      <td>2022-12-31 22:54:00</td>\n",
       "      <td>0 days 00:00:00</td>\n",
       "      <td>31</td>\n",
       "      <td>12</td>\n",
       "    </tr>\n",
       "    <tr>\n",
       "      <th>2022-12-31 22:54:00</th>\n",
       "      <td>9953</td>\n",
       "      <td>2022-12-31 22:54:00</td>\n",
       "      <td>0 days 00:00:00</td>\n",
       "      <td>31</td>\n",
       "      <td>12</td>\n",
       "    </tr>\n",
       "    <tr>\n",
       "      <th>2022-12-31 22:57:00</th>\n",
       "      <td>9954</td>\n",
       "      <td>2022-12-31 22:57:00</td>\n",
       "      <td>0 days 00:03:00</td>\n",
       "      <td>31</td>\n",
       "      <td>12</td>\n",
       "    </tr>\n",
       "  </tbody>\n",
       "</table>\n",
       "<p>4671 rows × 5 columns</p>\n",
       "</div>"
      ],
      "text/plain": [
       "                     Unnamed: 0           TimeStamp Time Difference  days  \\\n",
       "TimeStamp                                                                   \n",
       "2022-12-01 00:03:00        5284 2022-12-01 00:03:00 0 days 00:04:00     1   \n",
       "2022-12-01 00:05:00        5285 2022-12-01 00:05:00 0 days 00:02:00     1   \n",
       "2022-12-01 00:11:00        5286 2022-12-01 00:11:00 0 days 00:06:00     1   \n",
       "2022-12-01 00:15:00        5287 2022-12-01 00:15:00 0 days 00:04:00     1   \n",
       "2022-12-01 00:18:00        5288 2022-12-01 00:18:00 0 days 00:03:00     1   \n",
       "...                         ...                 ...             ...   ...   \n",
       "2022-12-31 22:53:00        9950 2022-12-31 22:53:00 0 days 00:01:00    31   \n",
       "2022-12-31 22:54:00        9951 2022-12-31 22:54:00 0 days 00:01:00    31   \n",
       "2022-12-31 22:54:00        9952 2022-12-31 22:54:00 0 days 00:00:00    31   \n",
       "2022-12-31 22:54:00        9953 2022-12-31 22:54:00 0 days 00:00:00    31   \n",
       "2022-12-31 22:57:00        9954 2022-12-31 22:57:00 0 days 00:03:00    31   \n",
       "\n",
       "                     months  \n",
       "TimeStamp                    \n",
       "2022-12-01 00:03:00      12  \n",
       "2022-12-01 00:05:00      12  \n",
       "2022-12-01 00:11:00      12  \n",
       "2022-12-01 00:15:00      12  \n",
       "2022-12-01 00:18:00      12  \n",
       "...                     ...  \n",
       "2022-12-31 22:53:00      12  \n",
       "2022-12-31 22:54:00      12  \n",
       "2022-12-31 22:54:00      12  \n",
       "2022-12-31 22:54:00      12  \n",
       "2022-12-31 22:57:00      12  \n",
       "\n",
       "[4671 rows x 5 columns]"
      ]
     },
     "execution_count": 49,
     "metadata": {},
     "output_type": "execute_result"
    }
   ],
   "source": [
    "oliver_timestamps.loc[\"2022-12\"]"
   ]
  },
  {
   "cell_type": "code",
   "execution_count": 50,
   "id": "d766b6fc",
   "metadata": {},
   "outputs": [
    {
     "data": {
      "image/png": "[encoded data removed]",
      "text/plain": [
       "<Figure size 1000x800 with 1 Axes>"
      ]
     },
     "metadata": {},
     "output_type": "display_data"
    }
   ],
   "source": [
    "fig, axs = plt.subplots(figsize=(10, 8))\n",
    "\n",
    "oliver_timestamps[\"months\"].plot(kind='line', rot=60, ax=axs)\n",
    "\n",
    "\n",
    "plt.xlabel(\"Datetime\")  # custom x label using Matplotlib\n",
    "\n",
    "plt.ylabel(\"months\")\n",
    "\n",
    "plt.show()"
   ]
  },
  {
   "cell_type": "code",
   "execution_count": 51,
   "id": "27aeedbb",
   "metadata": {},
   "outputs": [],
   "source": [
    "#From this histogram, I understand that the month of December 2022 had the most plays compared to any of the months we have data from.\n",
    "#The 'days' histogram follows a somewhat normal distribution with the exception of a few outliers."
   ]
  },
  {
   "cell_type": "markdown",
   "id": "40ea259b",
   "metadata": {},
   "source": [
    "What do you think the source of this data is? Write a few sentences explaining your reasoning, as well as what other data might help you verify if you are correct?"
   ]
  },
  {
   "cell_type": "markdown",
   "id": "d2a3ed91",
   "metadata": {},
   "source": [
    "I think the source of Oliver's timestamp data is a music streaming app such as Spotify/Apple Music. The reason I think this is because the number of timestamps/events per day correspond with a music streaming app, especially the time difference between each timestamp. For some, there is no diffrence, and for some there is a difference of a few seconds which may show a change in song. There are also differences of about 3 minutes or 5 minutes which could be the average length of one song played from beginning until the end. Having a titles column would be helpful in verifying if I'm correct."
   ]
  },
  {
   "cell_type": "code",
   "execution_count": 52,
   "id": "d7a5f63d",
   "metadata": {},
   "outputs": [],
   "source": [
    "#### Read your partner's analysis -- does it seem accurate? Did they guess the correct data source (or type of data source)?"
   ]
  },
  {
   "cell_type": "markdown",
   "id": "dc97ce0d",
   "metadata": {},
   "source": [
    "After exachanging the analysis with my partner, I find that my partner got the source of the timestamps wrong. However the rest of their anyalysis is fitting."
   ]
  },
  {
   "cell_type": "markdown",
   "id": "493a7fd8",
   "metadata": {},
   "source": [
    "####For the days and months that your partner identified as having the most timestamps in your data, try to figure out what was happening on those days. What other data might help you figure this out?"
   ]
  },
  {
   "cell_type": "markdown",
   "id": "20f7a44c",
   "metadata": {},
   "source": [
    "They find that I watched the most Netflix towards the end of March this year, which corresponds with spring break. Looking at my Spotify and Location data would also help with determining this."
   ]
  },
  {
   "cell_type": "markdown",
   "id": "6758c9f3",
   "metadata": {},
   "source": [
    "# Part 4 - Analyze and visualize an additional element from  your personal data - Angel"
   ]
  },
  {
   "cell_type": "code",
   "execution_count": 56,
   "id": "3c3cfc20",
   "metadata": {},
   "outputs": [],
   "source": [
    "netflix_data = pd.read_csv(\"ViewingActivity.csv\")"
   ]
  },
  {
   "cell_type": "code",
   "execution_count": 57,
   "id": "b8175211",
   "metadata": {},
   "outputs": [
    {
     "data": {
      "text/html": [
       "<div>\n",
       "<style scoped>\n",
       "    .dataframe tbody tr th:only-of-type {\n",
       "        vertical-align: middle;\n",
       "    }\n",
       "\n",
       "    .dataframe tbody tr th {\n",
       "        vertical-align: top;\n",
       "    }\n",
       "\n",
       "    .dataframe thead th {\n",
       "        text-align: right;\n",
       "    }\n",
       "</style>\n",
       "<table border=\"1\" class=\"dataframe\">\n",
       "  <thead>\n",
       "    <tr style=\"text-align: right;\">\n",
       "      <th></th>\n",
       "      <th>Profile Name</th>\n",
       "      <th>Start Time</th>\n",
       "      <th>Duration</th>\n",
       "      <th>Attributes</th>\n",
       "      <th>Title</th>\n",
       "      <th>Supplemental Video Type</th>\n",
       "      <th>Device Type</th>\n",
       "      <th>Bookmark</th>\n",
       "      <th>Latest Bookmark</th>\n",
       "      <th>Country</th>\n",
       "    </tr>\n",
       "  </thead>\n",
       "  <tbody>\n",
       "    <tr>\n",
       "      <th>0</th>\n",
       "      <td>Amantle</td>\n",
       "      <td>2023-10-22 18:40:42</td>\n",
       "      <td>00:00:11</td>\n",
       "      <td>Autoplayed: user action: None;</td>\n",
       "      <td>Suits: Season 8: Good Mudding (Episode 5)</td>\n",
       "      <td>NaN</td>\n",
       "      <td>Netflix Windows App - Cadmium Windows Mobile</td>\n",
       "      <td>00:00:11</td>\n",
       "      <td>00:00:11</td>\n",
       "      <td>BW (Botswana)</td>\n",
       "    </tr>\n",
       "    <tr>\n",
       "      <th>1</th>\n",
       "      <td>Amantle</td>\n",
       "      <td>2023-10-22 17:51:14</td>\n",
       "      <td>00:47:39</td>\n",
       "      <td>NaN</td>\n",
       "      <td>Suits: Season 8: Revenue Per Square Foot (Epis...</td>\n",
       "      <td>NaN</td>\n",
       "      <td>Netflix Windows App - Cadmium Windows Mobile</td>\n",
       "      <td>00:41:49</td>\n",
       "      <td>00:41:49</td>\n",
       "      <td>BW (Botswana)</td>\n",
       "    </tr>\n",
       "    <tr>\n",
       "      <th>2</th>\n",
       "      <td>Amantle</td>\n",
       "      <td>2023-10-22 17:47:23</td>\n",
       "      <td>00:03:25</td>\n",
       "      <td>NaN</td>\n",
       "      <td>Suits: Season 8: Promises, Promises (Episode 3)</td>\n",
       "      <td>NaN</td>\n",
       "      <td>Netflix Windows App - Cadmium Windows Mobile</td>\n",
       "      <td>00:41:27</td>\n",
       "      <td>00:41:27</td>\n",
       "      <td>BW (Botswana)</td>\n",
       "    </tr>\n",
       "    <tr>\n",
       "      <th>3</th>\n",
       "      <td>Amantle</td>\n",
       "      <td>2023-10-22 04:04:07</td>\n",
       "      <td>00:00:13</td>\n",
       "      <td>Autoplayed: user action: None;</td>\n",
       "      <td>The Big Bang Theory: Season 7: The Friendship ...</td>\n",
       "      <td>NaN</td>\n",
       "      <td>Netflix Windows App - Cadmium Windows Mobile</td>\n",
       "      <td>00:00:13</td>\n",
       "      <td>00:00:13</td>\n",
       "      <td>BW (Botswana)</td>\n",
       "    </tr>\n",
       "    <tr>\n",
       "      <th>4</th>\n",
       "      <td>Amantle</td>\n",
       "      <td>2023-10-22 03:43:53</td>\n",
       "      <td>00:19:29</td>\n",
       "      <td>NaN</td>\n",
       "      <td>The Big Bang Theory: Season 7: The Table Polar...</td>\n",
       "      <td>NaN</td>\n",
       "      <td>Netflix Windows App - Cadmium Windows Mobile</td>\n",
       "      <td>00:19:30</td>\n",
       "      <td>00:19:30</td>\n",
       "      <td>BW (Botswana)</td>\n",
       "    </tr>\n",
       "  </tbody>\n",
       "</table>\n",
       "</div>"
      ],
      "text/plain": [
       "  Profile Name           Start Time  Duration  \\\n",
       "0      Amantle  2023-10-22 18:40:42  00:00:11   \n",
       "1      Amantle  2023-10-22 17:51:14  00:47:39   \n",
       "2      Amantle  2023-10-22 17:47:23  00:03:25   \n",
       "3      Amantle  2023-10-22 04:04:07  00:00:13   \n",
       "4      Amantle  2023-10-22 03:43:53  00:19:29   \n",
       "\n",
       "                        Attributes  \\\n",
       "0  Autoplayed: user action: None;    \n",
       "1                              NaN   \n",
       "2                              NaN   \n",
       "3  Autoplayed: user action: None;    \n",
       "4                              NaN   \n",
       "\n",
       "                                               Title Supplemental Video Type  \\\n",
       "0          Suits: Season 8: Good Mudding (Episode 5)                     NaN   \n",
       "1  Suits: Season 8: Revenue Per Square Foot (Epis...                     NaN   \n",
       "2    Suits: Season 8: Promises, Promises (Episode 3)                     NaN   \n",
       "3  The Big Bang Theory: Season 7: The Friendship ...                     NaN   \n",
       "4  The Big Bang Theory: Season 7: The Table Polar...                     NaN   \n",
       "\n",
       "                                    Device Type  Bookmark Latest Bookmark  \\\n",
       "0  Netflix Windows App - Cadmium Windows Mobile  00:00:11        00:00:11   \n",
       "1  Netflix Windows App - Cadmium Windows Mobile  00:41:49        00:41:49   \n",
       "2  Netflix Windows App - Cadmium Windows Mobile  00:41:27        00:41:27   \n",
       "3  Netflix Windows App - Cadmium Windows Mobile  00:00:13        00:00:13   \n",
       "4  Netflix Windows App - Cadmium Windows Mobile  00:19:30        00:19:30   \n",
       "\n",
       "         Country  \n",
       "0  BW (Botswana)  \n",
       "1  BW (Botswana)  \n",
       "2  BW (Botswana)  \n",
       "3  BW (Botswana)  \n",
       "4  BW (Botswana)  "
      ]
     },
     "execution_count": 57,
     "metadata": {},
     "output_type": "execute_result"
    }
   ],
   "source": [
    "netflix_data.head()"
   ]
  },
  {
   "cell_type": "code",
   "execution_count": 58,
   "id": "9cc6d2d7",
   "metadata": {},
   "outputs": [
    {
     "data": {
      "text/html": [
       "<div>\n",
       "<style scoped>\n",
       "    .dataframe tbody tr th:only-of-type {\n",
       "        vertical-align: middle;\n",
       "    }\n",
       "\n",
       "    .dataframe tbody tr th {\n",
       "        vertical-align: top;\n",
       "    }\n",
       "\n",
       "    .dataframe thead th {\n",
       "        text-align: right;\n",
       "    }\n",
       "</style>\n",
       "<table border=\"1\" class=\"dataframe\">\n",
       "  <thead>\n",
       "    <tr style=\"text-align: right;\">\n",
       "      <th></th>\n",
       "      <th>Profile Name</th>\n",
       "      <th>Start Time</th>\n",
       "      <th>Duration</th>\n",
       "      <th>Attributes</th>\n",
       "      <th>Title</th>\n",
       "      <th>Supplemental Video Type</th>\n",
       "      <th>Device Type</th>\n",
       "      <th>Bookmark</th>\n",
       "      <th>Latest Bookmark</th>\n",
       "      <th>Country</th>\n",
       "    </tr>\n",
       "  </thead>\n",
       "  <tbody>\n",
       "    <tr>\n",
       "      <th>0</th>\n",
       "      <td>Amantle</td>\n",
       "      <td>2023-10-22 18:40:42</td>\n",
       "      <td>00:00:11</td>\n",
       "      <td>Autoplayed: user action: None;</td>\n",
       "      <td>Suits: Season 8: Good Mudding (Episode 5)</td>\n",
       "      <td>NaN</td>\n",
       "      <td>Netflix Windows App - Cadmium Windows Mobile</td>\n",
       "      <td>00:00:11</td>\n",
       "      <td>00:00:11</td>\n",
       "      <td>BW (Botswana)</td>\n",
       "    </tr>\n",
       "    <tr>\n",
       "      <th>1</th>\n",
       "      <td>Amantle</td>\n",
       "      <td>2023-10-22 17:51:14</td>\n",
       "      <td>00:47:39</td>\n",
       "      <td>NaN</td>\n",
       "      <td>Suits: Season 8: Revenue Per Square Foot (Epis...</td>\n",
       "      <td>NaN</td>\n",
       "      <td>Netflix Windows App - Cadmium Windows Mobile</td>\n",
       "      <td>00:41:49</td>\n",
       "      <td>00:41:49</td>\n",
       "      <td>BW (Botswana)</td>\n",
       "    </tr>\n",
       "    <tr>\n",
       "      <th>2</th>\n",
       "      <td>Amantle</td>\n",
       "      <td>2023-10-22 17:47:23</td>\n",
       "      <td>00:03:25</td>\n",
       "      <td>NaN</td>\n",
       "      <td>Suits: Season 8: Promises, Promises (Episode 3)</td>\n",
       "      <td>NaN</td>\n",
       "      <td>Netflix Windows App - Cadmium Windows Mobile</td>\n",
       "      <td>00:41:27</td>\n",
       "      <td>00:41:27</td>\n",
       "      <td>BW (Botswana)</td>\n",
       "    </tr>\n",
       "    <tr>\n",
       "      <th>3</th>\n",
       "      <td>Amantle</td>\n",
       "      <td>2023-10-22 04:04:07</td>\n",
       "      <td>00:00:13</td>\n",
       "      <td>Autoplayed: user action: None;</td>\n",
       "      <td>The Big Bang Theory: Season 7: The Friendship ...</td>\n",
       "      <td>NaN</td>\n",
       "      <td>Netflix Windows App - Cadmium Windows Mobile</td>\n",
       "      <td>00:00:13</td>\n",
       "      <td>00:00:13</td>\n",
       "      <td>BW (Botswana)</td>\n",
       "    </tr>\n",
       "    <tr>\n",
       "      <th>4</th>\n",
       "      <td>Amantle</td>\n",
       "      <td>2023-10-22 03:43:53</td>\n",
       "      <td>00:19:29</td>\n",
       "      <td>NaN</td>\n",
       "      <td>The Big Bang Theory: Season 7: The Table Polar...</td>\n",
       "      <td>NaN</td>\n",
       "      <td>Netflix Windows App - Cadmium Windows Mobile</td>\n",
       "      <td>00:19:30</td>\n",
       "      <td>00:19:30</td>\n",
       "      <td>BW (Botswana)</td>\n",
       "    </tr>\n",
       "    <tr>\n",
       "      <th>...</th>\n",
       "      <td>...</td>\n",
       "      <td>...</td>\n",
       "      <td>...</td>\n",
       "      <td>...</td>\n",
       "      <td>...</td>\n",
       "      <td>...</td>\n",
       "      <td>...</td>\n",
       "      <td>...</td>\n",
       "      <td>...</td>\n",
       "      <td>...</td>\n",
       "    </tr>\n",
       "    <tr>\n",
       "      <th>5088</th>\n",
       "      <td>Wamuchii</td>\n",
       "      <td>2021-01-22 17:50:59</td>\n",
       "      <td>00:09:26</td>\n",
       "      <td>NaN</td>\n",
       "      <td>Phone Swap</td>\n",
       "      <td>NaN</td>\n",
       "      <td>Firefox PC (Cadmium)</td>\n",
       "      <td>01:17:22</td>\n",
       "      <td>Not latest view</td>\n",
       "      <td>US (United States)</td>\n",
       "    </tr>\n",
       "    <tr>\n",
       "      <th>5089</th>\n",
       "      <td>Wamuchii</td>\n",
       "      <td>2021-01-22 03:53:53</td>\n",
       "      <td>00:39:52</td>\n",
       "      <td>NaN</td>\n",
       "      <td>Phone Swap</td>\n",
       "      <td>NaN</td>\n",
       "      <td>Firefox PC (Cadmium)</td>\n",
       "      <td>01:08:02</td>\n",
       "      <td>Not latest view</td>\n",
       "      <td>US (United States)</td>\n",
       "    </tr>\n",
       "    <tr>\n",
       "      <th>5090</th>\n",
       "      <td>Wamuchii</td>\n",
       "      <td>2021-01-22 02:57:50</td>\n",
       "      <td>00:22:23</td>\n",
       "      <td>NaN</td>\n",
       "      <td>Phone Swap</td>\n",
       "      <td>NaN</td>\n",
       "      <td>Firefox PC (Cadmium)</td>\n",
       "      <td>00:22:23</td>\n",
       "      <td>Not latest view</td>\n",
       "      <td>US (United States)</td>\n",
       "    </tr>\n",
       "    <tr>\n",
       "      <th>5091</th>\n",
       "      <td>Wamuchii</td>\n",
       "      <td>2021-01-22 02:55:41</td>\n",
       "      <td>00:00:04</td>\n",
       "      <td>NaN</td>\n",
       "      <td>Mokalik (Mechanic)</td>\n",
       "      <td>NaN</td>\n",
       "      <td>Firefox PC (Cadmium)</td>\n",
       "      <td>00:00:04</td>\n",
       "      <td>00:00:04</td>\n",
       "      <td>US (United States)</td>\n",
       "    </tr>\n",
       "    <tr>\n",
       "      <th>5092</th>\n",
       "      <td>Wamuchii</td>\n",
       "      <td>2021-01-22 02:54:48</td>\n",
       "      <td>00:00:28</td>\n",
       "      <td>NaN</td>\n",
       "      <td>Lupin: Part 1: Chapter 1 (Episode 1)</td>\n",
       "      <td>NaN</td>\n",
       "      <td>Firefox PC (Cadmium)</td>\n",
       "      <td>00:00:28</td>\n",
       "      <td>Not latest view</td>\n",
       "      <td>US (United States)</td>\n",
       "    </tr>\n",
       "  </tbody>\n",
       "</table>\n",
       "<p>5093 rows × 10 columns</p>\n",
       "</div>"
      ],
      "text/plain": [
       "     Profile Name           Start Time  Duration  \\\n",
       "0         Amantle  2023-10-22 18:40:42  00:00:11   \n",
       "1         Amantle  2023-10-22 17:51:14  00:47:39   \n",
       "2         Amantle  2023-10-22 17:47:23  00:03:25   \n",
       "3         Amantle  2023-10-22 04:04:07  00:00:13   \n",
       "4         Amantle  2023-10-22 03:43:53  00:19:29   \n",
       "...           ...                  ...       ...   \n",
       "5088     Wamuchii  2021-01-22 17:50:59  00:09:26   \n",
       "5089     Wamuchii  2021-01-22 03:53:53  00:39:52   \n",
       "5090     Wamuchii  2021-01-22 02:57:50  00:22:23   \n",
       "5091     Wamuchii  2021-01-22 02:55:41  00:00:04   \n",
       "5092     Wamuchii  2021-01-22 02:54:48  00:00:28   \n",
       "\n",
       "                           Attributes  \\\n",
       "0     Autoplayed: user action: None;    \n",
       "1                                 NaN   \n",
       "2                                 NaN   \n",
       "3     Autoplayed: user action: None;    \n",
       "4                                 NaN   \n",
       "...                               ...   \n",
       "5088                              NaN   \n",
       "5089                              NaN   \n",
       "5090                              NaN   \n",
       "5091                              NaN   \n",
       "5092                              NaN   \n",
       "\n",
       "                                                  Title  \\\n",
       "0             Suits: Season 8: Good Mudding (Episode 5)   \n",
       "1     Suits: Season 8: Revenue Per Square Foot (Epis...   \n",
       "2       Suits: Season 8: Promises, Promises (Episode 3)   \n",
       "3     The Big Bang Theory: Season 7: The Friendship ...   \n",
       "4     The Big Bang Theory: Season 7: The Table Polar...   \n",
       "...                                                 ...   \n",
       "5088                                         Phone Swap   \n",
       "5089                                         Phone Swap   \n",
       "5090                                         Phone Swap   \n",
       "5091                                 Mokalik (Mechanic)   \n",
       "5092               Lupin: Part 1: Chapter 1 (Episode 1)   \n",
       "\n",
       "     Supplemental Video Type                                   Device Type  \\\n",
       "0                        NaN  Netflix Windows App - Cadmium Windows Mobile   \n",
       "1                        NaN  Netflix Windows App - Cadmium Windows Mobile   \n",
       "2                        NaN  Netflix Windows App - Cadmium Windows Mobile   \n",
       "3                        NaN  Netflix Windows App - Cadmium Windows Mobile   \n",
       "4                        NaN  Netflix Windows App - Cadmium Windows Mobile   \n",
       "...                      ...                                           ...   \n",
       "5088                     NaN                          Firefox PC (Cadmium)   \n",
       "5089                     NaN                          Firefox PC (Cadmium)   \n",
       "5090                     NaN                          Firefox PC (Cadmium)   \n",
       "5091                     NaN                          Firefox PC (Cadmium)   \n",
       "5092                     NaN                          Firefox PC (Cadmium)   \n",
       "\n",
       "      Bookmark  Latest Bookmark             Country  \n",
       "0     00:00:11         00:00:11       BW (Botswana)  \n",
       "1     00:41:49         00:41:49       BW (Botswana)  \n",
       "2     00:41:27         00:41:27       BW (Botswana)  \n",
       "3     00:00:13         00:00:13       BW (Botswana)  \n",
       "4     00:19:30         00:19:30       BW (Botswana)  \n",
       "...        ...              ...                 ...  \n",
       "5088  01:17:22  Not latest view  US (United States)  \n",
       "5089  01:08:02  Not latest view  US (United States)  \n",
       "5090  00:22:23  Not latest view  US (United States)  \n",
       "5091  00:00:04         00:00:04  US (United States)  \n",
       "5092  00:00:28  Not latest view  US (United States)  \n",
       "\n",
       "[5093 rows x 10 columns]"
      ]
     },
     "execution_count": 58,
     "metadata": {},
     "output_type": "execute_result"
    }
   ],
   "source": [
    "netflix_data"
   ]
  },
  {
   "cell_type": "markdown",
   "id": "3b5504bb",
   "metadata": {},
   "source": [
    "Since my Netflix account is being used in different loactions, the first question I'd like to investigate is; in which location is the account being accessed the most? My speculation is that it is used the most in Botswana as two of the users live there, and I don't usually use it when school is in session."
   ]
  },
  {
   "cell_type": "code",
   "execution_count": 59,
   "id": "3177c22b",
   "metadata": {},
   "outputs": [
    {
     "data": {
      "text/plain": [
       "BW (Botswana)         2678\n",
       "US (United States)    2276\n",
       "KE (Kenya)              93\n",
       "IE (Ireland)            43\n",
       "ZA (South Africa)        3\n",
       "Name: Country, dtype: int64"
      ]
     },
     "execution_count": 59,
     "metadata": {},
     "output_type": "execute_result"
    }
   ],
   "source": [
    "netflix_data['Country'].value_counts()"
   ]
  },
  {
   "cell_type": "code",
   "execution_count": 60,
   "id": "45a66bbe",
   "metadata": {},
   "outputs": [],
   "source": [
    "#I find that it's been accessed 2678 times in Botswana."
   ]
  },
  {
   "cell_type": "markdown",
   "id": "6677f93e",
   "metadata": {},
   "source": [
    "Next, I want to know which profile watches the most shows."
   ]
  },
  {
   "cell_type": "code",
   "execution_count": 61,
   "id": "04b7be18",
   "metadata": {},
   "outputs": [
    {
     "data": {
      "text/plain": [
       "Amantle     2163\n",
       "Angel       1916\n",
       "Wamuchii     755\n",
       "Gabriel      248\n",
       "Kids          11\n",
       "Name: Profile Name, dtype: int64"
      ]
     },
     "execution_count": 61,
     "metadata": {},
     "output_type": "execute_result"
    }
   ],
   "source": [
    "netflix_data['Profile Name'].value_counts()"
   ]
  },
  {
   "cell_type": "code",
   "execution_count": 62,
   "id": "9fb8d6fc",
   "metadata": {},
   "outputs": [
    {
     "data": {
      "text/plain": [
       "Lil Peep: Everybody’s Everything                                               26\n",
       "Riverdale: Season 2: Chapter Sixteen: The Watcher in the Woods (Episode 3)     13\n",
       "Fatherhood                                                                     13\n",
       "Queen Charlotte: A Bridgerton Story: Season 1: Holding the King (Episode 4)    12\n",
       "After                                                                          11\n",
       "                                                                               ..\n",
       "Season 1 Teaser: The Fall of the House of Usher                                 1\n",
       "Ma_hook_primary_16x9                                                            1\n",
       "Top Boy: Season 2: Prove Yourself (Episode 8)                                   1\n",
       "Parks and Recreation: Season 4: Born & Raised (Episode 3)                       1\n",
       "Mokalik (Mechanic)                                                              1\n",
       "Name: Title, Length: 2701, dtype: int64"
      ]
     },
     "execution_count": 62,
     "metadata": {},
     "output_type": "execute_result"
    }
   ],
   "source": [
    "netflix_data['Title'].value_counts()"
   ]
  },
  {
   "cell_type": "markdown",
   "id": "a7018bc7",
   "metadata": {},
   "source": [
    "For the data wrangling section I want to keep the rows where \"Angel\" is the only Profile Name by filtering and remove the \"Supplemental Video Type Column\"."
   ]
  },
  {
   "cell_type": "code",
   "execution_count": 63,
   "id": "380b7335",
   "metadata": {},
   "outputs": [],
   "source": [
    "angel_netflix = netflix_data[netflix_data['Profile Name'] == \"Angel\"].drop(\"Supplemental Video Type\", axis=1)\n",
    "#1 indicates that we are removing a column"
   ]
  },
  {
   "cell_type": "code",
   "execution_count": 64,
   "id": "b9d2ad0d",
   "metadata": {},
   "outputs": [
    {
     "data": {
      "text/html": [
       "<div>\n",
       "<style scoped>\n",
       "    .dataframe tbody tr th:only-of-type {\n",
       "        vertical-align: middle;\n",
       "    }\n",
       "\n",
       "    .dataframe tbody tr th {\n",
       "        vertical-align: top;\n",
       "    }\n",
       "\n",
       "    .dataframe thead th {\n",
       "        text-align: right;\n",
       "    }\n",
       "</style>\n",
       "<table border=\"1\" class=\"dataframe\">\n",
       "  <thead>\n",
       "    <tr style=\"text-align: right;\">\n",
       "      <th></th>\n",
       "      <th>Profile Name</th>\n",
       "      <th>Start Time</th>\n",
       "      <th>Duration</th>\n",
       "      <th>Attributes</th>\n",
       "      <th>Title</th>\n",
       "      <th>Device Type</th>\n",
       "      <th>Bookmark</th>\n",
       "      <th>Latest Bookmark</th>\n",
       "      <th>Country</th>\n",
       "    </tr>\n",
       "  </thead>\n",
       "  <tbody>\n",
       "    <tr>\n",
       "      <th>2163</th>\n",
       "      <td>Angel</td>\n",
       "      <td>2023-10-22 23:42:15</td>\n",
       "      <td>00:01:18</td>\n",
       "      <td>Autoplayed: user action: None;</td>\n",
       "      <td>Top Boy: Season 2: Prove Yourself (Episode 8)</td>\n",
       "      <td>Netflix Chrome MAC (Cadmium) HTML 5</td>\n",
       "      <td>00:01:28</td>\n",
       "      <td>00:01:28</td>\n",
       "      <td>US (United States)</td>\n",
       "    </tr>\n",
       "    <tr>\n",
       "      <th>2164</th>\n",
       "      <td>Angel</td>\n",
       "      <td>2023-10-22 22:49:10</td>\n",
       "      <td>00:20:54</td>\n",
       "      <td>NaN</td>\n",
       "      <td>Top Boy: Season 2: We Ride Out for Family (Epi...</td>\n",
       "      <td>Netflix Chrome MAC (Cadmium) HTML 5</td>\n",
       "      <td>00:57:07</td>\n",
       "      <td>00:57:07</td>\n",
       "      <td>US (United States)</td>\n",
       "    </tr>\n",
       "    <tr>\n",
       "      <th>2165</th>\n",
       "      <td>Angel</td>\n",
       "      <td>2023-10-22 20:47:13</td>\n",
       "      <td>00:36:01</td>\n",
       "      <td>NaN</td>\n",
       "      <td>Top Boy: Season 2: We Ride Out for Family (Epi...</td>\n",
       "      <td>Netflix Chrome MAC (Cadmium) HTML 5</td>\n",
       "      <td>00:36:12</td>\n",
       "      <td>Not latest view</td>\n",
       "      <td>US (United States)</td>\n",
       "    </tr>\n",
       "    <tr>\n",
       "      <th>2166</th>\n",
       "      <td>Angel</td>\n",
       "      <td>2023-10-22 20:13:07</td>\n",
       "      <td>00:11:42</td>\n",
       "      <td>NaN</td>\n",
       "      <td>Top Boy: Season 2: De Capa y Espada (Episode 6)</td>\n",
       "      <td>Netflix Chrome MAC (Cadmium) HTML 5</td>\n",
       "      <td>00:50:15</td>\n",
       "      <td>00:50:15</td>\n",
       "      <td>US (United States)</td>\n",
       "    </tr>\n",
       "    <tr>\n",
       "      <th>2167</th>\n",
       "      <td>Angel</td>\n",
       "      <td>2023-10-19 06:23:39</td>\n",
       "      <td>00:21:24</td>\n",
       "      <td>NaN</td>\n",
       "      <td>Top Boy: Season 2: De Capa y Espada (Episode 6)</td>\n",
       "      <td>Netflix Chrome MAC (Cadmium) HTML 5</td>\n",
       "      <td>00:38:33</td>\n",
       "      <td>Not latest view</td>\n",
       "      <td>US (United States)</td>\n",
       "    </tr>\n",
       "    <tr>\n",
       "      <th>...</th>\n",
       "      <td>...</td>\n",
       "      <td>...</td>\n",
       "      <td>...</td>\n",
       "      <td>...</td>\n",
       "      <td>...</td>\n",
       "      <td>...</td>\n",
       "      <td>...</td>\n",
       "      <td>...</td>\n",
       "      <td>...</td>\n",
       "    </tr>\n",
       "    <tr>\n",
       "      <th>4074</th>\n",
       "      <td>Angel</td>\n",
       "      <td>2019-12-16 16:34:11</td>\n",
       "      <td>00:22:40</td>\n",
       "      <td>Autoplayed: user action: None;</td>\n",
       "      <td>Friends: Season 1: The One with All the Poker ...</td>\n",
       "      <td>Netflix Chrome MAC (Cadmium) HTML 5</td>\n",
       "      <td>00:22:40</td>\n",
       "      <td>00:22:40</td>\n",
       "      <td>US (United States)</td>\n",
       "    </tr>\n",
       "    <tr>\n",
       "      <th>4075</th>\n",
       "      <td>Angel</td>\n",
       "      <td>2019-12-16 16:30:32</td>\n",
       "      <td>00:03:10</td>\n",
       "      <td>NaN</td>\n",
       "      <td>Friends: Season 1: The One with the Two Parts:...</td>\n",
       "      <td>Netflix Chrome MAC (Cadmium) HTML 5</td>\n",
       "      <td>00:22:42</td>\n",
       "      <td>00:22:42</td>\n",
       "      <td>US (United States)</td>\n",
       "    </tr>\n",
       "    <tr>\n",
       "      <th>4076</th>\n",
       "      <td>Angel</td>\n",
       "      <td>2019-12-16 16:29:00</td>\n",
       "      <td>00:00:01</td>\n",
       "      <td>NaN</td>\n",
       "      <td>Friends: Season 1: The One with the Sonogram a...</td>\n",
       "      <td>Netflix Chrome MAC (Cadmium) HTML 5</td>\n",
       "      <td>00:00:01</td>\n",
       "      <td>00:00:01</td>\n",
       "      <td>US (United States)</td>\n",
       "    </tr>\n",
       "    <tr>\n",
       "      <th>4077</th>\n",
       "      <td>Angel</td>\n",
       "      <td>2019-12-16 16:28:45</td>\n",
       "      <td>00:00:08</td>\n",
       "      <td>NaN</td>\n",
       "      <td>Friends: Season 1: The One Where Monica Gets a...</td>\n",
       "      <td>Netflix Chrome MAC (Cadmium) HTML 5</td>\n",
       "      <td>00:00:08</td>\n",
       "      <td>00:00:08</td>\n",
       "      <td>US (United States)</td>\n",
       "    </tr>\n",
       "    <tr>\n",
       "      <th>4078</th>\n",
       "      <td>Angel</td>\n",
       "      <td>2019-12-16 16:25:02</td>\n",
       "      <td>00:00:16</td>\n",
       "      <td>NaN</td>\n",
       "      <td>Victorious: Season 1: Pilot (Episode 1)</td>\n",
       "      <td>Netflix Chrome MAC (Cadmium) HTML 5</td>\n",
       "      <td>00:00:16</td>\n",
       "      <td>00:00:16</td>\n",
       "      <td>US (United States)</td>\n",
       "    </tr>\n",
       "  </tbody>\n",
       "</table>\n",
       "<p>1916 rows × 9 columns</p>\n",
       "</div>"
      ],
      "text/plain": [
       "     Profile Name           Start Time  Duration  \\\n",
       "2163        Angel  2023-10-22 23:42:15  00:01:18   \n",
       "2164        Angel  2023-10-22 22:49:10  00:20:54   \n",
       "2165        Angel  2023-10-22 20:47:13  00:36:01   \n",
       "2166        Angel  2023-10-22 20:13:07  00:11:42   \n",
       "2167        Angel  2023-10-19 06:23:39  00:21:24   \n",
       "...           ...                  ...       ...   \n",
       "4074        Angel  2019-12-16 16:34:11  00:22:40   \n",
       "4075        Angel  2019-12-16 16:30:32  00:03:10   \n",
       "4076        Angel  2019-12-16 16:29:00  00:00:01   \n",
       "4077        Angel  2019-12-16 16:28:45  00:00:08   \n",
       "4078        Angel  2019-12-16 16:25:02  00:00:16   \n",
       "\n",
       "                           Attributes  \\\n",
       "2163  Autoplayed: user action: None;    \n",
       "2164                              NaN   \n",
       "2165                              NaN   \n",
       "2166                              NaN   \n",
       "2167                              NaN   \n",
       "...                               ...   \n",
       "4074  Autoplayed: user action: None;    \n",
       "4075                              NaN   \n",
       "4076                              NaN   \n",
       "4077                              NaN   \n",
       "4078                              NaN   \n",
       "\n",
       "                                                  Title  \\\n",
       "2163      Top Boy: Season 2: Prove Yourself (Episode 8)   \n",
       "2164  Top Boy: Season 2: We Ride Out for Family (Epi...   \n",
       "2165  Top Boy: Season 2: We Ride Out for Family (Epi...   \n",
       "2166    Top Boy: Season 2: De Capa y Espada (Episode 6)   \n",
       "2167    Top Boy: Season 2: De Capa y Espada (Episode 6)   \n",
       "...                                                 ...   \n",
       "4074  Friends: Season 1: The One with All the Poker ...   \n",
       "4075  Friends: Season 1: The One with the Two Parts:...   \n",
       "4076  Friends: Season 1: The One with the Sonogram a...   \n",
       "4077  Friends: Season 1: The One Where Monica Gets a...   \n",
       "4078            Victorious: Season 1: Pilot (Episode 1)   \n",
       "\n",
       "                              Device Type  Bookmark  Latest Bookmark  \\\n",
       "2163  Netflix Chrome MAC (Cadmium) HTML 5  00:01:28         00:01:28   \n",
       "2164  Netflix Chrome MAC (Cadmium) HTML 5  00:57:07         00:57:07   \n",
       "2165  Netflix Chrome MAC (Cadmium) HTML 5  00:36:12  Not latest view   \n",
       "2166  Netflix Chrome MAC (Cadmium) HTML 5  00:50:15         00:50:15   \n",
       "2167  Netflix Chrome MAC (Cadmium) HTML 5  00:38:33  Not latest view   \n",
       "...                                   ...       ...              ...   \n",
       "4074  Netflix Chrome MAC (Cadmium) HTML 5  00:22:40         00:22:40   \n",
       "4075  Netflix Chrome MAC (Cadmium) HTML 5  00:22:42         00:22:42   \n",
       "4076  Netflix Chrome MAC (Cadmium) HTML 5  00:00:01         00:00:01   \n",
       "4077  Netflix Chrome MAC (Cadmium) HTML 5  00:00:08         00:00:08   \n",
       "4078  Netflix Chrome MAC (Cadmium) HTML 5  00:00:16         00:00:16   \n",
       "\n",
       "                 Country  \n",
       "2163  US (United States)  \n",
       "2164  US (United States)  \n",
       "2165  US (United States)  \n",
       "2166  US (United States)  \n",
       "2167  US (United States)  \n",
       "...                  ...  \n",
       "4074  US (United States)  \n",
       "4075  US (United States)  \n",
       "4076  US (United States)  \n",
       "4077  US (United States)  \n",
       "4078  US (United States)  \n",
       "\n",
       "[1916 rows x 9 columns]"
      ]
     },
     "execution_count": 64,
     "metadata": {},
     "output_type": "execute_result"
    }
   ],
   "source": [
    "angel_netflix"
   ]
  },
  {
   "cell_type": "code",
   "execution_count": 65,
   "id": "85acddd7",
   "metadata": {},
   "outputs": [
    {
     "data": {
      "text/html": [
       "<div>\n",
       "<style scoped>\n",
       "    .dataframe tbody tr th:only-of-type {\n",
       "        vertical-align: middle;\n",
       "    }\n",
       "\n",
       "    .dataframe tbody tr th {\n",
       "        vertical-align: top;\n",
       "    }\n",
       "\n",
       "    .dataframe thead th {\n",
       "        text-align: right;\n",
       "    }\n",
       "</style>\n",
       "<table border=\"1\" class=\"dataframe\">\n",
       "  <thead>\n",
       "    <tr style=\"text-align: right;\">\n",
       "      <th></th>\n",
       "      <th>Profile Name</th>\n",
       "      <th>Start Time</th>\n",
       "      <th>Duration</th>\n",
       "      <th>Attributes</th>\n",
       "      <th>Title</th>\n",
       "      <th>Device Type</th>\n",
       "      <th>Bookmark</th>\n",
       "      <th>Latest Bookmark</th>\n",
       "      <th>Country</th>\n",
       "    </tr>\n",
       "  </thead>\n",
       "  <tbody>\n",
       "    <tr>\n",
       "      <th>2163</th>\n",
       "      <td>Angel</td>\n",
       "      <td>2023-10-22 23:42:15</td>\n",
       "      <td>00:01:18</td>\n",
       "      <td>Autoplayed: user action: None;</td>\n",
       "      <td>Top Boy: Season 2: Prove Yourself (Episode 8)</td>\n",
       "      <td>Netflix Chrome MAC (Cadmium) HTML 5</td>\n",
       "      <td>00:01:28</td>\n",
       "      <td>00:01:28</td>\n",
       "      <td>US (United States)</td>\n",
       "    </tr>\n",
       "    <tr>\n",
       "      <th>2173</th>\n",
       "      <td>Angel</td>\n",
       "      <td>2023-10-14 05:24:58</td>\n",
       "      <td>00:00:06</td>\n",
       "      <td>Autoplayed: user action: None;</td>\n",
       "      <td>Ma_hook_primary_16x9</td>\n",
       "      <td>Netflix Chrome MAC (Cadmium) HTML 5</td>\n",
       "      <td>00:00:06</td>\n",
       "      <td>00:00:06</td>\n",
       "      <td>US (United States)</td>\n",
       "    </tr>\n",
       "    <tr>\n",
       "      <th>2175</th>\n",
       "      <td>Angel</td>\n",
       "      <td>2023-10-13 18:42:55</td>\n",
       "      <td>00:00:05</td>\n",
       "      <td>Autoplayed: user action: None;</td>\n",
       "      <td>Season 1 Trailer: Surviving Summer</td>\n",
       "      <td>Netflix Chrome MAC (Cadmium) HTML 5</td>\n",
       "      <td>00:00:05</td>\n",
       "      <td>00:00:05</td>\n",
       "      <td>US (United States)</td>\n",
       "    </tr>\n",
       "    <tr>\n",
       "      <th>2179</th>\n",
       "      <td>Angel</td>\n",
       "      <td>2023-10-13 04:08:11</td>\n",
       "      <td>00:00:04</td>\n",
       "      <td>Autoplayed: user action: None;</td>\n",
       "      <td>Season 1 Teaser: The Fall of the House of Usher</td>\n",
       "      <td>Netflix Chrome MAC (Cadmium) HTML 5</td>\n",
       "      <td>00:00:04</td>\n",
       "      <td>00:00:04</td>\n",
       "      <td>US (United States)</td>\n",
       "    </tr>\n",
       "    <tr>\n",
       "      <th>2184</th>\n",
       "      <td>Angel</td>\n",
       "      <td>2023-10-08 18:44:43</td>\n",
       "      <td>00:02:38</td>\n",
       "      <td>Autoplayed: user action: None;</td>\n",
       "      <td>Top Boy: Season 2: Fully Loaded Headache (Epis...</td>\n",
       "      <td>Netflix Chrome MAC (Cadmium) HTML 5</td>\n",
       "      <td>00:02:38</td>\n",
       "      <td>Not latest view</td>\n",
       "      <td>US (United States)</td>\n",
       "    </tr>\n",
       "    <tr>\n",
       "      <th>...</th>\n",
       "      <td>...</td>\n",
       "      <td>...</td>\n",
       "      <td>...</td>\n",
       "      <td>...</td>\n",
       "      <td>...</td>\n",
       "      <td>...</td>\n",
       "      <td>...</td>\n",
       "      <td>...</td>\n",
       "      <td>...</td>\n",
       "    </tr>\n",
       "    <tr>\n",
       "      <th>4067</th>\n",
       "      <td>Angel</td>\n",
       "      <td>2019-12-16 22:10:19</td>\n",
       "      <td>00:22:38</td>\n",
       "      <td>Autoplayed: user action: None;</td>\n",
       "      <td>Friends: Season 1: The One with the Birth (Epi...</td>\n",
       "      <td>Netflix Chrome MAC (Cadmium) HTML 5</td>\n",
       "      <td>00:22:38</td>\n",
       "      <td>00:22:38</td>\n",
       "      <td>US (United States)</td>\n",
       "    </tr>\n",
       "    <tr>\n",
       "      <th>4068</th>\n",
       "      <td>Angel</td>\n",
       "      <td>2019-12-16 21:41:10</td>\n",
       "      <td>00:22:38</td>\n",
       "      <td>Autoplayed: user action: None;</td>\n",
       "      <td>Friends: Season 1: The One with the Ick Factor...</td>\n",
       "      <td>Netflix Chrome MAC (Cadmium) HTML 5</td>\n",
       "      <td>00:22:38</td>\n",
       "      <td>00:22:38</td>\n",
       "      <td>US (United States)</td>\n",
       "    </tr>\n",
       "    <tr>\n",
       "      <th>4069</th>\n",
       "      <td>Angel</td>\n",
       "      <td>2019-12-16 21:10:59</td>\n",
       "      <td>00:22:40</td>\n",
       "      <td>Autoplayed: user action: None;</td>\n",
       "      <td>Friends: Season 1: The One with the Fake Monic...</td>\n",
       "      <td>Netflix Chrome MAC (Cadmium) HTML 5</td>\n",
       "      <td>00:22:40</td>\n",
       "      <td>00:22:40</td>\n",
       "      <td>US (United States)</td>\n",
       "    </tr>\n",
       "    <tr>\n",
       "      <th>4070</th>\n",
       "      <td>Angel</td>\n",
       "      <td>2019-12-16 20:34:09</td>\n",
       "      <td>00:22:38</td>\n",
       "      <td>Autoplayed: user action: None;</td>\n",
       "      <td>Friends: Season 1: The One with the Evil Ortho...</td>\n",
       "      <td>Netflix Chrome MAC (Cadmium) HTML 5</td>\n",
       "      <td>00:22:38</td>\n",
       "      <td>00:22:38</td>\n",
       "      <td>US (United States)</td>\n",
       "    </tr>\n",
       "    <tr>\n",
       "      <th>4074</th>\n",
       "      <td>Angel</td>\n",
       "      <td>2019-12-16 16:34:11</td>\n",
       "      <td>00:22:40</td>\n",
       "      <td>Autoplayed: user action: None;</td>\n",
       "      <td>Friends: Season 1: The One with All the Poker ...</td>\n",
       "      <td>Netflix Chrome MAC (Cadmium) HTML 5</td>\n",
       "      <td>00:22:40</td>\n",
       "      <td>00:22:40</td>\n",
       "      <td>US (United States)</td>\n",
       "    </tr>\n",
       "  </tbody>\n",
       "</table>\n",
       "<p>419 rows × 9 columns</p>\n",
       "</div>"
      ],
      "text/plain": [
       "     Profile Name           Start Time  Duration  \\\n",
       "2163        Angel  2023-10-22 23:42:15  00:01:18   \n",
       "2173        Angel  2023-10-14 05:24:58  00:00:06   \n",
       "2175        Angel  2023-10-13 18:42:55  00:00:05   \n",
       "2179        Angel  2023-10-13 04:08:11  00:00:04   \n",
       "2184        Angel  2023-10-08 18:44:43  00:02:38   \n",
       "...           ...                  ...       ...   \n",
       "4067        Angel  2019-12-16 22:10:19  00:22:38   \n",
       "4068        Angel  2019-12-16 21:41:10  00:22:38   \n",
       "4069        Angel  2019-12-16 21:10:59  00:22:40   \n",
       "4070        Angel  2019-12-16 20:34:09  00:22:38   \n",
       "4074        Angel  2019-12-16 16:34:11  00:22:40   \n",
       "\n",
       "                           Attributes  \\\n",
       "2163  Autoplayed: user action: None;    \n",
       "2173  Autoplayed: user action: None;    \n",
       "2175  Autoplayed: user action: None;    \n",
       "2179  Autoplayed: user action: None;    \n",
       "2184  Autoplayed: user action: None;    \n",
       "...                               ...   \n",
       "4067  Autoplayed: user action: None;    \n",
       "4068  Autoplayed: user action: None;    \n",
       "4069  Autoplayed: user action: None;    \n",
       "4070  Autoplayed: user action: None;    \n",
       "4074  Autoplayed: user action: None;    \n",
       "\n",
       "                                                  Title  \\\n",
       "2163      Top Boy: Season 2: Prove Yourself (Episode 8)   \n",
       "2173                               Ma_hook_primary_16x9   \n",
       "2175                 Season 1 Trailer: Surviving Summer   \n",
       "2179    Season 1 Teaser: The Fall of the House of Usher   \n",
       "2184  Top Boy: Season 2: Fully Loaded Headache (Epis...   \n",
       "...                                                 ...   \n",
       "4067  Friends: Season 1: The One with the Birth (Epi...   \n",
       "4068  Friends: Season 1: The One with the Ick Factor...   \n",
       "4069  Friends: Season 1: The One with the Fake Monic...   \n",
       "4070  Friends: Season 1: The One with the Evil Ortho...   \n",
       "4074  Friends: Season 1: The One with All the Poker ...   \n",
       "\n",
       "                              Device Type  Bookmark  Latest Bookmark  \\\n",
       "2163  Netflix Chrome MAC (Cadmium) HTML 5  00:01:28         00:01:28   \n",
       "2173  Netflix Chrome MAC (Cadmium) HTML 5  00:00:06         00:00:06   \n",
       "2175  Netflix Chrome MAC (Cadmium) HTML 5  00:00:05         00:00:05   \n",
       "2179  Netflix Chrome MAC (Cadmium) HTML 5  00:00:04         00:00:04   \n",
       "2184  Netflix Chrome MAC (Cadmium) HTML 5  00:02:38  Not latest view   \n",
       "...                                   ...       ...              ...   \n",
       "4067  Netflix Chrome MAC (Cadmium) HTML 5  00:22:38         00:22:38   \n",
       "4068  Netflix Chrome MAC (Cadmium) HTML 5  00:22:38         00:22:38   \n",
       "4069  Netflix Chrome MAC (Cadmium) HTML 5  00:22:40         00:22:40   \n",
       "4070  Netflix Chrome MAC (Cadmium) HTML 5  00:22:38         00:22:38   \n",
       "4074  Netflix Chrome MAC (Cadmium) HTML 5  00:22:40         00:22:40   \n",
       "\n",
       "                 Country  \n",
       "2163  US (United States)  \n",
       "2173  US (United States)  \n",
       "2175  US (United States)  \n",
       "2179  US (United States)  \n",
       "2184  US (United States)  \n",
       "...                  ...  \n",
       "4067  US (United States)  \n",
       "4068  US (United States)  \n",
       "4069  US (United States)  \n",
       "4070  US (United States)  \n",
       "4074  US (United States)  \n",
       "\n",
       "[419 rows x 9 columns]"
      ]
     },
     "execution_count": 65,
     "metadata": {},
     "output_type": "execute_result"
    }
   ],
   "source": [
    "angel_netflix.dropna()"
   ]
  },
  {
   "cell_type": "markdown",
   "id": "3f0ff5e4",
   "metadata": {},
   "source": [
    "For this visualization, I want to create a multi-plot grid where each subplot represents the distribution of the \"months\" column for each Netflix profile. This is useful to show how the viewing patterns (months) are distributed across different profiles."
   ]
  },
  {
   "cell_type": "code",
   "execution_count": 66,
   "id": "e20d16ce",
   "metadata": {},
   "outputs": [],
   "source": [
    "netflix_data[\"Start Time\"] = pd.to_datetime(netflix_data[\"Start Time\"])"
   ]
  },
  {
   "cell_type": "code",
   "execution_count": 67,
   "id": "011ae2d1",
   "metadata": {},
   "outputs": [],
   "source": [
    "netflix_data['months'] = pd.DatetimeIndex(netflix_data['Start Time']).month"
   ]
  },
  {
   "cell_type": "code",
   "execution_count": 68,
   "id": "fc218165",
   "metadata": {},
   "outputs": [
    {
     "data": {
      "text/plain": [
       "0       10\n",
       "1       10\n",
       "2       10\n",
       "3       10\n",
       "4       10\n",
       "        ..\n",
       "5088     1\n",
       "5089     1\n",
       "5090     1\n",
       "5091     1\n",
       "5092     1\n",
       "Name: months, Length: 5093, dtype: int64"
      ]
     },
     "execution_count": 68,
     "metadata": {},
     "output_type": "execute_result"
    }
   ],
   "source": [
    "netflix_data['months']"
   ]
  },
  {
   "cell_type": "code",
   "execution_count": 69,
   "id": "c77bcc05",
   "metadata": {},
   "outputs": [
    {
     "data": {
      "text/plain": [
       "<seaborn.axisgrid.FacetGrid at 0x16459d890>"
      ]
     },
     "execution_count": 69,
     "metadata": {},
     "output_type": "execute_result"
    },
    {
     "data": {
      "image/png": "[encoded data removed]",
      "text/plain": [
       "<Figure size 2500x500 with 5 Axes>"
      ]
     },
     "metadata": {},
     "output_type": "display_data"
    }
   ],
   "source": [
    "sns.displot(data=netflix_data, x=\"months\", col=\"Profile Name\", kde=True)"
   ]
  },
  {
   "cell_type": "markdown",
   "id": "e99a9725",
   "metadata": {},
   "source": [
    "# Combined Visualization"
   ]
  },
  {
   "cell_type": "code",
   "execution_count": null,
   "id": "27f75e28",
   "metadata": {},
   "outputs": [],
   "source": []
  }
 ],
 "metadata": {
  "kernelspec": {
   "display_name": "Python 3 (ipykernel)",
   "language": "python",
   "name": "python3"
  },
  "language_info": {
   "codemirror_mode": {
    "name": "ipython",
    "version": 3
   },
   "file_extension": ".py",
   "mimetype": "text/x-python",
   "name": "python",
   "nbconvert_exporter": "python",
   "pygments_lexer": "ipython3",
   "version": "3.11.4"
  }
 },
 "nbformat": 4,
 "nbformat_minor": 5
}
