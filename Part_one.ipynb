{
 "cells": [
  {
   "cell_type": "code",
   "execution_count": 1,
   "id": "7c8a2f48",
   "metadata": {},
   "outputs": [],
   "source": [
    "import pandas as pd\n",
    "import seaborn as sb\n",
    "import matplotlib.pyplot as plt\n"
   ]
  },
  {
   "cell_type": "code",
   "execution_count": 2,
   "id": "e31185d2",
   "metadata": {},
   "outputs": [],
   "source": [
    "df = pd.read_csv(\"angel_timestamps.csv\")\n",
    "df['datetime'] = pd.to_datetime(df['Start Time'])\n",
    "df = df.sort_values(by = 'datetime', ascending=True)"
   ]
  },
  {
   "cell_type": "code",
   "execution_count": 3,
   "id": "8b3081e3",
   "metadata": {},
   "outputs": [],
   "source": [
    "df['time_delta'] = df[\"datetime\"].diff()"
   ]
  },
  {
   "cell_type": "code",
   "execution_count": 4,
   "id": "23a3ef5e",
   "metadata": {},
   "outputs": [],
   "source": [
    "df = df.drop('Start Time', axis=1)\n"
   ]
  },
  {
   "cell_type": "code",
   "execution_count": 5,
   "id": "9e2ed835",
   "metadata": {},
   "outputs": [
    {
     "data": {
      "text/plain": [
       "Index(['Unnamed: 0', 'datetime', 'time_delta'], dtype='object')"
      ]
     },
     "execution_count": 5,
     "metadata": {},
     "output_type": "execute_result"
    }
   ],
   "source": [
    "df.columns"
   ]
  },
  {
   "cell_type": "code",
   "execution_count": 6,
   "id": "841df6f0",
   "metadata": {},
   "outputs": [
    {
     "data": {
      "text/plain": [
       "count                         5092\n",
       "mean     0 days 06:37:41.868224666\n",
       "std      0 days 23:37:50.115210269\n",
       "min                0 days 00:00:00\n",
       "25%                0 days 00:16:30\n",
       "50%                0 days 00:29:08\n",
       "75%         0 days 02:13:28.750000\n",
       "max               25 days 01:35:12\n",
       "Name: time_delta, dtype: object"
      ]
     },
     "execution_count": 6,
     "metadata": {},
     "output_type": "execute_result"
    }
   ],
   "source": [
    "df['time_delta'].describe()"
   ]
  },
  {
   "cell_type": "code",
   "execution_count": 7,
   "id": "632d21fa",
   "metadata": {},
   "outputs": [],
   "source": [
    "df['days'] = pd.DatetimeIndex(df['datetime']).day"
   ]
  },
  {
   "cell_type": "code",
   "execution_count": 8,
   "id": "51ec0173",
   "metadata": {},
   "outputs": [],
   "source": [
    "df['month'] = pd.DatetimeIndex(df['datetime']).month"
   ]
  },
  {
   "cell_type": "code",
   "execution_count": 9,
   "id": "f6803fc5",
   "metadata": {},
   "outputs": [
    {
     "data": {
      "text/html": [
       "<div>\n",
       "<style scoped>\n",
       "    .dataframe tbody tr th:only-of-type {\n",
       "        vertical-align: middle;\n",
       "    }\n",
       "\n",
       "    .dataframe tbody tr th {\n",
       "        vertical-align: top;\n",
       "    }\n",
       "\n",
       "    .dataframe thead th {\n",
       "        text-align: right;\n",
       "    }\n",
       "</style>\n",
       "<table border=\"1\" class=\"dataframe\">\n",
       "  <thead>\n",
       "    <tr style=\"text-align: right;\">\n",
       "      <th></th>\n",
       "      <th>Unnamed: 0</th>\n",
       "      <th>datetime</th>\n",
       "      <th>time_delta</th>\n",
       "      <th>days</th>\n",
       "      <th>month</th>\n",
       "    </tr>\n",
       "  </thead>\n",
       "  <tbody>\n",
       "    <tr>\n",
       "      <th>4078</th>\n",
       "      <td>4078</td>\n",
       "      <td>2019-12-16 16:25:02</td>\n",
       "      <td>NaT</td>\n",
       "      <td>16</td>\n",
       "      <td>12</td>\n",
       "    </tr>\n",
       "    <tr>\n",
       "      <th>4077</th>\n",
       "      <td>4077</td>\n",
       "      <td>2019-12-16 16:28:45</td>\n",
       "      <td>0 days 00:03:43</td>\n",
       "      <td>16</td>\n",
       "      <td>12</td>\n",
       "    </tr>\n",
       "    <tr>\n",
       "      <th>4076</th>\n",
       "      <td>4076</td>\n",
       "      <td>2019-12-16 16:29:00</td>\n",
       "      <td>0 days 00:00:15</td>\n",
       "      <td>16</td>\n",
       "      <td>12</td>\n",
       "    </tr>\n",
       "    <tr>\n",
       "      <th>4075</th>\n",
       "      <td>4075</td>\n",
       "      <td>2019-12-16 16:30:32</td>\n",
       "      <td>0 days 00:01:32</td>\n",
       "      <td>16</td>\n",
       "      <td>12</td>\n",
       "    </tr>\n",
       "    <tr>\n",
       "      <th>4074</th>\n",
       "      <td>4074</td>\n",
       "      <td>2019-12-16 16:34:11</td>\n",
       "      <td>0 days 00:03:39</td>\n",
       "      <td>16</td>\n",
       "      <td>12</td>\n",
       "    </tr>\n",
       "    <tr>\n",
       "      <th>...</th>\n",
       "      <td>...</td>\n",
       "      <td>...</td>\n",
       "      <td>...</td>\n",
       "      <td>...</td>\n",
       "      <td>...</td>\n",
       "    </tr>\n",
       "    <tr>\n",
       "      <th>0</th>\n",
       "      <td>0</td>\n",
       "      <td>2023-10-22 18:40:42</td>\n",
       "      <td>0 days 00:49:28</td>\n",
       "      <td>22</td>\n",
       "      <td>10</td>\n",
       "    </tr>\n",
       "    <tr>\n",
       "      <th>2166</th>\n",
       "      <td>2166</td>\n",
       "      <td>2023-10-22 20:13:07</td>\n",
       "      <td>0 days 01:32:25</td>\n",
       "      <td>22</td>\n",
       "      <td>10</td>\n",
       "    </tr>\n",
       "    <tr>\n",
       "      <th>2165</th>\n",
       "      <td>2165</td>\n",
       "      <td>2023-10-22 20:47:13</td>\n",
       "      <td>0 days 00:34:06</td>\n",
       "      <td>22</td>\n",
       "      <td>10</td>\n",
       "    </tr>\n",
       "    <tr>\n",
       "      <th>2164</th>\n",
       "      <td>2164</td>\n",
       "      <td>2023-10-22 22:49:10</td>\n",
       "      <td>0 days 02:01:57</td>\n",
       "      <td>22</td>\n",
       "      <td>10</td>\n",
       "    </tr>\n",
       "    <tr>\n",
       "      <th>2163</th>\n",
       "      <td>2163</td>\n",
       "      <td>2023-10-22 23:42:15</td>\n",
       "      <td>0 days 00:53:05</td>\n",
       "      <td>22</td>\n",
       "      <td>10</td>\n",
       "    </tr>\n",
       "  </tbody>\n",
       "</table>\n",
       "<p>5093 rows × 5 columns</p>\n",
       "</div>"
      ],
      "text/plain": [
       "      Unnamed: 0            datetime      time_delta  days  month\n",
       "4078        4078 2019-12-16 16:25:02             NaT    16     12\n",
       "4077        4077 2019-12-16 16:28:45 0 days 00:03:43    16     12\n",
       "4076        4076 2019-12-16 16:29:00 0 days 00:00:15    16     12\n",
       "4075        4075 2019-12-16 16:30:32 0 days 00:01:32    16     12\n",
       "4074        4074 2019-12-16 16:34:11 0 days 00:03:39    16     12\n",
       "...          ...                 ...             ...   ...    ...\n",
       "0              0 2023-10-22 18:40:42 0 days 00:49:28    22     10\n",
       "2166        2166 2023-10-22 20:13:07 0 days 01:32:25    22     10\n",
       "2165        2165 2023-10-22 20:47:13 0 days 00:34:06    22     10\n",
       "2164        2164 2023-10-22 22:49:10 0 days 02:01:57    22     10\n",
       "2163        2163 2023-10-22 23:42:15 0 days 00:53:05    22     10\n",
       "\n",
       "[5093 rows x 5 columns]"
      ]
     },
     "execution_count": 9,
     "metadata": {},
     "output_type": "execute_result"
    }
   ],
   "source": [
    "df"
   ]
  },
  {
   "cell_type": "code",
   "execution_count": 32,
   "id": "59a7ce93",
   "metadata": {},
   "outputs": [
    {
     "data": {
      "text/html": [
       "<div>\n",
       "<style scoped>\n",
       "    .dataframe tbody tr th:only-of-type {\n",
       "        vertical-align: middle;\n",
       "    }\n",
       "\n",
       "    .dataframe tbody tr th {\n",
       "        vertical-align: top;\n",
       "    }\n",
       "\n",
       "    .dataframe thead th {\n",
       "        text-align: right;\n",
       "    }\n",
       "</style>\n",
       "<table border=\"1\" class=\"dataframe\">\n",
       "  <thead>\n",
       "    <tr style=\"text-align: right;\">\n",
       "      <th></th>\n",
       "      <th></th>\n",
       "      <th>Unnamed: 0</th>\n",
       "      <th>datetime</th>\n",
       "      <th>time_delta</th>\n",
       "    </tr>\n",
       "    <tr>\n",
       "      <th>days</th>\n",
       "      <th>month</th>\n",
       "      <th></th>\n",
       "      <th></th>\n",
       "      <th></th>\n",
       "    </tr>\n",
       "  </thead>\n",
       "  <tbody>\n",
       "    <tr>\n",
       "      <th rowspan=\"5\" valign=\"top\">1</th>\n",
       "      <th>1</th>\n",
       "      <td>8</td>\n",
       "      <td>8</td>\n",
       "      <td>8</td>\n",
       "    </tr>\n",
       "    <tr>\n",
       "      <th>2</th>\n",
       "      <td>6</td>\n",
       "      <td>6</td>\n",
       "      <td>6</td>\n",
       "    </tr>\n",
       "    <tr>\n",
       "      <th>3</th>\n",
       "      <td>4</td>\n",
       "      <td>4</td>\n",
       "      <td>4</td>\n",
       "    </tr>\n",
       "    <tr>\n",
       "      <th>4</th>\n",
       "      <td>14</td>\n",
       "      <td>14</td>\n",
       "      <td>14</td>\n",
       "    </tr>\n",
       "    <tr>\n",
       "      <th>5</th>\n",
       "      <td>9</td>\n",
       "      <td>9</td>\n",
       "      <td>9</td>\n",
       "    </tr>\n",
       "    <tr>\n",
       "      <th>...</th>\n",
       "      <th>...</th>\n",
       "      <td>...</td>\n",
       "      <td>...</td>\n",
       "      <td>...</td>\n",
       "    </tr>\n",
       "    <tr>\n",
       "      <th rowspan=\"5\" valign=\"top\">31</th>\n",
       "      <th>5</th>\n",
       "      <td>24</td>\n",
       "      <td>24</td>\n",
       "      <td>24</td>\n",
       "    </tr>\n",
       "    <tr>\n",
       "      <th>7</th>\n",
       "      <td>16</td>\n",
       "      <td>16</td>\n",
       "      <td>16</td>\n",
       "    </tr>\n",
       "    <tr>\n",
       "      <th>8</th>\n",
       "      <td>26</td>\n",
       "      <td>26</td>\n",
       "      <td>26</td>\n",
       "    </tr>\n",
       "    <tr>\n",
       "      <th>10</th>\n",
       "      <td>4</td>\n",
       "      <td>4</td>\n",
       "      <td>4</td>\n",
       "    </tr>\n",
       "    <tr>\n",
       "      <th>12</th>\n",
       "      <td>2</td>\n",
       "      <td>2</td>\n",
       "      <td>2</td>\n",
       "    </tr>\n",
       "  </tbody>\n",
       "</table>\n",
       "<p>345 rows × 3 columns</p>\n",
       "</div>"
      ],
      "text/plain": [
       "            Unnamed: 0  datetime  time_delta\n",
       "days month                                  \n",
       "1    1               8         8           8\n",
       "     2               6         6           6\n",
       "     3               4         4           4\n",
       "     4              14        14          14\n",
       "     5               9         9           9\n",
       "...                ...       ...         ...\n",
       "31   5              24        24          24\n",
       "     7              16        16          16\n",
       "     8              26        26          26\n",
       "     10              4         4           4\n",
       "     12              2         2           2\n",
       "\n",
       "[345 rows x 3 columns]"
      ]
     },
     "execution_count": 32,
     "metadata": {},
     "output_type": "execute_result"
    }
   ],
   "source": [
    "df_by_day = df.groupby(['days', 'month']).count()\n",
    "df_by_day"
   ]
  },
  {
   "cell_type": "code",
   "execution_count": 11,
   "id": "7eb7535a",
   "metadata": {},
   "outputs": [
    {
     "data": {
      "text/html": [
       "<div>\n",
       "<style scoped>\n",
       "    .dataframe tbody tr th:only-of-type {\n",
       "        vertical-align: middle;\n",
       "    }\n",
       "\n",
       "    .dataframe tbody tr th {\n",
       "        vertical-align: top;\n",
       "    }\n",
       "\n",
       "    .dataframe thead th {\n",
       "        text-align: right;\n",
       "    }\n",
       "</style>\n",
       "<table border=\"1\" class=\"dataframe\">\n",
       "  <thead>\n",
       "    <tr style=\"text-align: right;\">\n",
       "      <th></th>\n",
       "      <th></th>\n",
       "      <th>Unnamed: 0</th>\n",
       "      <th>datetime</th>\n",
       "      <th>time_delta</th>\n",
       "    </tr>\n",
       "    <tr>\n",
       "      <th>days</th>\n",
       "      <th>month</th>\n",
       "      <th></th>\n",
       "      <th></th>\n",
       "      <th></th>\n",
       "    </tr>\n",
       "  </thead>\n",
       "  <tbody>\n",
       "    <tr>\n",
       "      <th>20</th>\n",
       "      <th>7</th>\n",
       "      <td>72</td>\n",
       "      <td>72</td>\n",
       "      <td>72</td>\n",
       "    </tr>\n",
       "  </tbody>\n",
       "</table>\n",
       "</div>"
      ],
      "text/plain": [
       "            Unnamed: 0  datetime  time_delta\n",
       "days month                                  \n",
       "20   7              72        72          72"
      ]
     },
     "execution_count": 11,
     "metadata": {},
     "output_type": "execute_result"
    }
   ],
   "source": [
    "df_by_day[df_by_day['datetime'] == df_by_day['datetime'].max()]"
   ]
  },
  {
   "cell_type": "markdown",
   "id": "41be5ece",
   "metadata": {},
   "source": [
    "looks like the most comon date was the 20th of july"
   ]
  },
  {
   "cell_type": "code",
   "execution_count": 31,
   "id": "7e1b6c68",
   "metadata": {},
   "outputs": [
    {
     "data": {
      "image/png": "[encoded data removed]",
      "text/plain": [
       "<Figure size 640x480 with 1 Axes>"
      ]
     },
     "metadata": {},
     "output_type": "display_data"
    }
   ],
   "source": [
    "# plt.figure(figsize=(8, 6))\n",
    "\n",
    "# sb.histplot(x = 'days', y= 'datetime', hue ='month', data=df_by_day, multiple=\"stack\",     edgecolor=\".3\",\n",
    "#     linewidth=.5,)\n",
    "plot = sb.violinplot(x='month', y='days', data = df, inner='quartiles').set(xlabel = \"month\", ylabel = 'day')\n"
   ]
  },
  {
   "cell_type": "markdown",
   "id": "036d89f9",
   "metadata": {},
   "source": [
    "visualization of when the rows were recorded in the month by day"
   ]
  },
  {
   "cell_type": "markdown",
   "id": "e691b144",
   "metadata": {},
   "source": [
    "My guess as to what the data is: I think this could be music or location data. The number of instances per day seems a little low to be spotify, however I don't know how often Angel listens to music. Given the highly variat time between instances beint recorded I think the most likely option is music. I think I could improve my guess by looking at other datasets of either music or location data and comparing them to this one."
   ]
  },
  {
   "cell_type": "code",
   "execution_count": null,
   "id": "56fce5f0",
   "metadata": {},
   "outputs": [],
   "source": []
  }
 ],
 "metadata": {
  "kernelspec": {
   "display_name": "Python 3 (ipykernel)",
   "language": "python",
   "name": "python3"
  },
  "language_info": {
   "codemirror_mode": {
    "name": "ipython",
    "version": 3
   },
   "file_extension": ".py",
   "mimetype": "text/x-python",
   "name": "python",
   "nbconvert_exporter": "python",
   "pygments_lexer": "ipython3",
   "version": "3.11.4"
  }
 },
 "nbformat": 4,
 "nbformat_minor": 5
}
