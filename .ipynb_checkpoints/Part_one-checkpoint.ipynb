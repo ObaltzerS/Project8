{
 "cells": [
  {
   "cell_type": "code",
   "execution_count": 22,
   "id": "7c8a2f48",
   "metadata": {},
   "outputs": [],
   "source": [
    "import pandas as pd\n",
    "import seaborn as sb\n",
    "import matplotlib.pyplot as plt\n",
    "import pandas as pd\n",
    "import numpy as np\n",
    "from matplotlib import pyplot as plt\n",
    "import seaborn as sns\n",
    "from datetime import datetime"
   ]
  },
  {
   "cell_type": "markdown",
   "id": "af0ef21c",
   "metadata": {},
   "source": [
    "# Part Two - Oliver"
   ]
  },
  {
   "cell_type": "code",
   "execution_count": 2,
   "id": "e31185d2",
   "metadata": {},
   "outputs": [],
   "source": [
    "df = pd.read_csv(\"angel_timestamps.csv\")\n",
    "df['datetime'] = pd.to_datetime(df['Start Time'])\n",
    "df = df.sort_values(by = 'datetime', ascending=True)"
   ]
  },
  {
   "cell_type": "markdown",
   "id": "10f2092c",
   "metadata": {},
   "source": [
    "What is the longest time between timestamps? What is the average time between timestamps?"
   ]
  },
  {
   "cell_type": "code",
   "execution_count": 3,
   "id": "8eb114e1",
   "metadata": {},
   "outputs": [
    {
     "data": {
      "text/plain": [
       "Index(['Unnamed: 0', 'Start Time', 'datetime', 'time_delta'], dtype='object')"
      ]
     },
     "execution_count": 3,
     "metadata": {},
     "output_type": "execute_result"
    }
   ],
   "source": [
    "df['time_delta'] = df[\"datetime\"].diff()\n",
    "df.columns"
   ]
  },
  {
   "cell_type": "code",
   "execution_count": 4,
   "id": "23a3ef5e",
   "metadata": {},
   "outputs": [],
   "source": [
    "df = df.drop('Start Time', axis=1)\n"
   ]
  },
  {
   "cell_type": "code",
   "execution_count": 5,
   "id": "841df6f0",
   "metadata": {},
   "outputs": [
    {
     "data": {
      "text/plain": [
       "count                         5092\n",
       "mean     0 days 06:37:41.868224666\n",
       "std      0 days 23:37:50.115210269\n",
       "min                0 days 00:00:00\n",
       "25%                0 days 00:16:30\n",
       "50%                0 days 00:29:08\n",
       "75%         0 days 02:13:28.750000\n",
       "max               25 days 01:35:12\n",
       "Name: time_delta, dtype: object"
      ]
     },
     "execution_count": 5,
     "metadata": {},
     "output_type": "execute_result"
    }
   ],
   "source": [
    "df['time_delta'].describe()"
   ]
  },
  {
   "cell_type": "markdown",
   "id": "521a8c00",
   "metadata": {},
   "source": [
    "Looks like the longest time between records was about 25 days, while the average time between records was about 6 hours."
   ]
  },
  {
   "cell_type": "markdown",
   "id": "9b69aab4",
   "metadata": {},
   "source": [
    "What is the day with the most timestamps? How many events (timestamps) were on that day? "
   ]
  },
  {
   "cell_type": "code",
   "execution_count": 6,
   "id": "632d21fa",
   "metadata": {},
   "outputs": [],
   "source": [
    "df['days'] = pd.DatetimeIndex(df['datetime']).day\n",
    "df['month'] = pd.DatetimeIndex(df['datetime']).month\n",
    "df['year'] = pd.DatetimeIndex(df['datetime']).year"
   ]
  },
  {
   "cell_type": "code",
   "execution_count": 7,
   "id": "59a7ce93",
   "metadata": {},
   "outputs": [
    {
     "data": {
      "text/html": [
       "<div>\n",
       "<style scoped>\n",
       "    .dataframe tbody tr th:only-of-type {\n",
       "        vertical-align: middle;\n",
       "    }\n",
       "\n",
       "    .dataframe tbody tr th {\n",
       "        vertical-align: top;\n",
       "    }\n",
       "\n",
       "    .dataframe thead th {\n",
       "        text-align: right;\n",
       "    }\n",
       "</style>\n",
       "<table border=\"1\" class=\"dataframe\">\n",
       "  <thead>\n",
       "    <tr style=\"text-align: right;\">\n",
       "      <th></th>\n",
       "      <th></th>\n",
       "      <th></th>\n",
       "      <th>Unnamed: 0</th>\n",
       "      <th>datetime</th>\n",
       "      <th>time_delta</th>\n",
       "    </tr>\n",
       "    <tr>\n",
       "      <th>year</th>\n",
       "      <th>month</th>\n",
       "      <th>days</th>\n",
       "      <th></th>\n",
       "      <th></th>\n",
       "      <th></th>\n",
       "    </tr>\n",
       "  </thead>\n",
       "  <tbody>\n",
       "    <tr>\n",
       "      <th rowspan=\"5\" valign=\"top\">2019</th>\n",
       "      <th rowspan=\"5\" valign=\"top\">12</th>\n",
       "      <th>16</th>\n",
       "      <td>14</td>\n",
       "      <td>14</td>\n",
       "      <td>13</td>\n",
       "    </tr>\n",
       "    <tr>\n",
       "      <th>17</th>\n",
       "      <td>9</td>\n",
       "      <td>9</td>\n",
       "      <td>9</td>\n",
       "    </tr>\n",
       "    <tr>\n",
       "      <th>18</th>\n",
       "      <td>6</td>\n",
       "      <td>6</td>\n",
       "      <td>6</td>\n",
       "    </tr>\n",
       "    <tr>\n",
       "      <th>19</th>\n",
       "      <td>5</td>\n",
       "      <td>5</td>\n",
       "      <td>5</td>\n",
       "    </tr>\n",
       "    <tr>\n",
       "      <th>20</th>\n",
       "      <td>14</td>\n",
       "      <td>14</td>\n",
       "      <td>14</td>\n",
       "    </tr>\n",
       "    <tr>\n",
       "      <th>...</th>\n",
       "      <th>...</th>\n",
       "      <th>...</th>\n",
       "      <td>...</td>\n",
       "      <td>...</td>\n",
       "      <td>...</td>\n",
       "    </tr>\n",
       "    <tr>\n",
       "      <th rowspan=\"5\" valign=\"top\">2023</th>\n",
       "      <th rowspan=\"5\" valign=\"top\">10</th>\n",
       "      <th>18</th>\n",
       "      <td>1</td>\n",
       "      <td>1</td>\n",
       "      <td>1</td>\n",
       "    </tr>\n",
       "    <tr>\n",
       "      <th>19</th>\n",
       "      <td>3</td>\n",
       "      <td>3</td>\n",
       "      <td>3</td>\n",
       "    </tr>\n",
       "    <tr>\n",
       "      <th>20</th>\n",
       "      <td>10</td>\n",
       "      <td>10</td>\n",
       "      <td>10</td>\n",
       "    </tr>\n",
       "    <tr>\n",
       "      <th>21</th>\n",
       "      <td>5</td>\n",
       "      <td>5</td>\n",
       "      <td>5</td>\n",
       "    </tr>\n",
       "    <tr>\n",
       "      <th>22</th>\n",
       "      <td>20</td>\n",
       "      <td>20</td>\n",
       "      <td>20</td>\n",
       "    </tr>\n",
       "  </tbody>\n",
       "</table>\n",
       "<p>817 rows × 3 columns</p>\n",
       "</div>"
      ],
      "text/plain": [
       "                 Unnamed: 0  datetime  time_delta\n",
       "year month days                                  \n",
       "2019 12    16            14        14          13\n",
       "           17             9         9           9\n",
       "           18             6         6           6\n",
       "           19             5         5           5\n",
       "           20            14        14          14\n",
       "...                     ...       ...         ...\n",
       "2023 10    18             1         1           1\n",
       "           19             3         3           3\n",
       "           20            10        10          10\n",
       "           21             5         5           5\n",
       "           22            20        20          20\n",
       "\n",
       "[817 rows x 3 columns]"
      ]
     },
     "execution_count": 7,
     "metadata": {},
     "output_type": "execute_result"
    }
   ],
   "source": [
    "df_by_day = df.groupby(['year','month','days']).count()\n",
    "df_by_day # dataframe grouped by unique day"
   ]
  },
  {
   "cell_type": "code",
   "execution_count": 8,
   "id": "7eb7535a",
   "metadata": {},
   "outputs": [
    {
     "data": {
      "text/html": [
       "<div>\n",
       "<style scoped>\n",
       "    .dataframe tbody tr th:only-of-type {\n",
       "        vertical-align: middle;\n",
       "    }\n",
       "\n",
       "    .dataframe tbody tr th {\n",
       "        vertical-align: top;\n",
       "    }\n",
       "\n",
       "    .dataframe thead th {\n",
       "        text-align: right;\n",
       "    }\n",
       "</style>\n",
       "<table border=\"1\" class=\"dataframe\">\n",
       "  <thead>\n",
       "    <tr style=\"text-align: right;\">\n",
       "      <th></th>\n",
       "      <th></th>\n",
       "      <th></th>\n",
       "      <th>Unnamed: 0</th>\n",
       "      <th>datetime</th>\n",
       "      <th>time_delta</th>\n",
       "    </tr>\n",
       "    <tr>\n",
       "      <th>year</th>\n",
       "      <th>month</th>\n",
       "      <th>days</th>\n",
       "      <th></th>\n",
       "      <th></th>\n",
       "      <th></th>\n",
       "    </tr>\n",
       "  </thead>\n",
       "  <tbody>\n",
       "    <tr>\n",
       "      <th>2023</th>\n",
       "      <th>7</th>\n",
       "      <th>20</th>\n",
       "      <td>61</td>\n",
       "      <td>61</td>\n",
       "      <td>61</td>\n",
       "    </tr>\n",
       "  </tbody>\n",
       "</table>\n",
       "</div>"
      ],
      "text/plain": [
       "                 Unnamed: 0  datetime  time_delta\n",
       "year month days                                  \n",
       "2023 7     20            61        61          61"
      ]
     },
     "execution_count": 8,
     "metadata": {},
     "output_type": "execute_result"
    }
   ],
   "source": [
    "df_by_day[df_by_day['datetime'] == df_by_day['datetime'].max()]"
   ]
  },
  {
   "cell_type": "markdown",
   "id": "41be5ece",
   "metadata": {},
   "source": [
    "Looks like the day with the most records was July 20th, 2023. It had 61 datetime instances recorded."
   ]
  },
  {
   "cell_type": "markdown",
   "id": "a712a743",
   "metadata": {},
   "source": [
    "What is the month with the most timestamps? How many events (timestamps) were on that month?"
   ]
  },
  {
   "cell_type": "code",
   "execution_count": 9,
   "id": "0a39d3b0",
   "metadata": {},
   "outputs": [],
   "source": [
    "df_by_month = df.groupby(['month']).count()"
   ]
  },
  {
   "cell_type": "code",
   "execution_count": 10,
   "id": "922dd49b",
   "metadata": {},
   "outputs": [
    {
     "data": {
      "text/html": [
       "<div>\n",
       "<style scoped>\n",
       "    .dataframe tbody tr th:only-of-type {\n",
       "        vertical-align: middle;\n",
       "    }\n",
       "\n",
       "    .dataframe tbody tr th {\n",
       "        vertical-align: top;\n",
       "    }\n",
       "\n",
       "    .dataframe thead th {\n",
       "        text-align: right;\n",
       "    }\n",
       "</style>\n",
       "<table border=\"1\" class=\"dataframe\">\n",
       "  <thead>\n",
       "    <tr style=\"text-align: right;\">\n",
       "      <th></th>\n",
       "      <th>Unnamed: 0</th>\n",
       "      <th>datetime</th>\n",
       "      <th>time_delta</th>\n",
       "      <th>days</th>\n",
       "      <th>year</th>\n",
       "    </tr>\n",
       "    <tr>\n",
       "      <th>month</th>\n",
       "      <th></th>\n",
       "      <th></th>\n",
       "      <th></th>\n",
       "      <th></th>\n",
       "      <th></th>\n",
       "    </tr>\n",
       "  </thead>\n",
       "  <tbody>\n",
       "    <tr>\n",
       "      <th>7</th>\n",
       "      <td>901</td>\n",
       "      <td>901</td>\n",
       "      <td>901</td>\n",
       "      <td>901</td>\n",
       "      <td>901</td>\n",
       "    </tr>\n",
       "  </tbody>\n",
       "</table>\n",
       "</div>"
      ],
      "text/plain": [
       "       Unnamed: 0  datetime  time_delta  days  year\n",
       "month                                              \n",
       "7             901       901         901   901   901"
      ]
     },
     "execution_count": 10,
     "metadata": {},
     "output_type": "execute_result"
    }
   ],
   "source": [
    "df_by_month[df_by_month['datetime'] == df_by_month['datetime'].max()]"
   ]
  },
  {
   "cell_type": "markdown",
   "id": "1a3aaf87",
   "metadata": {},
   "source": [
    "The month with the most records was July, with 901 instances recorded."
   ]
  },
  {
   "cell_type": "markdown",
   "id": "dc61a11e",
   "metadata": {},
   "source": [
    "Create at least one visualization of this data, using matplotlib/pyplot or Seaborn (refer back to our earlier class activities on visualizing time series data).  What can they tell you about the data?"
   ]
  },
  {
   "cell_type": "markdown",
   "id": "568df61c",
   "metadata": {},
   "source": [
    "What do you think the source of this data is? Write a few sentences explaining your reasoning, as well as what other data might help you verify if you are correct?"
   ]
  },
  {
   "cell_type": "code",
   "execution_count": 11,
   "id": "7e1b6c68",
   "metadata": {},
   "outputs": [
    {
     "data": {
      "image/png": "[encoded data removed]",
      "text/plain": [
       "<Figure size 640x480 with 1 Axes>"
      ]
     },
     "metadata": {},
     "output_type": "display_data"
    }
   ],
   "source": [
    "plot = sb.violinplot(x='month', y='days', data = df, inner='quartiles').set(xlabel = \"month\", ylabel = 'day')"
   ]
  },
  {
   "cell_type": "markdown",
   "id": "036d89f9",
   "metadata": {},
   "source": [
    "visualization of when the rows were recorded in the month by day"
   ]
  },
  {
   "cell_type": "markdown",
   "id": "e691b144",
   "metadata": {},
   "source": [
    "My guess as to what the data is: I think this could be music or location data. The number of instances per day seems a little low to be spotify, however I don't know how often Angel listens to music. Given the highly variat time between instances beint recorded I think the most likely option is music. I think I could improve my guess by looking at other datasets of either music or location data and comparing them to this one."
   ]
  },
  {
   "cell_type": "markdown",
   "id": "256393f8",
   "metadata": {},
   "source": [
    "# Part Four - Oliver"
   ]
  },
  {
   "cell_type": "markdown",
   "id": "2af6cbab",
   "metadata": {},
   "source": [
    "At least two clear questions that you ask and then (attempt to) answer via data analysis"
   ]
  },
  {
   "cell_type": "code",
   "execution_count": 12,
   "id": "db493d77",
   "metadata": {},
   "outputs": [
    {
     "data": {
      "text/html": [
       "<div>\n",
       "<style scoped>\n",
       "    .dataframe tbody tr th:only-of-type {\n",
       "        vertical-align: middle;\n",
       "    }\n",
       "\n",
       "    .dataframe tbody tr th {\n",
       "        vertical-align: top;\n",
       "    }\n",
       "\n",
       "    .dataframe thead th {\n",
       "        text-align: right;\n",
       "    }\n",
       "</style>\n",
       "<table border=\"1\" class=\"dataframe\">\n",
       "  <thead>\n",
       "    <tr style=\"text-align: right;\">\n",
       "      <th></th>\n",
       "      <th>Unnamed: 0</th>\n",
       "      <th>TimeStamp</th>\n",
       "    </tr>\n",
       "  </thead>\n",
       "  <tbody>\n",
       "    <tr>\n",
       "      <th>0</th>\n",
       "      <td>0</td>\n",
       "      <td>2022-10-17 20:47:00</td>\n",
       "    </tr>\n",
       "    <tr>\n",
       "      <th>1</th>\n",
       "      <td>1</td>\n",
       "      <td>2022-10-20 00:02:00</td>\n",
       "    </tr>\n",
       "    <tr>\n",
       "      <th>2</th>\n",
       "      <td>2</td>\n",
       "      <td>2022-10-20 00:02:00</td>\n",
       "    </tr>\n",
       "    <tr>\n",
       "      <th>3</th>\n",
       "      <td>3</td>\n",
       "      <td>2022-10-20 00:02:00</td>\n",
       "    </tr>\n",
       "    <tr>\n",
       "      <th>4</th>\n",
       "      <td>4</td>\n",
       "      <td>2022-10-20 00:02:00</td>\n",
       "    </tr>\n",
       "    <tr>\n",
       "      <th>...</th>\n",
       "      <td>...</td>\n",
       "      <td>...</td>\n",
       "    </tr>\n",
       "    <tr>\n",
       "      <th>9995</th>\n",
       "      <td>9995</td>\n",
       "      <td>2023-01-01 20:52:00</td>\n",
       "    </tr>\n",
       "    <tr>\n",
       "      <th>9996</th>\n",
       "      <td>9996</td>\n",
       "      <td>2023-01-01 20:52:00</td>\n",
       "    </tr>\n",
       "    <tr>\n",
       "      <th>9997</th>\n",
       "      <td>9997</td>\n",
       "      <td>2023-01-01 20:52:00</td>\n",
       "    </tr>\n",
       "    <tr>\n",
       "      <th>9998</th>\n",
       "      <td>9998</td>\n",
       "      <td>2023-01-01 20:52:00</td>\n",
       "    </tr>\n",
       "    <tr>\n",
       "      <th>9999</th>\n",
       "      <td>9999</td>\n",
       "      <td>2023-01-01 20:52:00</td>\n",
       "    </tr>\n",
       "  </tbody>\n",
       "</table>\n",
       "<p>10000 rows × 2 columns</p>\n",
       "</div>"
      ],
      "text/plain": [
       "      Unnamed: 0            TimeStamp\n",
       "0              0  2022-10-17 20:47:00\n",
       "1              1  2022-10-20 00:02:00\n",
       "2              2  2022-10-20 00:02:00\n",
       "3              3  2022-10-20 00:02:00\n",
       "4              4  2022-10-20 00:02:00\n",
       "...          ...                  ...\n",
       "9995        9995  2023-01-01 20:52:00\n",
       "9996        9996  2023-01-01 20:52:00\n",
       "9997        9997  2023-01-01 20:52:00\n",
       "9998        9998  2023-01-01 20:52:00\n",
       "9999        9999  2023-01-01 20:52:00\n",
       "\n",
       "[10000 rows x 2 columns]"
      ]
     },
     "execution_count": 12,
     "metadata": {},
     "output_type": "execute_result"
    }
   ],
   "source": [
    "df = pd.read_csv(\"TimeStamps\")\n",
    "df"
   ]
  },
  {
   "cell_type": "markdown",
   "id": "abe35612",
   "metadata": {},
   "source": [
    "Q1: What is the most common time of day that I listen to music? \n",
    "\n",
    "Q2: On which day of the daset did I listen to the most music?"
   ]
  },
  {
   "cell_type": "code",
   "execution_count": 13,
   "id": "5931d099",
   "metadata": {},
   "outputs": [],
   "source": [
    "df[\"hour\"] = pd.DatetimeIndex(df['TimeStamp']).hour\n",
    "df[\"day\"] = pd.DatetimeIndex(df['TimeStamp']).day\n",
    "df[\"month\"] = pd.DatetimeIndex(df['TimeStamp']).month\n",
    "df[\"year\"] = pd.DatetimeIndex(df['TimeStamp']).year"
   ]
  },
  {
   "cell_type": "code",
   "execution_count": 14,
   "id": "175c1073",
   "metadata": {},
   "outputs": [],
   "source": [
    "df_common_hour = df.groupby(\"hour\").count()"
   ]
  },
  {
   "cell_type": "code",
   "execution_count": 15,
   "id": "6671cde0",
   "metadata": {},
   "outputs": [
    {
     "data": {
      "text/html": [
       "<div>\n",
       "<style scoped>\n",
       "    .dataframe tbody tr th:only-of-type {\n",
       "        vertical-align: middle;\n",
       "    }\n",
       "\n",
       "    .dataframe tbody tr th {\n",
       "        vertical-align: top;\n",
       "    }\n",
       "\n",
       "    .dataframe thead th {\n",
       "        text-align: right;\n",
       "    }\n",
       "</style>\n",
       "<table border=\"1\" class=\"dataframe\">\n",
       "  <thead>\n",
       "    <tr style=\"text-align: right;\">\n",
       "      <th></th>\n",
       "      <th>Unnamed: 0</th>\n",
       "      <th>TimeStamp</th>\n",
       "      <th>day</th>\n",
       "      <th>month</th>\n",
       "      <th>year</th>\n",
       "    </tr>\n",
       "    <tr>\n",
       "      <th>hour</th>\n",
       "      <th></th>\n",
       "      <th></th>\n",
       "      <th></th>\n",
       "      <th></th>\n",
       "      <th></th>\n",
       "    </tr>\n",
       "  </thead>\n",
       "  <tbody>\n",
       "    <tr>\n",
       "      <th>20</th>\n",
       "      <td>1224</td>\n",
       "      <td>1224</td>\n",
       "      <td>1224</td>\n",
       "      <td>1224</td>\n",
       "      <td>1224</td>\n",
       "    </tr>\n",
       "  </tbody>\n",
       "</table>\n",
       "</div>"
      ],
      "text/plain": [
       "      Unnamed: 0  TimeStamp   day  month  year\n",
       "hour                                          \n",
       "20          1224       1224  1224   1224  1224"
      ]
     },
     "execution_count": 15,
     "metadata": {},
     "output_type": "execute_result"
    }
   ],
   "source": [
    "df_common_hour[df_common_hour[\"TimeStamp\"] == df_common_hour[\"TimeStamp\"].max()]"
   ]
  },
  {
   "cell_type": "markdown",
   "id": "34fd63d4",
   "metadata": {},
   "source": [
    "looks like the most common time among the dataset for me to listen to music is \"20\" which is 8pm which makes sense, that is when I typically do homework and listen to music."
   ]
  },
  {
   "cell_type": "code",
   "execution_count": 16,
   "id": "a3dd478d",
   "metadata": {},
   "outputs": [],
   "source": [
    "df_days = df.groupby(['month', 'day', 'year']).count()"
   ]
  },
  {
   "cell_type": "code",
   "execution_count": 17,
   "id": "75a2046c",
   "metadata": {},
   "outputs": [
    {
     "data": {
      "text/html": [
       "<div>\n",
       "<style scoped>\n",
       "    .dataframe tbody tr th:only-of-type {\n",
       "        vertical-align: middle;\n",
       "    }\n",
       "\n",
       "    .dataframe tbody tr th {\n",
       "        vertical-align: top;\n",
       "    }\n",
       "\n",
       "    .dataframe thead th {\n",
       "        text-align: right;\n",
       "    }\n",
       "</style>\n",
       "<table border=\"1\" class=\"dataframe\">\n",
       "  <thead>\n",
       "    <tr style=\"text-align: right;\">\n",
       "      <th></th>\n",
       "      <th></th>\n",
       "      <th></th>\n",
       "      <th>Unnamed: 0</th>\n",
       "      <th>TimeStamp</th>\n",
       "      <th>hour</th>\n",
       "    </tr>\n",
       "    <tr>\n",
       "      <th>month</th>\n",
       "      <th>day</th>\n",
       "      <th>year</th>\n",
       "      <th></th>\n",
       "      <th></th>\n",
       "      <th></th>\n",
       "    </tr>\n",
       "  </thead>\n",
       "  <tbody>\n",
       "    <tr>\n",
       "      <th>12</th>\n",
       "      <th>30</th>\n",
       "      <th>2022</th>\n",
       "      <td>449</td>\n",
       "      <td>449</td>\n",
       "      <td>449</td>\n",
       "    </tr>\n",
       "  </tbody>\n",
       "</table>\n",
       "</div>"
      ],
      "text/plain": [
       "                Unnamed: 0  TimeStamp  hour\n",
       "month day year                             \n",
       "12    30  2022         449        449   449"
      ]
     },
     "execution_count": 17,
     "metadata": {},
     "output_type": "execute_result"
    }
   ],
   "source": [
    "df_days[df_days['TimeStamp'] == df_days['TimeStamp'].max()]"
   ]
  },
  {
   "cell_type": "markdown",
   "id": "dbda650f",
   "metadata": {},
   "source": [
    "looks like on December 30th, of 2022 I listened to the most music, I was on break at this time so it makes sense that I was listening to a lot of music."
   ]
  },
  {
   "cell_type": "markdown",
   "id": "3ea9b787",
   "metadata": {},
   "source": [
    "I will visualize the amount of data recorded each day of the dataset"
   ]
  },
  {
   "cell_type": "code",
   "execution_count": 18,
   "id": "bea5cc34",
   "metadata": {},
   "outputs": [],
   "source": [
    "\n",
    "df['unique_date'] = pd.DatetimeIndex(df['TimeStamp']).date"
   ]
  },
  {
   "cell_type": "code",
   "execution_count": 19,
   "id": "24892c15",
   "metadata": {},
   "outputs": [
    {
     "data": {
      "text/html": [
       "<div>\n",
       "<style scoped>\n",
       "    .dataframe tbody tr th:only-of-type {\n",
       "        vertical-align: middle;\n",
       "    }\n",
       "\n",
       "    .dataframe tbody tr th {\n",
       "        vertical-align: top;\n",
       "    }\n",
       "\n",
       "    .dataframe thead th {\n",
       "        text-align: right;\n",
       "    }\n",
       "</style>\n",
       "<table border=\"1\" class=\"dataframe\">\n",
       "  <thead>\n",
       "    <tr style=\"text-align: right;\">\n",
       "      <th></th>\n",
       "      <th>Unnamed: 0</th>\n",
       "      <th>TimeStamp</th>\n",
       "      <th>hour</th>\n",
       "      <th>day</th>\n",
       "      <th>month</th>\n",
       "      <th>year</th>\n",
       "      <th>date</th>\n",
       "      <th>count</th>\n",
       "    </tr>\n",
       "    <tr>\n",
       "      <th>unique_date</th>\n",
       "      <th></th>\n",
       "      <th></th>\n",
       "      <th></th>\n",
       "      <th></th>\n",
       "      <th></th>\n",
       "      <th></th>\n",
       "      <th></th>\n",
       "      <th></th>\n",
       "    </tr>\n",
       "  </thead>\n",
       "  <tbody>\n",
       "    <tr>\n",
       "      <th>2022-10-17</th>\n",
       "      <td>1</td>\n",
       "      <td>1</td>\n",
       "      <td>1</td>\n",
       "      <td>1</td>\n",
       "      <td>1</td>\n",
       "      <td>1</td>\n",
       "      <td>2022-10-17</td>\n",
       "      <td>1</td>\n",
       "    </tr>\n",
       "    <tr>\n",
       "      <th>2022-10-20</th>\n",
       "      <td>124</td>\n",
       "      <td>124</td>\n",
       "      <td>124</td>\n",
       "      <td>124</td>\n",
       "      <td>124</td>\n",
       "      <td>124</td>\n",
       "      <td>2022-10-20</td>\n",
       "      <td>124</td>\n",
       "    </tr>\n",
       "    <tr>\n",
       "      <th>2022-10-21</th>\n",
       "      <td>141</td>\n",
       "      <td>141</td>\n",
       "      <td>141</td>\n",
       "      <td>141</td>\n",
       "      <td>141</td>\n",
       "      <td>141</td>\n",
       "      <td>2022-10-21</td>\n",
       "      <td>141</td>\n",
       "    </tr>\n",
       "    <tr>\n",
       "      <th>2022-10-22</th>\n",
       "      <td>85</td>\n",
       "      <td>85</td>\n",
       "      <td>85</td>\n",
       "      <td>85</td>\n",
       "      <td>85</td>\n",
       "      <td>85</td>\n",
       "      <td>2022-10-22</td>\n",
       "      <td>85</td>\n",
       "    </tr>\n",
       "    <tr>\n",
       "      <th>2022-10-23</th>\n",
       "      <td>96</td>\n",
       "      <td>96</td>\n",
       "      <td>96</td>\n",
       "      <td>96</td>\n",
       "      <td>96</td>\n",
       "      <td>96</td>\n",
       "      <td>2022-10-23</td>\n",
       "      <td>96</td>\n",
       "    </tr>\n",
       "    <tr>\n",
       "      <th>...</th>\n",
       "      <td>...</td>\n",
       "      <td>...</td>\n",
       "      <td>...</td>\n",
       "      <td>...</td>\n",
       "      <td>...</td>\n",
       "      <td>...</td>\n",
       "      <td>...</td>\n",
       "      <td>...</td>\n",
       "    </tr>\n",
       "    <tr>\n",
       "      <th>2022-12-28</th>\n",
       "      <td>129</td>\n",
       "      <td>129</td>\n",
       "      <td>129</td>\n",
       "      <td>129</td>\n",
       "      <td>129</td>\n",
       "      <td>129</td>\n",
       "      <td>2022-12-28</td>\n",
       "      <td>129</td>\n",
       "    </tr>\n",
       "    <tr>\n",
       "      <th>2022-12-29</th>\n",
       "      <td>230</td>\n",
       "      <td>230</td>\n",
       "      <td>230</td>\n",
       "      <td>230</td>\n",
       "      <td>230</td>\n",
       "      <td>230</td>\n",
       "      <td>2022-12-29</td>\n",
       "      <td>230</td>\n",
       "    </tr>\n",
       "    <tr>\n",
       "      <th>2022-12-30</th>\n",
       "      <td>449</td>\n",
       "      <td>449</td>\n",
       "      <td>449</td>\n",
       "      <td>449</td>\n",
       "      <td>449</td>\n",
       "      <td>449</td>\n",
       "      <td>2022-12-30</td>\n",
       "      <td>449</td>\n",
       "    </tr>\n",
       "    <tr>\n",
       "      <th>2022-12-31</th>\n",
       "      <td>180</td>\n",
       "      <td>180</td>\n",
       "      <td>180</td>\n",
       "      <td>180</td>\n",
       "      <td>180</td>\n",
       "      <td>180</td>\n",
       "      <td>2022-12-31</td>\n",
       "      <td>180</td>\n",
       "    </tr>\n",
       "    <tr>\n",
       "      <th>2023-01-01</th>\n",
       "      <td>45</td>\n",
       "      <td>45</td>\n",
       "      <td>45</td>\n",
       "      <td>45</td>\n",
       "      <td>45</td>\n",
       "      <td>45</td>\n",
       "      <td>2023-01-01</td>\n",
       "      <td>45</td>\n",
       "    </tr>\n",
       "  </tbody>\n",
       "</table>\n",
       "<p>75 rows × 8 columns</p>\n",
       "</div>"
      ],
      "text/plain": [
       "             Unnamed: 0  TimeStamp  hour  day  month  year        date  count\n",
       "unique_date                                                                  \n",
       "2022-10-17            1          1     1    1      1     1  2022-10-17      1\n",
       "2022-10-20          124        124   124  124    124   124  2022-10-20    124\n",
       "2022-10-21          141        141   141  141    141   141  2022-10-21    141\n",
       "2022-10-22           85         85    85   85     85    85  2022-10-22     85\n",
       "2022-10-23           96         96    96   96     96    96  2022-10-23     96\n",
       "...                 ...        ...   ...  ...    ...   ...         ...    ...\n",
       "2022-12-28          129        129   129  129    129   129  2022-12-28    129\n",
       "2022-12-29          230        230   230  230    230   230  2022-12-29    230\n",
       "2022-12-30          449        449   449  449    449   449  2022-12-30    449\n",
       "2022-12-31          180        180   180  180    180   180  2022-12-31    180\n",
       "2023-01-01           45         45    45   45     45    45  2023-01-01     45\n",
       "\n",
       "[75 rows x 8 columns]"
      ]
     },
     "execution_count": 19,
     "metadata": {},
     "output_type": "execute_result"
    }
   ],
   "source": [
    "grouped = df.groupby('unique_date').count()\n",
    "grouped[\"date\"] = grouped.index\n",
    "grouped[\"count\"] = grouped[\"TimeStamp\"]\n",
    "grouped"
   ]
  },
  {
   "cell_type": "code",
   "execution_count": 20,
   "id": "21228b6d",
   "metadata": {},
   "outputs": [],
   "source": [
    "grouped.drop([\"Unnamed: 0\",\"TimeStamp\",\"hour\",\"day\",\"month\", \"year\"], axis = 1)\n",
    "melted = pd.melt(grouped, id_vars=\"date\", value_vars=\"count\")"
   ]
  },
  {
   "cell_type": "code",
   "execution_count": 21,
   "id": "aa96a1aa",
   "metadata": {},
   "outputs": [
    {
     "data": {
      "text/plain": [
       "([<matplotlib.axis.XTick at 0x162b09250>,\n",
       "  <matplotlib.axis.XTick at 0x162b03310>,\n",
       "  <matplotlib.axis.XTick at 0x162c47f10>,\n",
       "  <matplotlib.axis.XTick at 0x162c73490>,\n",
       "  <matplotlib.axis.XTick at 0x162c81250>,\n",
       "  <matplotlib.axis.XTick at 0x162be0b50>,\n",
       "  <matplotlib.axis.XTick at 0x162c88c50>,\n",
       "  <matplotlib.axis.XTick at 0x162c8af50>,\n",
       "  <matplotlib.axis.XTick at 0x162c8d210>,\n",
       "  <matplotlib.axis.XTick at 0x162c8f590>,\n",
       "  <matplotlib.axis.XTick at 0x162c07d10>,\n",
       "  <matplotlib.axis.XTick at 0x162c98a90>,\n",
       "  <matplotlib.axis.XTick at 0x162c9c190>,\n",
       "  <matplotlib.axis.XTick at 0x162c9e410>,\n",
       "  <matplotlib.axis.XTick at 0x162ca47d0>],\n",
       " [Text(0, 0, '2022-10-17'),\n",
       "  Text(5, 0, '2022-10-24'),\n",
       "  Text(10, 0, '2022-10-29'),\n",
       "  Text(15, 0, '2022-11-03'),\n",
       "  Text(20, 0, '2022-11-08'),\n",
       "  Text(25, 0, '2022-11-13'),\n",
       "  Text(30, 0, '2022-11-18'),\n",
       "  Text(35, 0, '2022-11-23'),\n",
       "  Text(40, 0, '2022-11-28'),\n",
       "  Text(45, 0, '2022-12-03'),\n",
       "  Text(50, 0, '2022-12-08'),\n",
       "  Text(55, 0, '2022-12-13'),\n",
       "  Text(60, 0, '2022-12-18'),\n",
       "  Text(65, 0, '2022-12-23'),\n",
       "  Text(70, 0, '2022-12-28')])"
      ]
     },
     "execution_count": 21,
     "metadata": {},
     "output_type": "execute_result"
    },
    {
     "data": {
      "image/png": "[encoded data removed]",
      "text/plain": [
       "<Figure size 640x480 with 1 Axes>"
      ]
     },
     "metadata": {},
     "output_type": "display_data"
    }
   ],
   "source": [
    "plot = sb.barplot(data=grouped, x = 'date', y = 'count')\n",
    "plt.xticks(range(0, len(grouped['date']), 5), grouped['date'][::5], rotation=45)\n"
   ]
  },
  {
   "cell_type": "markdown",
   "id": "398bb050",
   "metadata": {},
   "source": [
    "Visualization of the number of instances per day."
   ]
  },
  {
   "cell_type": "markdown",
   "id": "fbd20582",
   "metadata": {},
   "source": [
    "# Part Two - Angel"
   ]
  },
  {
   "cell_type": "code",
   "execution_count": 24,
   "id": "78ebcf2a",
   "metadata": {},
   "outputs": [],
   "source": [
    "oliver_timestamps = pd.read_csv(\"TimeStamps\")"
   ]
  },
  {
   "cell_type": "code",
   "execution_count": 25,
   "id": "ff326c09",
   "metadata": {},
   "outputs": [
    {
     "data": {
      "text/html": [
       "<div>\n",
       "<style scoped>\n",
       "    .dataframe tbody tr th:only-of-type {\n",
       "        vertical-align: middle;\n",
       "    }\n",
       "\n",
       "    .dataframe tbody tr th {\n",
       "        vertical-align: top;\n",
       "    }\n",
       "\n",
       "    .dataframe thead th {\n",
       "        text-align: right;\n",
       "    }\n",
       "</style>\n",
       "<table border=\"1\" class=\"dataframe\">\n",
       "  <thead>\n",
       "    <tr style=\"text-align: right;\">\n",
       "      <th></th>\n",
       "      <th>Unnamed: 0</th>\n",
       "      <th>TimeStamp</th>\n",
       "    </tr>\n",
       "  </thead>\n",
       "  <tbody>\n",
       "    <tr>\n",
       "      <th>0</th>\n",
       "      <td>0</td>\n",
       "      <td>2022-10-17 20:47:00</td>\n",
       "    </tr>\n",
       "    <tr>\n",
       "      <th>1</th>\n",
       "      <td>1</td>\n",
       "      <td>2022-10-20 00:02:00</td>\n",
       "    </tr>\n",
       "    <tr>\n",
       "      <th>2</th>\n",
       "      <td>2</td>\n",
       "      <td>2022-10-20 00:02:00</td>\n",
       "    </tr>\n",
       "    <tr>\n",
       "      <th>3</th>\n",
       "      <td>3</td>\n",
       "      <td>2022-10-20 00:02:00</td>\n",
       "    </tr>\n",
       "    <tr>\n",
       "      <th>4</th>\n",
       "      <td>4</td>\n",
       "      <td>2022-10-20 00:02:00</td>\n",
       "    </tr>\n",
       "    <tr>\n",
       "      <th>...</th>\n",
       "      <td>...</td>\n",
       "      <td>...</td>\n",
       "    </tr>\n",
       "    <tr>\n",
       "      <th>9995</th>\n",
       "      <td>9995</td>\n",
       "      <td>2023-01-01 20:52:00</td>\n",
       "    </tr>\n",
       "    <tr>\n",
       "      <th>9996</th>\n",
       "      <td>9996</td>\n",
       "      <td>2023-01-01 20:52:00</td>\n",
       "    </tr>\n",
       "    <tr>\n",
       "      <th>9997</th>\n",
       "      <td>9997</td>\n",
       "      <td>2023-01-01 20:52:00</td>\n",
       "    </tr>\n",
       "    <tr>\n",
       "      <th>9998</th>\n",
       "      <td>9998</td>\n",
       "      <td>2023-01-01 20:52:00</td>\n",
       "    </tr>\n",
       "    <tr>\n",
       "      <th>9999</th>\n",
       "      <td>9999</td>\n",
       "      <td>2023-01-01 20:52:00</td>\n",
       "    </tr>\n",
       "  </tbody>\n",
       "</table>\n",
       "<p>10000 rows × 2 columns</p>\n",
       "</div>"
      ],
      "text/plain": [
       "      Unnamed: 0            TimeStamp\n",
       "0              0  2022-10-17 20:47:00\n",
       "1              1  2022-10-20 00:02:00\n",
       "2              2  2022-10-20 00:02:00\n",
       "3              3  2022-10-20 00:02:00\n",
       "4              4  2022-10-20 00:02:00\n",
       "...          ...                  ...\n",
       "9995        9995  2023-01-01 20:52:00\n",
       "9996        9996  2023-01-01 20:52:00\n",
       "9997        9997  2023-01-01 20:52:00\n",
       "9998        9998  2023-01-01 20:52:00\n",
       "9999        9999  2023-01-01 20:52:00\n",
       "\n",
       "[10000 rows x 2 columns]"
      ]
     },
     "execution_count": 25,
     "metadata": {},
     "output_type": "execute_result"
    }
   ],
   "source": [
    "oliver_timestamps"
   ]
  },
  {
   "cell_type": "code",
   "execution_count": 26,
   "id": "6fd04119",
   "metadata": {},
   "outputs": [
    {
     "data": {
      "text/html": [
       "<div>\n",
       "<style scoped>\n",
       "    .dataframe tbody tr th:only-of-type {\n",
       "        vertical-align: middle;\n",
       "    }\n",
       "\n",
       "    .dataframe tbody tr th {\n",
       "        vertical-align: top;\n",
       "    }\n",
       "\n",
       "    .dataframe thead th {\n",
       "        text-align: right;\n",
       "    }\n",
       "</style>\n",
       "<table border=\"1\" class=\"dataframe\">\n",
       "  <thead>\n",
       "    <tr style=\"text-align: right;\">\n",
       "      <th></th>\n",
       "      <th>Unnamed: 0</th>\n",
       "      <th>TimeStamp</th>\n",
       "    </tr>\n",
       "  </thead>\n",
       "  <tbody>\n",
       "    <tr>\n",
       "      <th>0</th>\n",
       "      <td>0</td>\n",
       "      <td>2022-10-17 20:47:00</td>\n",
       "    </tr>\n",
       "    <tr>\n",
       "      <th>1</th>\n",
       "      <td>1</td>\n",
       "      <td>2022-10-20 00:02:00</td>\n",
       "    </tr>\n",
       "    <tr>\n",
       "      <th>2</th>\n",
       "      <td>2</td>\n",
       "      <td>2022-10-20 00:02:00</td>\n",
       "    </tr>\n",
       "    <tr>\n",
       "      <th>3</th>\n",
       "      <td>3</td>\n",
       "      <td>2022-10-20 00:02:00</td>\n",
       "    </tr>\n",
       "    <tr>\n",
       "      <th>4</th>\n",
       "      <td>4</td>\n",
       "      <td>2022-10-20 00:02:00</td>\n",
       "    </tr>\n",
       "  </tbody>\n",
       "</table>\n",
       "</div>"
      ],
      "text/plain": [
       "   Unnamed: 0            TimeStamp\n",
       "0           0  2022-10-17 20:47:00\n",
       "1           1  2022-10-20 00:02:00\n",
       "2           2  2022-10-20 00:02:00\n",
       "3           3  2022-10-20 00:02:00\n",
       "4           4  2022-10-20 00:02:00"
      ]
     },
     "execution_count": 26,
     "metadata": {},
     "output_type": "execute_result"
    }
   ],
   "source": [
    "oliver_timestamps.head()"
   ]
  },
  {
   "cell_type": "code",
   "execution_count": 27,
   "id": "8c68ed91",
   "metadata": {},
   "outputs": [],
   "source": [
    "oliver_timestamps[\"TimeStamp\"] = pd.to_datetime(oliver_timestamps[\"TimeStamp\"])"
   ]
  },
  {
   "cell_type": "code",
   "execution_count": 28,
   "id": "e8ce0d98",
   "metadata": {},
   "outputs": [],
   "source": [
    "oliver_timestamps = oliver_timestamps.sort_index()\n",
    "#Sorting the timestamps "
   ]
  },
  {
   "cell_type": "code",
   "execution_count": 29,
   "id": "91640255",
   "metadata": {},
   "outputs": [],
   "source": [
    "oliver_timestamps['Time Difference'] = oliver_timestamps['TimeStamp'].diff()\n",
    "#Finding the difference between each timestamp"
   ]
  },
  {
   "cell_type": "markdown",
   "id": "fb9b9581",
   "metadata": {},
   "source": [
    "Answer: What is the longest time between timestamps? What is the average time between timestamps?"
   ]
  },
  {
   "cell_type": "code",
   "execution_count": 30,
   "id": "f34e6165",
   "metadata": {},
   "outputs": [
    {
     "data": {
      "text/plain": [
       "Timedelta('2 days 03:15:00')"
      ]
     },
     "execution_count": 30,
     "metadata": {},
     "output_type": "execute_result"
    }
   ],
   "source": [
    "oliver_timestamps[\"Time Difference\"].max() #The longest time between timestamps is 2 days, 3hrs and 15min."
   ]
  },
  {
   "cell_type": "code",
   "execution_count": 31,
   "id": "4cd25846",
   "metadata": {},
   "outputs": [
    {
     "data": {
      "text/plain": [
       "Timedelta('0 days 00:10:56.735673567')"
      ]
     },
     "execution_count": 31,
     "metadata": {},
     "output_type": "execute_result"
    }
   ],
   "source": [
    "oliver_timestamps[\"Time Difference\"].mean()\n",
    "#The average time between timestamps is 10 minutes and 56 seconds."
   ]
  },
  {
   "cell_type": "markdown",
   "id": "7e938bb3",
   "metadata": {},
   "source": [
    "Answer: What is the day with the most timestamps? How many events (timestamps) were on that day? "
   ]
  },
  {
   "cell_type": "code",
   "execution_count": 32,
   "id": "052690e1",
   "metadata": {},
   "outputs": [],
   "source": [
    "oliver_timestamps['days'] = pd.DatetimeIndex(oliver_timestamps['TimeStamp']).day"
   ]
  },
  {
   "cell_type": "code",
   "execution_count": 33,
   "id": "57e0d904",
   "metadata": {},
   "outputs": [
    {
     "data": {
      "text/html": [
       "<div>\n",
       "<style scoped>\n",
       "    .dataframe tbody tr th:only-of-type {\n",
       "        vertical-align: middle;\n",
       "    }\n",
       "\n",
       "    .dataframe tbody tr th {\n",
       "        vertical-align: top;\n",
       "    }\n",
       "\n",
       "    .dataframe thead th {\n",
       "        text-align: right;\n",
       "    }\n",
       "</style>\n",
       "<table border=\"1\" class=\"dataframe\">\n",
       "  <thead>\n",
       "    <tr style=\"text-align: right;\">\n",
       "      <th></th>\n",
       "      <th>Unnamed: 0</th>\n",
       "      <th>TimeStamp</th>\n",
       "      <th>Time Difference</th>\n",
       "      <th>days</th>\n",
       "    </tr>\n",
       "  </thead>\n",
       "  <tbody>\n",
       "    <tr>\n",
       "      <th>0</th>\n",
       "      <td>0</td>\n",
       "      <td>2022-10-17 20:47:00</td>\n",
       "      <td>NaT</td>\n",
       "      <td>17</td>\n",
       "    </tr>\n",
       "    <tr>\n",
       "      <th>1</th>\n",
       "      <td>1</td>\n",
       "      <td>2022-10-20 00:02:00</td>\n",
       "      <td>2 days 03:15:00</td>\n",
       "      <td>20</td>\n",
       "    </tr>\n",
       "    <tr>\n",
       "      <th>2</th>\n",
       "      <td>2</td>\n",
       "      <td>2022-10-20 00:02:00</td>\n",
       "      <td>0 days 00:00:00</td>\n",
       "      <td>20</td>\n",
       "    </tr>\n",
       "    <tr>\n",
       "      <th>3</th>\n",
       "      <td>3</td>\n",
       "      <td>2022-10-20 00:02:00</td>\n",
       "      <td>0 days 00:00:00</td>\n",
       "      <td>20</td>\n",
       "    </tr>\n",
       "    <tr>\n",
       "      <th>4</th>\n",
       "      <td>4</td>\n",
       "      <td>2022-10-20 00:02:00</td>\n",
       "      <td>0 days 00:00:00</td>\n",
       "      <td>20</td>\n",
       "    </tr>\n",
       "    <tr>\n",
       "      <th>...</th>\n",
       "      <td>...</td>\n",
       "      <td>...</td>\n",
       "      <td>...</td>\n",
       "      <td>...</td>\n",
       "    </tr>\n",
       "    <tr>\n",
       "      <th>9995</th>\n",
       "      <td>9995</td>\n",
       "      <td>2023-01-01 20:52:00</td>\n",
       "      <td>0 days 00:00:00</td>\n",
       "      <td>1</td>\n",
       "    </tr>\n",
       "    <tr>\n",
       "      <th>9996</th>\n",
       "      <td>9996</td>\n",
       "      <td>2023-01-01 20:52:00</td>\n",
       "      <td>0 days 00:00:00</td>\n",
       "      <td>1</td>\n",
       "    </tr>\n",
       "    <tr>\n",
       "      <th>9997</th>\n",
       "      <td>9997</td>\n",
       "      <td>2023-01-01 20:52:00</td>\n",
       "      <td>0 days 00:00:00</td>\n",
       "      <td>1</td>\n",
       "    </tr>\n",
       "    <tr>\n",
       "      <th>9998</th>\n",
       "      <td>9998</td>\n",
       "      <td>2023-01-01 20:52:00</td>\n",
       "      <td>0 days 00:00:00</td>\n",
       "      <td>1</td>\n",
       "    </tr>\n",
       "    <tr>\n",
       "      <th>9999</th>\n",
       "      <td>9999</td>\n",
       "      <td>2023-01-01 20:52:00</td>\n",
       "      <td>0 days 00:00:00</td>\n",
       "      <td>1</td>\n",
       "    </tr>\n",
       "  </tbody>\n",
       "</table>\n",
       "<p>10000 rows × 4 columns</p>\n",
       "</div>"
      ],
      "text/plain": [
       "      Unnamed: 0           TimeStamp Time Difference  days\n",
       "0              0 2022-10-17 20:47:00             NaT    17\n",
       "1              1 2022-10-20 00:02:00 2 days 03:15:00    20\n",
       "2              2 2022-10-20 00:02:00 0 days 00:00:00    20\n",
       "3              3 2022-10-20 00:02:00 0 days 00:00:00    20\n",
       "4              4 2022-10-20 00:02:00 0 days 00:00:00    20\n",
       "...          ...                 ...             ...   ...\n",
       "9995        9995 2023-01-01 20:52:00 0 days 00:00:00     1\n",
       "9996        9996 2023-01-01 20:52:00 0 days 00:00:00     1\n",
       "9997        9997 2023-01-01 20:52:00 0 days 00:00:00     1\n",
       "9998        9998 2023-01-01 20:52:00 0 days 00:00:00     1\n",
       "9999        9999 2023-01-01 20:52:00 0 days 00:00:00     1\n",
       "\n",
       "[10000 rows x 4 columns]"
      ]
     },
     "execution_count": 33,
     "metadata": {},
     "output_type": "execute_result"
    }
   ],
   "source": [
    "oliver_timestamps"
   ]
  },
  {
   "cell_type": "code",
   "execution_count": 34,
   "id": "1615c9ba",
   "metadata": {},
   "outputs": [],
   "source": [
    "day_counts = oliver_timestamps['days'].value_counts()"
   ]
  },
  {
   "cell_type": "code",
   "execution_count": 35,
   "id": "7adc10cc",
   "metadata": {},
   "outputs": [],
   "source": [
    "most_timestamps = day_counts.idxmax()"
   ]
  },
  {
   "cell_type": "code",
   "execution_count": 36,
   "id": "b9c78037",
   "metadata": {},
   "outputs": [
    {
     "data": {
      "text/plain": [
       "30"
      ]
     },
     "execution_count": 36,
     "metadata": {},
     "output_type": "execute_result"
    }
   ],
   "source": [
    "most_timestamps\n",
    "#The day with the most timestamps is the 30th."
   ]
  },
  {
   "cell_type": "code",
   "execution_count": 37,
   "id": "2d985139",
   "metadata": {},
   "outputs": [
    {
     "data": {
      "text/plain": [
       "784"
      ]
     },
     "execution_count": 37,
     "metadata": {},
     "output_type": "execute_result"
    }
   ],
   "source": [
    "day_counts.max()\n",
    "#There are 784 timestamps on this day."
   ]
  },
  {
   "cell_type": "markdown",
   "id": "1caf3a3c",
   "metadata": {},
   "source": [
    "What is the month with the most timestamps? How many events (timestamps) were on that month?"
   ]
  },
  {
   "cell_type": "code",
   "execution_count": 38,
   "id": "a7f5fe02",
   "metadata": {},
   "outputs": [],
   "source": [
    "oliver_timestamps['months'] = pd.DatetimeIndex(oliver_timestamps['TimeStamp']).month"
   ]
  },
  {
   "cell_type": "code",
   "execution_count": 39,
   "id": "61a63515",
   "metadata": {},
   "outputs": [
    {
     "data": {
      "text/html": [
       "<div>\n",
       "<style scoped>\n",
       "    .dataframe tbody tr th:only-of-type {\n",
       "        vertical-align: middle;\n",
       "    }\n",
       "\n",
       "    .dataframe tbody tr th {\n",
       "        vertical-align: top;\n",
       "    }\n",
       "\n",
       "    .dataframe thead th {\n",
       "        text-align: right;\n",
       "    }\n",
       "</style>\n",
       "<table border=\"1\" class=\"dataframe\">\n",
       "  <thead>\n",
       "    <tr style=\"text-align: right;\">\n",
       "      <th></th>\n",
       "      <th>Unnamed: 0</th>\n",
       "      <th>TimeStamp</th>\n",
       "      <th>Time Difference</th>\n",
       "      <th>days</th>\n",
       "      <th>months</th>\n",
       "    </tr>\n",
       "  </thead>\n",
       "  <tbody>\n",
       "    <tr>\n",
       "      <th>0</th>\n",
       "      <td>0</td>\n",
       "      <td>2022-10-17 20:47:00</td>\n",
       "      <td>NaT</td>\n",
       "      <td>17</td>\n",
       "      <td>10</td>\n",
       "    </tr>\n",
       "    <tr>\n",
       "      <th>1</th>\n",
       "      <td>1</td>\n",
       "      <td>2022-10-20 00:02:00</td>\n",
       "      <td>2 days 03:15:00</td>\n",
       "      <td>20</td>\n",
       "      <td>10</td>\n",
       "    </tr>\n",
       "    <tr>\n",
       "      <th>2</th>\n",
       "      <td>2</td>\n",
       "      <td>2022-10-20 00:02:00</td>\n",
       "      <td>0 days 00:00:00</td>\n",
       "      <td>20</td>\n",
       "      <td>10</td>\n",
       "    </tr>\n",
       "    <tr>\n",
       "      <th>3</th>\n",
       "      <td>3</td>\n",
       "      <td>2022-10-20 00:02:00</td>\n",
       "      <td>0 days 00:00:00</td>\n",
       "      <td>20</td>\n",
       "      <td>10</td>\n",
       "    </tr>\n",
       "    <tr>\n",
       "      <th>4</th>\n",
       "      <td>4</td>\n",
       "      <td>2022-10-20 00:02:00</td>\n",
       "      <td>0 days 00:00:00</td>\n",
       "      <td>20</td>\n",
       "      <td>10</td>\n",
       "    </tr>\n",
       "    <tr>\n",
       "      <th>...</th>\n",
       "      <td>...</td>\n",
       "      <td>...</td>\n",
       "      <td>...</td>\n",
       "      <td>...</td>\n",
       "      <td>...</td>\n",
       "    </tr>\n",
       "    <tr>\n",
       "      <th>9995</th>\n",
       "      <td>9995</td>\n",
       "      <td>2023-01-01 20:52:00</td>\n",
       "      <td>0 days 00:00:00</td>\n",
       "      <td>1</td>\n",
       "      <td>1</td>\n",
       "    </tr>\n",
       "    <tr>\n",
       "      <th>9996</th>\n",
       "      <td>9996</td>\n",
       "      <td>2023-01-01 20:52:00</td>\n",
       "      <td>0 days 00:00:00</td>\n",
       "      <td>1</td>\n",
       "      <td>1</td>\n",
       "    </tr>\n",
       "    <tr>\n",
       "      <th>9997</th>\n",
       "      <td>9997</td>\n",
       "      <td>2023-01-01 20:52:00</td>\n",
       "      <td>0 days 00:00:00</td>\n",
       "      <td>1</td>\n",
       "      <td>1</td>\n",
       "    </tr>\n",
       "    <tr>\n",
       "      <th>9998</th>\n",
       "      <td>9998</td>\n",
       "      <td>2023-01-01 20:52:00</td>\n",
       "      <td>0 days 00:00:00</td>\n",
       "      <td>1</td>\n",
       "      <td>1</td>\n",
       "    </tr>\n",
       "    <tr>\n",
       "      <th>9999</th>\n",
       "      <td>9999</td>\n",
       "      <td>2023-01-01 20:52:00</td>\n",
       "      <td>0 days 00:00:00</td>\n",
       "      <td>1</td>\n",
       "      <td>1</td>\n",
       "    </tr>\n",
       "  </tbody>\n",
       "</table>\n",
       "<p>10000 rows × 5 columns</p>\n",
       "</div>"
      ],
      "text/plain": [
       "      Unnamed: 0           TimeStamp Time Difference  days  months\n",
       "0              0 2022-10-17 20:47:00             NaT    17      10\n",
       "1              1 2022-10-20 00:02:00 2 days 03:15:00    20      10\n",
       "2              2 2022-10-20 00:02:00 0 days 00:00:00    20      10\n",
       "3              3 2022-10-20 00:02:00 0 days 00:00:00    20      10\n",
       "4              4 2022-10-20 00:02:00 0 days 00:00:00    20      10\n",
       "...          ...                 ...             ...   ...     ...\n",
       "9995        9995 2023-01-01 20:52:00 0 days 00:00:00     1       1\n",
       "9996        9996 2023-01-01 20:52:00 0 days 00:00:00     1       1\n",
       "9997        9997 2023-01-01 20:52:00 0 days 00:00:00     1       1\n",
       "9998        9998 2023-01-01 20:52:00 0 days 00:00:00     1       1\n",
       "9999        9999 2023-01-01 20:52:00 0 days 00:00:00     1       1\n",
       "\n",
       "[10000 rows x 5 columns]"
      ]
     },
     "execution_count": 39,
     "metadata": {},
     "output_type": "execute_result"
    }
   ],
   "source": [
    "oliver_timestamps"
   ]
  },
  {
   "cell_type": "code",
   "execution_count": 40,
   "id": "4d1cadc4",
   "metadata": {},
   "outputs": [],
   "source": [
    "monthly_counts = oliver_timestamps['months'].value_counts()"
   ]
  },
  {
   "cell_type": "code",
   "execution_count": 41,
   "id": "90ca6581",
   "metadata": {},
   "outputs": [
    {
     "data": {
      "text/plain": [
       "12"
      ]
     },
     "execution_count": 41,
     "metadata": {},
     "output_type": "execute_result"
    }
   ],
   "source": [
    "monthly_counts.idxmax()"
   ]
  },
  {
   "cell_type": "code",
   "execution_count": 42,
   "id": "f5e466f4",
   "metadata": {},
   "outputs": [
    {
     "data": {
      "text/plain": [
       "4671"
      ]
     },
     "execution_count": 42,
     "metadata": {},
     "output_type": "execute_result"
    }
   ],
   "source": [
    "monthly_counts.max()"
   ]
  },
  {
   "cell_type": "code",
   "execution_count": 43,
   "id": "3a6ca966",
   "metadata": {},
   "outputs": [],
   "source": [
    "#The month with the most timestamps is December 2022 (since the data ranges from Oct 2022-Jan 2023), with 4671 events."
   ]
  },
  {
   "cell_type": "code",
   "execution_count": 44,
   "id": "1d8ab2cd",
   "metadata": {},
   "outputs": [
    {
     "data": {
      "image/png": "[encoded data removed]",
      "text/plain": [
       "<Figure size 640x480 with 1 Axes>"
      ]
     },
     "metadata": {},
     "output_type": "display_data"
    }
   ],
   "source": [
    "#Creating a visualization of the distirbution of the timestamps across days.\n",
    "plt.hist(oliver_timestamps[\"days\"], bins=20)\n",
    "plt.show()"
   ]
  },
  {
   "cell_type": "code",
   "execution_count": 45,
   "id": "dd25f7b6",
   "metadata": {},
   "outputs": [
    {
     "data": {
      "image/png": "[encoded data removed]",
      "text/plain": [
       "<Figure size 640x480 with 1 Axes>"
      ]
     },
     "metadata": {},
     "output_type": "display_data"
    }
   ],
   "source": [
    "#Creating a visualization of the distirbution of the timestamps across months.\n",
    "plt.hist(oliver_timestamps[\"months\"], bins=20)\n",
    "plt.show()"
   ]
  },
  {
   "cell_type": "code",
   "execution_count": 46,
   "id": "1c157ead",
   "metadata": {},
   "outputs": [
    {
     "data": {
      "text/plain": [
       "17.6679"
      ]
     },
     "execution_count": 46,
     "metadata": {},
     "output_type": "execute_result"
    }
   ],
   "source": [
    "oliver_timestamps[\"days\"].mean()"
   ]
  },
  {
   "cell_type": "code",
   "execution_count": 47,
   "id": "9d1c39a2",
   "metadata": {},
   "outputs": [],
   "source": [
    "oliver_timestamps = oliver_timestamps.set_index([\"TimeStamp\"], drop=False)"
   ]
  },
  {
   "cell_type": "code",
   "execution_count": 48,
   "id": "858379bd",
   "metadata": {},
   "outputs": [
    {
     "data": {
      "text/html": [
       "<div>\n",
       "<style scoped>\n",
       "    .dataframe tbody tr th:only-of-type {\n",
       "        vertical-align: middle;\n",
       "    }\n",
       "\n",
       "    .dataframe tbody tr th {\n",
       "        vertical-align: top;\n",
       "    }\n",
       "\n",
       "    .dataframe thead th {\n",
       "        text-align: right;\n",
       "    }\n",
       "</style>\n",
       "<table border=\"1\" class=\"dataframe\">\n",
       "  <thead>\n",
       "    <tr style=\"text-align: right;\">\n",
       "      <th></th>\n",
       "      <th>Unnamed: 0</th>\n",
       "      <th>TimeStamp</th>\n",
       "      <th>Time Difference</th>\n",
       "      <th>days</th>\n",
       "      <th>months</th>\n",
       "    </tr>\n",
       "    <tr>\n",
       "      <th>TimeStamp</th>\n",
       "      <th></th>\n",
       "      <th></th>\n",
       "      <th></th>\n",
       "      <th></th>\n",
       "      <th></th>\n",
       "    </tr>\n",
       "  </thead>\n",
       "  <tbody>\n",
       "    <tr>\n",
       "      <th>2022-10-17 20:47:00</th>\n",
       "      <td>0</td>\n",
       "      <td>2022-10-17 20:47:00</td>\n",
       "      <td>NaT</td>\n",
       "      <td>17</td>\n",
       "      <td>10</td>\n",
       "    </tr>\n",
       "    <tr>\n",
       "      <th>2022-10-20 00:02:00</th>\n",
       "      <td>1</td>\n",
       "      <td>2022-10-20 00:02:00</td>\n",
       "      <td>2 days 03:15:00</td>\n",
       "      <td>20</td>\n",
       "      <td>10</td>\n",
       "    </tr>\n",
       "    <tr>\n",
       "      <th>2022-10-20 00:02:00</th>\n",
       "      <td>2</td>\n",
       "      <td>2022-10-20 00:02:00</td>\n",
       "      <td>0 days 00:00:00</td>\n",
       "      <td>20</td>\n",
       "      <td>10</td>\n",
       "    </tr>\n",
       "    <tr>\n",
       "      <th>2022-10-20 00:02:00</th>\n",
       "      <td>3</td>\n",
       "      <td>2022-10-20 00:02:00</td>\n",
       "      <td>0 days 00:00:00</td>\n",
       "      <td>20</td>\n",
       "      <td>10</td>\n",
       "    </tr>\n",
       "    <tr>\n",
       "      <th>2022-10-20 00:02:00</th>\n",
       "      <td>4</td>\n",
       "      <td>2022-10-20 00:02:00</td>\n",
       "      <td>0 days 00:00:00</td>\n",
       "      <td>20</td>\n",
       "      <td>10</td>\n",
       "    </tr>\n",
       "  </tbody>\n",
       "</table>\n",
       "</div>"
      ],
      "text/plain": [
       "                     Unnamed: 0           TimeStamp Time Difference  days  \\\n",
       "TimeStamp                                                                   \n",
       "2022-10-17 20:47:00           0 2022-10-17 20:47:00             NaT    17   \n",
       "2022-10-20 00:02:00           1 2022-10-20 00:02:00 2 days 03:15:00    20   \n",
       "2022-10-20 00:02:00           2 2022-10-20 00:02:00 0 days 00:00:00    20   \n",
       "2022-10-20 00:02:00           3 2022-10-20 00:02:00 0 days 00:00:00    20   \n",
       "2022-10-20 00:02:00           4 2022-10-20 00:02:00 0 days 00:00:00    20   \n",
       "\n",
       "                     months  \n",
       "TimeStamp                    \n",
       "2022-10-17 20:47:00      10  \n",
       "2022-10-20 00:02:00      10  \n",
       "2022-10-20 00:02:00      10  \n",
       "2022-10-20 00:02:00      10  \n",
       "2022-10-20 00:02:00      10  "
      ]
     },
     "execution_count": 48,
     "metadata": {},
     "output_type": "execute_result"
    }
   ],
   "source": [
    "oliver_timestamps.head()"
   ]
  },
  {
   "cell_type": "code",
   "execution_count": 49,
   "id": "5a8bca36",
   "metadata": {},
   "outputs": [
    {
     "data": {
      "text/html": [
       "<div>\n",
       "<style scoped>\n",
       "    .dataframe tbody tr th:only-of-type {\n",
       "        vertical-align: middle;\n",
       "    }\n",
       "\n",
       "    .dataframe tbody tr th {\n",
       "        vertical-align: top;\n",
       "    }\n",
       "\n",
       "    .dataframe thead th {\n",
       "        text-align: right;\n",
       "    }\n",
       "</style>\n",
       "<table border=\"1\" class=\"dataframe\">\n",
       "  <thead>\n",
       "    <tr style=\"text-align: right;\">\n",
       "      <th></th>\n",
       "      <th>Unnamed: 0</th>\n",
       "      <th>TimeStamp</th>\n",
       "      <th>Time Difference</th>\n",
       "      <th>days</th>\n",
       "      <th>months</th>\n",
       "    </tr>\n",
       "    <tr>\n",
       "      <th>TimeStamp</th>\n",
       "      <th></th>\n",
       "      <th></th>\n",
       "      <th></th>\n",
       "      <th></th>\n",
       "      <th></th>\n",
       "    </tr>\n",
       "  </thead>\n",
       "  <tbody>\n",
       "    <tr>\n",
       "      <th>2022-12-01 00:03:00</th>\n",
       "      <td>5284</td>\n",
       "      <td>2022-12-01 00:03:00</td>\n",
       "      <td>0 days 00:04:00</td>\n",
       "      <td>1</td>\n",
       "      <td>12</td>\n",
       "    </tr>\n",
       "    <tr>\n",
       "      <th>2022-12-01 00:05:00</th>\n",
       "      <td>5285</td>\n",
       "      <td>2022-12-01 00:05:00</td>\n",
       "      <td>0 days 00:02:00</td>\n",
       "      <td>1</td>\n",
       "      <td>12</td>\n",
       "    </tr>\n",
       "    <tr>\n",
       "      <th>2022-12-01 00:11:00</th>\n",
       "      <td>5286</td>\n",
       "      <td>2022-12-01 00:11:00</td>\n",
       "      <td>0 days 00:06:00</td>\n",
       "      <td>1</td>\n",
       "      <td>12</td>\n",
       "    </tr>\n",
       "    <tr>\n",
       "      <th>2022-12-01 00:15:00</th>\n",
       "      <td>5287</td>\n",
       "      <td>2022-12-01 00:15:00</td>\n",
       "      <td>0 days 00:04:00</td>\n",
       "      <td>1</td>\n",
       "      <td>12</td>\n",
       "    </tr>\n",
       "    <tr>\n",
       "      <th>2022-12-01 00:18:00</th>\n",
       "      <td>5288</td>\n",
       "      <td>2022-12-01 00:18:00</td>\n",
       "      <td>0 days 00:03:00</td>\n",
       "      <td>1</td>\n",
       "      <td>12</td>\n",
       "    </tr>\n",
       "    <tr>\n",
       "      <th>...</th>\n",
       "      <td>...</td>\n",
       "      <td>...</td>\n",
       "      <td>...</td>\n",
       "      <td>...</td>\n",
       "      <td>...</td>\n",
       "    </tr>\n",
       "    <tr>\n",
       "      <th>2022-12-31 22:53:00</th>\n",
       "      <td>9950</td>\n",
       "      <td>2022-12-31 22:53:00</td>\n",
       "      <td>0 days 00:01:00</td>\n",
       "      <td>31</td>\n",
       "      <td>12</td>\n",
       "    </tr>\n",
       "    <tr>\n",
       "      <th>2022-12-31 22:54:00</th>\n",
       "      <td>9951</td>\n",
       "      <td>2022-12-31 22:54:00</td>\n",
       "      <td>0 days 00:01:00</td>\n",
       "      <td>31</td>\n",
       "      <td>12</td>\n",
       "    </tr>\n",
       "    <tr>\n",
       "      <th>2022-12-31 22:54:00</th>\n",
       "      <td>9952</td>\n",
       "      <td>2022-12-31 22:54:00</td>\n",
       "      <td>0 days 00:00:00</td>\n",
       "      <td>31</td>\n",
       "      <td>12</td>\n",
       "    </tr>\n",
       "    <tr>\n",
       "      <th>2022-12-31 22:54:00</th>\n",
       "      <td>9953</td>\n",
       "      <td>2022-12-31 22:54:00</td>\n",
       "      <td>0 days 00:00:00</td>\n",
       "      <td>31</td>\n",
       "      <td>12</td>\n",
       "    </tr>\n",
       "    <tr>\n",
       "      <th>2022-12-31 22:57:00</th>\n",
       "      <td>9954</td>\n",
       "      <td>2022-12-31 22:57:00</td>\n",
       "      <td>0 days 00:03:00</td>\n",
       "      <td>31</td>\n",
       "      <td>12</td>\n",
       "    </tr>\n",
       "  </tbody>\n",
       "</table>\n",
       "<p>4671 rows × 5 columns</p>\n",
       "</div>"
      ],
      "text/plain": [
       "                     Unnamed: 0           TimeStamp Time Difference  days  \\\n",
       "TimeStamp                                                                   \n",
       "2022-12-01 00:03:00        5284 2022-12-01 00:03:00 0 days 00:04:00     1   \n",
       "2022-12-01 00:05:00        5285 2022-12-01 00:05:00 0 days 00:02:00     1   \n",
       "2022-12-01 00:11:00        5286 2022-12-01 00:11:00 0 days 00:06:00     1   \n",
       "2022-12-01 00:15:00        5287 2022-12-01 00:15:00 0 days 00:04:00     1   \n",
       "2022-12-01 00:18:00        5288 2022-12-01 00:18:00 0 days 00:03:00     1   \n",
       "...                         ...                 ...             ...   ...   \n",
       "2022-12-31 22:53:00        9950 2022-12-31 22:53:00 0 days 00:01:00    31   \n",
       "2022-12-31 22:54:00        9951 2022-12-31 22:54:00 0 days 00:01:00    31   \n",
       "2022-12-31 22:54:00        9952 2022-12-31 22:54:00 0 days 00:00:00    31   \n",
       "2022-12-31 22:54:00        9953 2022-12-31 22:54:00 0 days 00:00:00    31   \n",
       "2022-12-31 22:57:00        9954 2022-12-31 22:57:00 0 days 00:03:00    31   \n",
       "\n",
       "                     months  \n",
       "TimeStamp                    \n",
       "2022-12-01 00:03:00      12  \n",
       "2022-12-01 00:05:00      12  \n",
       "2022-12-01 00:11:00      12  \n",
       "2022-12-01 00:15:00      12  \n",
       "2022-12-01 00:18:00      12  \n",
       "...                     ...  \n",
       "2022-12-31 22:53:00      12  \n",
       "2022-12-31 22:54:00      12  \n",
       "2022-12-31 22:54:00      12  \n",
       "2022-12-31 22:54:00      12  \n",
       "2022-12-31 22:57:00      12  \n",
       "\n",
       "[4671 rows x 5 columns]"
      ]
     },
     "execution_count": 49,
     "metadata": {},
     "output_type": "execute_result"
    }
   ],
   "source": [
    "oliver_timestamps.loc[\"2022-12\"]"
   ]
  },
  {
   "cell_type": "code",
   "execution_count": 50,
   "id": "9d0b9756",
   "metadata": {},
   "outputs": [
    {
     "data": {
      "image/png": "[encoded data removed]",
      "text/plain": [
       "<Figure size 1000x800 with 1 Axes>"
      ]
     },
     "metadata": {},
     "output_type": "display_data"
    }
   ],
   "source": [
    "fig, axs = plt.subplots(figsize=(10, 8))\n",
    "\n",
    "oliver_timestamps[\"months\"].plot(kind='line', rot=60, ax=axs)\n",
    "\n",
    "\n",
    "plt.xlabel(\"Datetime\")  # custom x label using Matplotlib\n",
    "\n",
    "plt.ylabel(\"months\")\n",
    "\n",
    "plt.show()"
   ]
  },
  {
   "cell_type": "code",
   "execution_count": 51,
   "id": "45285247",
   "metadata": {},
   "outputs": [],
   "source": [
    "#From this histogram, I understand that the month of December 2022 had the most plays compared to any of the months we have data from.\n",
    "#The 'days' histogram follows a somewhat normal distribution with the exception of a few outliers."
   ]
  },
  {
   "cell_type": "markdown",
   "id": "579e64a7",
   "metadata": {},
   "source": [
    "What do you think the source of this data is? Write a few sentences explaining your reasoning, as well as what other data might help you verify if you are correct?"
   ]
  },
  {
   "cell_type": "markdown",
   "id": "dd30ebbc",
   "metadata": {},
   "source": [
    "I think the source of Oliver's timestamp data is a music streaming app such as Spotify/Apple Music. The reason I think this is because the number of timestamps/events per day correspond with a music streaming app, especially the time difference between each timestamp. For some, there is no diffrence, and for some there is a difference of a few seconds which may show a change in song. There are also differences of about 3 minutes or 5 minutes which could be the average length of one song played from beginning until the end. Having a titles column would be helpful in verifying if I'm correct."
   ]
  },
  {
   "cell_type": "code",
   "execution_count": 52,
   "id": "8bcefb5f",
   "metadata": {},
   "outputs": [],
   "source": [
    "#### Read your partner's analysis -- does it seem accurate? Did they guess the correct data source (or type of data source)?"
   ]
  },
  {
   "cell_type": "markdown",
   "id": "10a3363a",
   "metadata": {},
   "source": [
    "After exachanging the analysis with my partner, I find that my partner got the source of the timestamps wrong. However the rest of their anyalysis is fitting."
   ]
  },
  {
   "cell_type": "markdown",
   "id": "58fed192",
   "metadata": {},
   "source": [
    "####For the days and months that your partner identified as having the most timestamps in your data, try to figure out what was happening on those days. What other data might help you figure this out?"
   ]
  },
  {
   "cell_type": "markdown",
   "id": "f035d5b9",
   "metadata": {},
   "source": [
    "They find that I watched the most Netflix towards the end of March this year, which corresponds with spring break. Looking at my Spotify and Location data would also help with determining this."
   ]
  },
  {
   "cell_type": "markdown",
   "id": "09fe0b4b",
   "metadata": {},
   "source": [
    "# Part 4 - Analyze and visualize an additional element from  your personal data"
   ]
  },
  {
   "cell_type": "code",
   "execution_count": null,
   "id": "682a9d29",
   "metadata": {},
   "outputs": [],
   "source": []
  }
 ],
 "metadata": {
  "kernelspec": {
   "display_name": "Python 3 (ipykernel)",
   "language": "python",
   "name": "python3"
  },
  "language_info": {
   "codemirror_mode": {
    "name": "ipython",
    "version": 3
   },
   "file_extension": ".py",
   "mimetype": "text/x-python",
   "name": "python",
   "nbconvert_exporter": "python",
   "pygments_lexer": "ipython3",
   "version": "3.11.4"
  }
 },
 "nbformat": 4,
 "nbformat_minor": 5
}
